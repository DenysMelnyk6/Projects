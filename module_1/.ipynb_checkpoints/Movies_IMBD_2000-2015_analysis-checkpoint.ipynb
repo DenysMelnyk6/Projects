{
 "cells": [
  {
   "cell_type": "code",
   "execution_count": 1,
   "metadata": {
    "_cell_guid": "b1076dfc-b9ad-4769-8c92-a6c4dae69d19",
    "_uuid": "8f2839f25d086af736a60e9eeb907d3b93b6e0e5",
    "colab": {},
    "colab_type": "code",
    "id": "U2D2gTdJVp90"
   },
   "outputs": [],
   "source": [
    "import numpy as np\n",
    "import pandas as pd\n",
    "import seaborn as sns\n",
    "import matplotlib.pyplot as plt\n",
    "import collections\n",
    "import itertools as it"
   ]
  },
  {
   "cell_type": "code",
   "execution_count": 64,
   "metadata": {
    "_cell_guid": "79c7e3d0-c299-4dcb-8224-4455121ee9b0",
    "_uuid": "d629ff2d2480ee46fbb7e2d37f6b5fab8052498a",
    "colab": {},
    "colab_type": "code",
    "id": "oyGfxL3eVp9-"
   },
   "outputs": [
    {
     "data": {
      "text/html": [
       "<div>\n",
       "<style scoped>\n",
       "    .dataframe tbody tr th:only-of-type {\n",
       "        vertical-align: middle;\n",
       "    }\n",
       "\n",
       "    .dataframe tbody tr th {\n",
       "        vertical-align: top;\n",
       "    }\n",
       "\n",
       "    .dataframe thead th {\n",
       "        text-align: right;\n",
       "    }\n",
       "</style>\n",
       "<table border=\"1\" class=\"dataframe\">\n",
       "  <thead>\n",
       "    <tr style=\"text-align: right;\">\n",
       "      <th></th>\n",
       "      <th>imdb_id</th>\n",
       "      <th>budget</th>\n",
       "      <th>revenue</th>\n",
       "      <th>original_title</th>\n",
       "      <th>cast</th>\n",
       "      <th>director</th>\n",
       "      <th>tagline</th>\n",
       "      <th>overview</th>\n",
       "      <th>runtime</th>\n",
       "      <th>genres</th>\n",
       "      <th>production_companies</th>\n",
       "      <th>release_date</th>\n",
       "      <th>vote_average</th>\n",
       "      <th>release_year</th>\n",
       "    </tr>\n",
       "  </thead>\n",
       "  <tbody>\n",
       "    <tr>\n",
       "      <th>0</th>\n",
       "      <td>tt0369610</td>\n",
       "      <td>150000000</td>\n",
       "      <td>1513528810</td>\n",
       "      <td>Jurassic World</td>\n",
       "      <td>Chris Pratt|Bryce Dallas Howard|Irrfan Khan|Vi...</td>\n",
       "      <td>Colin Trevorrow</td>\n",
       "      <td>The park is open.</td>\n",
       "      <td>Twenty-two years after the events of Jurassic ...</td>\n",
       "      <td>124</td>\n",
       "      <td>Action|Adventure|Science Fiction|Thriller</td>\n",
       "      <td>Universal Studios|Amblin Entertainment|Legenda...</td>\n",
       "      <td>6/9/2015</td>\n",
       "      <td>6.5</td>\n",
       "      <td>2015</td>\n",
       "    </tr>\n",
       "    <tr>\n",
       "      <th>1</th>\n",
       "      <td>tt1392190</td>\n",
       "      <td>150000000</td>\n",
       "      <td>378436354</td>\n",
       "      <td>Mad Max: Fury Road</td>\n",
       "      <td>Tom Hardy|Charlize Theron|Hugh Keays-Byrne|Nic...</td>\n",
       "      <td>George Miller</td>\n",
       "      <td>What a Lovely Day.</td>\n",
       "      <td>An apocalyptic story set in the furthest reach...</td>\n",
       "      <td>120</td>\n",
       "      <td>Action|Adventure|Science Fiction|Thriller</td>\n",
       "      <td>Village Roadshow Pictures|Kennedy Miller Produ...</td>\n",
       "      <td>5/13/2015</td>\n",
       "      <td>7.1</td>\n",
       "      <td>2015</td>\n",
       "    </tr>\n",
       "    <tr>\n",
       "      <th>2</th>\n",
       "      <td>tt2908446</td>\n",
       "      <td>110000000</td>\n",
       "      <td>295238201</td>\n",
       "      <td>Insurgent</td>\n",
       "      <td>Shailene Woodley|Theo James|Kate Winslet|Ansel...</td>\n",
       "      <td>Robert Schwentke</td>\n",
       "      <td>One Choice Can Destroy You</td>\n",
       "      <td>Beatrice Prior must confront her inner demons ...</td>\n",
       "      <td>119</td>\n",
       "      <td>Adventure|Science Fiction|Thriller</td>\n",
       "      <td>Summit Entertainment|Mandeville Films|Red Wago...</td>\n",
       "      <td>3/18/2015</td>\n",
       "      <td>6.3</td>\n",
       "      <td>2015</td>\n",
       "    </tr>\n",
       "    <tr>\n",
       "      <th>3</th>\n",
       "      <td>tt2488496</td>\n",
       "      <td>200000000</td>\n",
       "      <td>2068178225</td>\n",
       "      <td>Star Wars: The Force Awakens</td>\n",
       "      <td>Harrison Ford|Mark Hamill|Carrie Fisher|Adam D...</td>\n",
       "      <td>J.J. Abrams</td>\n",
       "      <td>Every generation has a story.</td>\n",
       "      <td>Thirty years after defeating the Galactic Empi...</td>\n",
       "      <td>136</td>\n",
       "      <td>Action|Adventure|Science Fiction|Fantasy</td>\n",
       "      <td>Lucasfilm|Truenorth Productions|Bad Robot</td>\n",
       "      <td>12/15/2015</td>\n",
       "      <td>7.5</td>\n",
       "      <td>2015</td>\n",
       "    </tr>\n",
       "    <tr>\n",
       "      <th>4</th>\n",
       "      <td>tt2820852</td>\n",
       "      <td>190000000</td>\n",
       "      <td>1506249360</td>\n",
       "      <td>Furious 7</td>\n",
       "      <td>Vin Diesel|Paul Walker|Jason Statham|Michelle ...</td>\n",
       "      <td>James Wan</td>\n",
       "      <td>Vengeance Hits Home</td>\n",
       "      <td>Deckard Shaw seeks revenge against Dominic Tor...</td>\n",
       "      <td>137</td>\n",
       "      <td>Action|Crime|Thriller</td>\n",
       "      <td>Universal Pictures|Original Film|Media Rights ...</td>\n",
       "      <td>4/1/2015</td>\n",
       "      <td>7.3</td>\n",
       "      <td>2015</td>\n",
       "    </tr>\n",
       "    <tr>\n",
       "      <th>...</th>\n",
       "      <td>...</td>\n",
       "      <td>...</td>\n",
       "      <td>...</td>\n",
       "      <td>...</td>\n",
       "      <td>...</td>\n",
       "      <td>...</td>\n",
       "      <td>...</td>\n",
       "      <td>...</td>\n",
       "      <td>...</td>\n",
       "      <td>...</td>\n",
       "      <td>...</td>\n",
       "      <td>...</td>\n",
       "      <td>...</td>\n",
       "      <td>...</td>\n",
       "    </tr>\n",
       "    <tr>\n",
       "      <th>1884</th>\n",
       "      <td>tt0120903</td>\n",
       "      <td>75000000</td>\n",
       "      <td>157299717</td>\n",
       "      <td>X-Men</td>\n",
       "      <td>Patrick Stewart|Hugh Jackman|Ian McKellen|Hall...</td>\n",
       "      <td>Bryan Singer</td>\n",
       "      <td>Evolution Begins</td>\n",
       "      <td>Two mutants, Rogue and Wolverine, come to a pr...</td>\n",
       "      <td>104</td>\n",
       "      <td>Adventure|Action|Science Fiction</td>\n",
       "      <td>Twentieth Century Fox Film Corporation|Donners...</td>\n",
       "      <td>7/13/2000</td>\n",
       "      <td>6.6</td>\n",
       "      <td>2000</td>\n",
       "    </tr>\n",
       "    <tr>\n",
       "      <th>1885</th>\n",
       "      <td>tt0192255</td>\n",
       "      <td>22000000</td>\n",
       "      <td>13555988</td>\n",
       "      <td>The Little Vampire</td>\n",
       "      <td>Richard E. Grant|Jonathan Lipnicki|Jim Carter|...</td>\n",
       "      <td>Uli Edel</td>\n",
       "      <td>They're not just best friends, they're blood b...</td>\n",
       "      <td>Based on the popular books, the story tells of...</td>\n",
       "      <td>95</td>\n",
       "      <td>Horror|Family|Foreign</td>\n",
       "      <td>New Line Cinema</td>\n",
       "      <td>10/27/2000</td>\n",
       "      <td>6.4</td>\n",
       "      <td>2000</td>\n",
       "    </tr>\n",
       "    <tr>\n",
       "      <th>1886</th>\n",
       "      <td>tt0131704</td>\n",
       "      <td>76000000</td>\n",
       "      <td>35134820</td>\n",
       "      <td>The Adventures of Rocky &amp; Bullwinkle</td>\n",
       "      <td>Rene Russo|Jason Alexander|Piper Perabo|Randy ...</td>\n",
       "      <td>Des McAnuff</td>\n",
       "      <td>This summer it's not the same old bull.</td>\n",
       "      <td>Rocky and Bullwinkle have been living off the ...</td>\n",
       "      <td>88</td>\n",
       "      <td>Adventure|Animation|Action|Comedy|Family</td>\n",
       "      <td>Universal Pictures|Capella International|KC Me...</td>\n",
       "      <td>6/30/2000</td>\n",
       "      <td>4.0</td>\n",
       "      <td>2000</td>\n",
       "    </tr>\n",
       "    <tr>\n",
       "      <th>1887</th>\n",
       "      <td>tt0162983</td>\n",
       "      <td>40000000</td>\n",
       "      <td>36037909</td>\n",
       "      <td>Hanging Up</td>\n",
       "      <td>Meg Ryan|Diane Keaton|Lisa Kudrow|Walter Matth...</td>\n",
       "      <td>Diane Keaton</td>\n",
       "      <td>Every family has a few hang-ups.</td>\n",
       "      <td>A trio of sisters bond over their ambivalence ...</td>\n",
       "      <td>94</td>\n",
       "      <td>Comedy|Drama</td>\n",
       "      <td>Laurence Mark Productions|Columbia Pictures Co...</td>\n",
       "      <td>2/16/2000</td>\n",
       "      <td>5.2</td>\n",
       "      <td>2000</td>\n",
       "    </tr>\n",
       "    <tr>\n",
       "      <th>1888</th>\n",
       "      <td>tt0163676</td>\n",
       "      <td>15000000</td>\n",
       "      <td>5217498</td>\n",
       "      <td>The In Crowd</td>\n",
       "      <td>Susan Ward|Lori Heuring|Matthew Settle|Nathan ...</td>\n",
       "      <td>Mary Lambert</td>\n",
       "      <td>What would you do to get in?</td>\n",
       "      <td>A mentally disturbed young woman takes a job a...</td>\n",
       "      <td>105</td>\n",
       "      <td>Thriller</td>\n",
       "      <td>Warner Bros. Pictures</td>\n",
       "      <td>7/19/2000</td>\n",
       "      <td>5.2</td>\n",
       "      <td>2000</td>\n",
       "    </tr>\n",
       "  </tbody>\n",
       "</table>\n",
       "<p>1889 rows × 14 columns</p>\n",
       "</div>"
      ],
      "text/plain": [
       "        imdb_id     budget     revenue                        original_title  \\\n",
       "0     tt0369610  150000000  1513528810                        Jurassic World   \n",
       "1     tt1392190  150000000   378436354                    Mad Max: Fury Road   \n",
       "2     tt2908446  110000000   295238201                             Insurgent   \n",
       "3     tt2488496  200000000  2068178225          Star Wars: The Force Awakens   \n",
       "4     tt2820852  190000000  1506249360                             Furious 7   \n",
       "...         ...        ...         ...                                   ...   \n",
       "1884  tt0120903   75000000   157299717                                 X-Men   \n",
       "1885  tt0192255   22000000    13555988                    The Little Vampire   \n",
       "1886  tt0131704   76000000    35134820  The Adventures of Rocky & Bullwinkle   \n",
       "1887  tt0162983   40000000    36037909                            Hanging Up   \n",
       "1888  tt0163676   15000000     5217498                          The In Crowd   \n",
       "\n",
       "                                                   cast          director  \\\n",
       "0     Chris Pratt|Bryce Dallas Howard|Irrfan Khan|Vi...   Colin Trevorrow   \n",
       "1     Tom Hardy|Charlize Theron|Hugh Keays-Byrne|Nic...     George Miller   \n",
       "2     Shailene Woodley|Theo James|Kate Winslet|Ansel...  Robert Schwentke   \n",
       "3     Harrison Ford|Mark Hamill|Carrie Fisher|Adam D...       J.J. Abrams   \n",
       "4     Vin Diesel|Paul Walker|Jason Statham|Michelle ...         James Wan   \n",
       "...                                                 ...               ...   \n",
       "1884  Patrick Stewart|Hugh Jackman|Ian McKellen|Hall...      Bryan Singer   \n",
       "1885  Richard E. Grant|Jonathan Lipnicki|Jim Carter|...          Uli Edel   \n",
       "1886  Rene Russo|Jason Alexander|Piper Perabo|Randy ...       Des McAnuff   \n",
       "1887  Meg Ryan|Diane Keaton|Lisa Kudrow|Walter Matth...      Diane Keaton   \n",
       "1888  Susan Ward|Lori Heuring|Matthew Settle|Nathan ...      Mary Lambert   \n",
       "\n",
       "                                                tagline  \\\n",
       "0                                     The park is open.   \n",
       "1                                    What a Lovely Day.   \n",
       "2                            One Choice Can Destroy You   \n",
       "3                         Every generation has a story.   \n",
       "4                                   Vengeance Hits Home   \n",
       "...                                                 ...   \n",
       "1884                                   Evolution Begins   \n",
       "1885  They're not just best friends, they're blood b...   \n",
       "1886            This summer it's not the same old bull.   \n",
       "1887                   Every family has a few hang-ups.   \n",
       "1888                       What would you do to get in?   \n",
       "\n",
       "                                               overview  runtime  \\\n",
       "0     Twenty-two years after the events of Jurassic ...      124   \n",
       "1     An apocalyptic story set in the furthest reach...      120   \n",
       "2     Beatrice Prior must confront her inner demons ...      119   \n",
       "3     Thirty years after defeating the Galactic Empi...      136   \n",
       "4     Deckard Shaw seeks revenge against Dominic Tor...      137   \n",
       "...                                                 ...      ...   \n",
       "1884  Two mutants, Rogue and Wolverine, come to a pr...      104   \n",
       "1885  Based on the popular books, the story tells of...       95   \n",
       "1886  Rocky and Bullwinkle have been living off the ...       88   \n",
       "1887  A trio of sisters bond over their ambivalence ...       94   \n",
       "1888  A mentally disturbed young woman takes a job a...      105   \n",
       "\n",
       "                                         genres  \\\n",
       "0     Action|Adventure|Science Fiction|Thriller   \n",
       "1     Action|Adventure|Science Fiction|Thriller   \n",
       "2            Adventure|Science Fiction|Thriller   \n",
       "3      Action|Adventure|Science Fiction|Fantasy   \n",
       "4                         Action|Crime|Thriller   \n",
       "...                                         ...   \n",
       "1884           Adventure|Action|Science Fiction   \n",
       "1885                      Horror|Family|Foreign   \n",
       "1886   Adventure|Animation|Action|Comedy|Family   \n",
       "1887                               Comedy|Drama   \n",
       "1888                                   Thriller   \n",
       "\n",
       "                                   production_companies release_date  \\\n",
       "0     Universal Studios|Amblin Entertainment|Legenda...     6/9/2015   \n",
       "1     Village Roadshow Pictures|Kennedy Miller Produ...    5/13/2015   \n",
       "2     Summit Entertainment|Mandeville Films|Red Wago...    3/18/2015   \n",
       "3             Lucasfilm|Truenorth Productions|Bad Robot   12/15/2015   \n",
       "4     Universal Pictures|Original Film|Media Rights ...     4/1/2015   \n",
       "...                                                 ...          ...   \n",
       "1884  Twentieth Century Fox Film Corporation|Donners...    7/13/2000   \n",
       "1885                                    New Line Cinema   10/27/2000   \n",
       "1886  Universal Pictures|Capella International|KC Me...    6/30/2000   \n",
       "1887  Laurence Mark Productions|Columbia Pictures Co...    2/16/2000   \n",
       "1888                              Warner Bros. Pictures    7/19/2000   \n",
       "\n",
       "      vote_average  release_year  \n",
       "0              6.5          2015  \n",
       "1              7.1          2015  \n",
       "2              6.3          2015  \n",
       "3              7.5          2015  \n",
       "4              7.3          2015  \n",
       "...            ...           ...  \n",
       "1884           6.6          2000  \n",
       "1885           6.4          2000  \n",
       "1886           4.0          2000  \n",
       "1887           5.2          2000  \n",
       "1888           5.2          2000  \n",
       "\n",
       "[1889 rows x 14 columns]"
      ]
     },
     "execution_count": 64,
     "metadata": {},
     "output_type": "execute_result"
    }
   ],
   "source": [
    "data = pd.read_csv('movie_bd_v5.csv')\n",
    "data"
   ]
  },
  {
   "cell_type": "code",
   "execution_count": 3,
   "metadata": {
    "colab": {},
    "colab_type": "code",
    "id": "CoYUnagMVp-C"
   },
   "outputs": [
    {
     "data": {
      "text/html": [
       "<div>\n",
       "<style scoped>\n",
       "    .dataframe tbody tr th:only-of-type {\n",
       "        vertical-align: middle;\n",
       "    }\n",
       "\n",
       "    .dataframe tbody tr th {\n",
       "        vertical-align: top;\n",
       "    }\n",
       "\n",
       "    .dataframe thead th {\n",
       "        text-align: right;\n",
       "    }\n",
       "</style>\n",
       "<table border=\"1\" class=\"dataframe\">\n",
       "  <thead>\n",
       "    <tr style=\"text-align: right;\">\n",
       "      <th></th>\n",
       "      <th>budget</th>\n",
       "      <th>revenue</th>\n",
       "      <th>runtime</th>\n",
       "      <th>vote_average</th>\n",
       "      <th>release_year</th>\n",
       "    </tr>\n",
       "  </thead>\n",
       "  <tbody>\n",
       "    <tr>\n",
       "      <th>count</th>\n",
       "      <td>1.889000e+03</td>\n",
       "      <td>1.889000e+03</td>\n",
       "      <td>1889.000000</td>\n",
       "      <td>1889.000000</td>\n",
       "      <td>1889.000000</td>\n",
       "    </tr>\n",
       "    <tr>\n",
       "      <th>mean</th>\n",
       "      <td>5.431083e+07</td>\n",
       "      <td>1.553653e+08</td>\n",
       "      <td>109.658549</td>\n",
       "      <td>6.140762</td>\n",
       "      <td>2007.860773</td>\n",
       "    </tr>\n",
       "    <tr>\n",
       "      <th>std</th>\n",
       "      <td>4.858721e+07</td>\n",
       "      <td>2.146698e+08</td>\n",
       "      <td>18.017041</td>\n",
       "      <td>0.764763</td>\n",
       "      <td>4.468841</td>\n",
       "    </tr>\n",
       "    <tr>\n",
       "      <th>min</th>\n",
       "      <td>5.000000e+06</td>\n",
       "      <td>2.033165e+06</td>\n",
       "      <td>63.000000</td>\n",
       "      <td>3.300000</td>\n",
       "      <td>2000.000000</td>\n",
       "    </tr>\n",
       "    <tr>\n",
       "      <th>25%</th>\n",
       "      <td>2.000000e+07</td>\n",
       "      <td>3.456058e+07</td>\n",
       "      <td>97.000000</td>\n",
       "      <td>5.600000</td>\n",
       "      <td>2004.000000</td>\n",
       "    </tr>\n",
       "    <tr>\n",
       "      <th>50%</th>\n",
       "      <td>3.800000e+07</td>\n",
       "      <td>8.361541e+07</td>\n",
       "      <td>107.000000</td>\n",
       "      <td>6.100000</td>\n",
       "      <td>2008.000000</td>\n",
       "    </tr>\n",
       "    <tr>\n",
       "      <th>75%</th>\n",
       "      <td>7.200000e+07</td>\n",
       "      <td>1.782626e+08</td>\n",
       "      <td>120.000000</td>\n",
       "      <td>6.600000</td>\n",
       "      <td>2012.000000</td>\n",
       "    </tr>\n",
       "    <tr>\n",
       "      <th>max</th>\n",
       "      <td>3.800000e+08</td>\n",
       "      <td>2.781506e+09</td>\n",
       "      <td>214.000000</td>\n",
       "      <td>8.100000</td>\n",
       "      <td>2015.000000</td>\n",
       "    </tr>\n",
       "  </tbody>\n",
       "</table>\n",
       "</div>"
      ],
      "text/plain": [
       "             budget       revenue      runtime  vote_average  release_year\n",
       "count  1.889000e+03  1.889000e+03  1889.000000   1889.000000   1889.000000\n",
       "mean   5.431083e+07  1.553653e+08   109.658549      6.140762   2007.860773\n",
       "std    4.858721e+07  2.146698e+08    18.017041      0.764763      4.468841\n",
       "min    5.000000e+06  2.033165e+06    63.000000      3.300000   2000.000000\n",
       "25%    2.000000e+07  3.456058e+07    97.000000      5.600000   2004.000000\n",
       "50%    3.800000e+07  8.361541e+07   107.000000      6.100000   2008.000000\n",
       "75%    7.200000e+07  1.782626e+08   120.000000      6.600000   2012.000000\n",
       "max    3.800000e+08  2.781506e+09   214.000000      8.100000   2015.000000"
      ]
     },
     "execution_count": 3,
     "metadata": {},
     "output_type": "execute_result"
    }
   ],
   "source": [
    "data.describe()"
   ]
  },
  {
   "cell_type": "markdown",
   "metadata": {
    "colab_type": "text",
    "id": "DTIt7ezGVp-G"
   },
   "source": [
    "# Предобработка"
   ]
  },
  {
   "cell_type": "code",
   "execution_count": 4,
   "metadata": {
    "colab": {},
    "colab_type": "code",
    "id": "jNb40DwKVp-H"
   },
   "outputs": [],
   "source": [
    "answers = {}  # dictionary with the searched data\n",
    "\n",
    "'''Creating an extra column for profit of movies:'''\n",
    "data['profit'] = data['revenue'] - data['budget']\n",
    "\n",
    "\n",
    "def separation(data):\n",
    "    '''Function for separation of certain data in the dataset.\n",
    "       Function takes in a string and returns a\n",
    "       list of elements of the string'''\n",
    "    if '|' in data:\n",
    "        data = data.split('|')\n",
    "    return data"
   ]
  },
  {
   "cell_type": "markdown",
   "metadata": {
    "colab_type": "text",
    "id": "YxZaH-nPVp-L"
   },
   "source": [
    "# 1. У какого фильма из списка самый большой бюджет?\n",
    "# 1. Which movie has the highest budget?"
   ]
  },
  {
   "cell_type": "code",
   "execution_count": 5,
   "metadata": {},
   "outputs": [
    {
     "data": {
      "text/html": [
       "<div>\n",
       "<style scoped>\n",
       "    .dataframe tbody tr th:only-of-type {\n",
       "        vertical-align: middle;\n",
       "    }\n",
       "\n",
       "    .dataframe tbody tr th {\n",
       "        vertical-align: top;\n",
       "    }\n",
       "\n",
       "    .dataframe thead th {\n",
       "        text-align: right;\n",
       "    }\n",
       "</style>\n",
       "<table border=\"1\" class=\"dataframe\">\n",
       "  <thead>\n",
       "    <tr style=\"text-align: right;\">\n",
       "      <th></th>\n",
       "      <th>imdb_id</th>\n",
       "      <th>budget</th>\n",
       "      <th>revenue</th>\n",
       "      <th>original_title</th>\n",
       "      <th>cast</th>\n",
       "      <th>director</th>\n",
       "      <th>tagline</th>\n",
       "      <th>overview</th>\n",
       "      <th>runtime</th>\n",
       "      <th>genres</th>\n",
       "      <th>production_companies</th>\n",
       "      <th>release_date</th>\n",
       "      <th>vote_average</th>\n",
       "      <th>release_year</th>\n",
       "      <th>profit</th>\n",
       "    </tr>\n",
       "  </thead>\n",
       "  <tbody>\n",
       "    <tr>\n",
       "      <th>723</th>\n",
       "      <td>tt1298650</td>\n",
       "      <td>380000000</td>\n",
       "      <td>1021683000</td>\n",
       "      <td>Pirates of the Caribbean: On Stranger Tides</td>\n",
       "      <td>Johnny Depp|PenÃ©lope Cruz|Geoffrey Rush|Ian M...</td>\n",
       "      <td>Rob Marshall</td>\n",
       "      <td>Live Forever Or Die Trying.</td>\n",
       "      <td>Captain Jack Sparrow crosses paths with a woma...</td>\n",
       "      <td>136</td>\n",
       "      <td>Adventure|Action|Fantasy</td>\n",
       "      <td>Walt Disney Pictures|Jerry Bruckheimer Films|M...</td>\n",
       "      <td>5/11/2011</td>\n",
       "      <td>6.3</td>\n",
       "      <td>2011</td>\n",
       "      <td>641683000</td>\n",
       "    </tr>\n",
       "  </tbody>\n",
       "</table>\n",
       "</div>"
      ],
      "text/plain": [
       "       imdb_id     budget     revenue  \\\n",
       "723  tt1298650  380000000  1021683000   \n",
       "\n",
       "                                  original_title  \\\n",
       "723  Pirates of the Caribbean: On Stranger Tides   \n",
       "\n",
       "                                                  cast      director  \\\n",
       "723  Johnny Depp|PenÃ©lope Cruz|Geoffrey Rush|Ian M...  Rob Marshall   \n",
       "\n",
       "                         tagline  \\\n",
       "723  Live Forever Or Die Trying.   \n",
       "\n",
       "                                              overview  runtime  \\\n",
       "723  Captain Jack Sparrow crosses paths with a woma...      136   \n",
       "\n",
       "                       genres  \\\n",
       "723  Adventure|Action|Fantasy   \n",
       "\n",
       "                                  production_companies release_date  \\\n",
       "723  Walt Disney Pictures|Jerry Bruckheimer Films|M...    5/11/2011   \n",
       "\n",
       "     vote_average  release_year     profit  \n",
       "723           6.3          2011  641683000  "
      ]
     },
     "execution_count": 5,
     "metadata": {},
     "output_type": "execute_result"
    }
   ],
   "source": [
    "highest_budget = data.loc[data['budget'] == data['budget'].max()]\n",
    "highest_budget"
   ]
  },
  {
   "cell_type": "code",
   "execution_count": 6,
   "metadata": {
    "colab": {},
    "colab_type": "code",
    "id": "uVnXAY5RVp-O"
   },
   "outputs": [],
   "source": [
    "answers['Highest budget'] = 'Pirates of the Caribbean: On Stranger Tides'"
   ]
  },
  {
   "cell_type": "markdown",
   "metadata": {
    "colab_type": "text",
    "id": "FNRbbI3vVp-c"
   },
   "source": [
    "# 2. Какой из фильмов самый длительный (в минутах)?\n",
    "# 2. Which movie is the longest(in minutes)?"
   ]
  },
  {
   "cell_type": "code",
   "execution_count": 7,
   "metadata": {},
   "outputs": [
    {
     "data": {
      "text/html": [
       "<div>\n",
       "<style scoped>\n",
       "    .dataframe tbody tr th:only-of-type {\n",
       "        vertical-align: middle;\n",
       "    }\n",
       "\n",
       "    .dataframe tbody tr th {\n",
       "        vertical-align: top;\n",
       "    }\n",
       "\n",
       "    .dataframe thead th {\n",
       "        text-align: right;\n",
       "    }\n",
       "</style>\n",
       "<table border=\"1\" class=\"dataframe\">\n",
       "  <thead>\n",
       "    <tr style=\"text-align: right;\">\n",
       "      <th></th>\n",
       "      <th>imdb_id</th>\n",
       "      <th>budget</th>\n",
       "      <th>revenue</th>\n",
       "      <th>original_title</th>\n",
       "      <th>cast</th>\n",
       "      <th>director</th>\n",
       "      <th>tagline</th>\n",
       "      <th>overview</th>\n",
       "      <th>runtime</th>\n",
       "      <th>genres</th>\n",
       "      <th>production_companies</th>\n",
       "      <th>release_date</th>\n",
       "      <th>vote_average</th>\n",
       "      <th>release_year</th>\n",
       "      <th>profit</th>\n",
       "    </tr>\n",
       "  </thead>\n",
       "  <tbody>\n",
       "    <tr>\n",
       "      <th>1157</th>\n",
       "      <td>tt0279111</td>\n",
       "      <td>56000000</td>\n",
       "      <td>12923936</td>\n",
       "      <td>Gods and Generals</td>\n",
       "      <td>Stephen Lang|Jeff Daniels|Robert Duvall|Kevin ...</td>\n",
       "      <td>Ronald F. Maxwell</td>\n",
       "      <td>The nations heart was touched by...</td>\n",
       "      <td>The film centers mostly around the personal an...</td>\n",
       "      <td>214</td>\n",
       "      <td>Drama|History|War</td>\n",
       "      <td>Turner Pictures|Antietam Filmworks</td>\n",
       "      <td>2/21/2003</td>\n",
       "      <td>5.8</td>\n",
       "      <td>2003</td>\n",
       "      <td>-43076064</td>\n",
       "    </tr>\n",
       "  </tbody>\n",
       "</table>\n",
       "</div>"
      ],
      "text/plain": [
       "        imdb_id    budget   revenue     original_title  \\\n",
       "1157  tt0279111  56000000  12923936  Gods and Generals   \n",
       "\n",
       "                                                   cast           director  \\\n",
       "1157  Stephen Lang|Jeff Daniels|Robert Duvall|Kevin ...  Ronald F. Maxwell   \n",
       "\n",
       "                                  tagline  \\\n",
       "1157  The nations heart was touched by...   \n",
       "\n",
       "                                               overview  runtime  \\\n",
       "1157  The film centers mostly around the personal an...      214   \n",
       "\n",
       "                 genres                production_companies release_date  \\\n",
       "1157  Drama|History|War  Turner Pictures|Antietam Filmworks    2/21/2003   \n",
       "\n",
       "      vote_average  release_year    profit  \n",
       "1157           5.8          2003 -43076064  "
      ]
     },
     "execution_count": 7,
     "metadata": {},
     "output_type": "execute_result"
    }
   ],
   "source": [
    "longest_movie = data.loc[data['runtime'] == data['runtime'].max()]\n",
    "longest_movie"
   ]
  },
  {
   "cell_type": "code",
   "execution_count": 8,
   "metadata": {
    "colab": {},
    "colab_type": "code",
    "id": "vHAoEXNTVp-d"
   },
   "outputs": [],
   "source": [
    "answers['Longest movie'] = 'Gods and Generals'"
   ]
  },
  {
   "cell_type": "markdown",
   "metadata": {
    "colab_type": "text",
    "id": "bapLlpW8Vp-k"
   },
   "source": [
    "# 3. Какой из фильмов самый короткий (в минутах)?\n",
    "# 3. Which movie is the shortest(in minutes)?"
   ]
  },
  {
   "cell_type": "code",
   "execution_count": 9,
   "metadata": {},
   "outputs": [
    {
     "data": {
      "text/html": [
       "<div>\n",
       "<style scoped>\n",
       "    .dataframe tbody tr th:only-of-type {\n",
       "        vertical-align: middle;\n",
       "    }\n",
       "\n",
       "    .dataframe tbody tr th {\n",
       "        vertical-align: top;\n",
       "    }\n",
       "\n",
       "    .dataframe thead th {\n",
       "        text-align: right;\n",
       "    }\n",
       "</style>\n",
       "<table border=\"1\" class=\"dataframe\">\n",
       "  <thead>\n",
       "    <tr style=\"text-align: right;\">\n",
       "      <th></th>\n",
       "      <th>imdb_id</th>\n",
       "      <th>budget</th>\n",
       "      <th>revenue</th>\n",
       "      <th>original_title</th>\n",
       "      <th>cast</th>\n",
       "      <th>director</th>\n",
       "      <th>tagline</th>\n",
       "      <th>overview</th>\n",
       "      <th>runtime</th>\n",
       "      <th>genres</th>\n",
       "      <th>production_companies</th>\n",
       "      <th>release_date</th>\n",
       "      <th>vote_average</th>\n",
       "      <th>release_year</th>\n",
       "      <th>profit</th>\n",
       "    </tr>\n",
       "  </thead>\n",
       "  <tbody>\n",
       "    <tr>\n",
       "      <th>768</th>\n",
       "      <td>tt1449283</td>\n",
       "      <td>30000000</td>\n",
       "      <td>14460000</td>\n",
       "      <td>Winnie the Pooh</td>\n",
       "      <td>Jim Cummings|Travis Oates|Jim Cummings|Bud Luc...</td>\n",
       "      <td>Stephen Anderson|Don Hall</td>\n",
       "      <td>Oh Pooh.</td>\n",
       "      <td>During an ordinary day in Hundred Acre Wood, W...</td>\n",
       "      <td>63</td>\n",
       "      <td>Animation|Family</td>\n",
       "      <td>Walt Disney Pictures|Walt Disney Animation Stu...</td>\n",
       "      <td>4/13/2011</td>\n",
       "      <td>6.8</td>\n",
       "      <td>2011</td>\n",
       "      <td>-15540000</td>\n",
       "    </tr>\n",
       "  </tbody>\n",
       "</table>\n",
       "</div>"
      ],
      "text/plain": [
       "       imdb_id    budget   revenue   original_title  \\\n",
       "768  tt1449283  30000000  14460000  Winnie the Pooh   \n",
       "\n",
       "                                                  cast  \\\n",
       "768  Jim Cummings|Travis Oates|Jim Cummings|Bud Luc...   \n",
       "\n",
       "                      director   tagline  \\\n",
       "768  Stephen Anderson|Don Hall  Oh Pooh.   \n",
       "\n",
       "                                              overview  runtime  \\\n",
       "768  During an ordinary day in Hundred Acre Wood, W...       63   \n",
       "\n",
       "               genres                               production_companies  \\\n",
       "768  Animation|Family  Walt Disney Pictures|Walt Disney Animation Stu...   \n",
       "\n",
       "    release_date  vote_average  release_year    profit  \n",
       "768    4/13/2011           6.8          2011 -15540000  "
      ]
     },
     "execution_count": 9,
     "metadata": {},
     "output_type": "execute_result"
    }
   ],
   "source": [
    "shortest_movie = data.loc[data['runtime'] == data['runtime'].min()]\n",
    "shortest_movie"
   ]
  },
  {
   "cell_type": "code",
   "execution_count": 10,
   "metadata": {},
   "outputs": [],
   "source": [
    "answers['Shortest movie'] = 'Winnie the Pooh'"
   ]
  },
  {
   "cell_type": "markdown",
   "metadata": {
    "colab_type": "text",
    "id": "TfQbxbfNVp-p"
   },
   "source": [
    "# 4. Какова средняя длительность фильмов?\n",
    "# 4. What is the mean runtime of the movies?"
   ]
  },
  {
   "cell_type": "code",
   "execution_count": 11,
   "metadata": {},
   "outputs": [
    {
     "data": {
      "text/plain": [
       "109.6585494970884"
      ]
     },
     "execution_count": 11,
     "metadata": {},
     "output_type": "execute_result"
    }
   ],
   "source": [
    "mean_runtime = data.runtime.mean()\n",
    "mean_runtime"
   ]
  },
  {
   "cell_type": "code",
   "execution_count": 12,
   "metadata": {},
   "outputs": [],
   "source": [
    "answers['Mean runtime'] = '110 minutes'"
   ]
  },
  {
   "cell_type": "markdown",
   "metadata": {
    "colab_type": "text",
    "id": "r5TvbnT_Vp-u"
   },
   "source": [
    "# 5. Каково медианное значение длительности фильмов? \n",
    "# 5. What is the median runtime of the movies?"
   ]
  },
  {
   "cell_type": "code",
   "execution_count": 13,
   "metadata": {},
   "outputs": [
    {
     "data": {
      "text/plain": [
       "107.0"
      ]
     },
     "execution_count": 13,
     "metadata": {},
     "output_type": "execute_result"
    }
   ],
   "source": [
    "median_runtime = data.runtime.median()\n",
    "median_runtime"
   ]
  },
  {
   "cell_type": "code",
   "execution_count": 14,
   "metadata": {},
   "outputs": [],
   "source": [
    "answers['Median runtime'] = '107 minutes'"
   ]
  },
  {
   "cell_type": "markdown",
   "metadata": {
    "colab_type": "text",
    "id": "39P-deDSVp-y"
   },
   "source": [
    "# 6. Какой самый прибыльный фильм?\n",
    "# 6. Which movie has the highest profit(net gain)?"
   ]
  },
  {
   "cell_type": "code",
   "execution_count": 15,
   "metadata": {},
   "outputs": [
    {
     "data": {
      "text/html": [
       "<div>\n",
       "<style scoped>\n",
       "    .dataframe tbody tr th:only-of-type {\n",
       "        vertical-align: middle;\n",
       "    }\n",
       "\n",
       "    .dataframe tbody tr th {\n",
       "        vertical-align: top;\n",
       "    }\n",
       "\n",
       "    .dataframe thead th {\n",
       "        text-align: right;\n",
       "    }\n",
       "</style>\n",
       "<table border=\"1\" class=\"dataframe\">\n",
       "  <thead>\n",
       "    <tr style=\"text-align: right;\">\n",
       "      <th></th>\n",
       "      <th>imdb_id</th>\n",
       "      <th>budget</th>\n",
       "      <th>revenue</th>\n",
       "      <th>original_title</th>\n",
       "      <th>cast</th>\n",
       "      <th>director</th>\n",
       "      <th>tagline</th>\n",
       "      <th>overview</th>\n",
       "      <th>runtime</th>\n",
       "      <th>genres</th>\n",
       "      <th>production_companies</th>\n",
       "      <th>release_date</th>\n",
       "      <th>vote_average</th>\n",
       "      <th>release_year</th>\n",
       "      <th>profit</th>\n",
       "    </tr>\n",
       "  </thead>\n",
       "  <tbody>\n",
       "    <tr>\n",
       "      <th>239</th>\n",
       "      <td>tt0499549</td>\n",
       "      <td>237000000</td>\n",
       "      <td>2781505847</td>\n",
       "      <td>Avatar</td>\n",
       "      <td>Sam Worthington|Zoe Saldana|Sigourney Weaver|S...</td>\n",
       "      <td>James Cameron</td>\n",
       "      <td>Enter the World of Pandora.</td>\n",
       "      <td>In the 22nd century, a paraplegic Marine is di...</td>\n",
       "      <td>162</td>\n",
       "      <td>Action|Adventure|Fantasy|Science Fiction</td>\n",
       "      <td>Ingenious Film Partners|Twentieth Century Fox ...</td>\n",
       "      <td>12/10/2009</td>\n",
       "      <td>7.1</td>\n",
       "      <td>2009</td>\n",
       "      <td>2544505847</td>\n",
       "    </tr>\n",
       "  </tbody>\n",
       "</table>\n",
       "</div>"
      ],
      "text/plain": [
       "       imdb_id     budget     revenue original_title  \\\n",
       "239  tt0499549  237000000  2781505847         Avatar   \n",
       "\n",
       "                                                  cast       director  \\\n",
       "239  Sam Worthington|Zoe Saldana|Sigourney Weaver|S...  James Cameron   \n",
       "\n",
       "                         tagline  \\\n",
       "239  Enter the World of Pandora.   \n",
       "\n",
       "                                              overview  runtime  \\\n",
       "239  In the 22nd century, a paraplegic Marine is di...      162   \n",
       "\n",
       "                                       genres  \\\n",
       "239  Action|Adventure|Fantasy|Science Fiction   \n",
       "\n",
       "                                  production_companies release_date  \\\n",
       "239  Ingenious Film Partners|Twentieth Century Fox ...   12/10/2009   \n",
       "\n",
       "     vote_average  release_year      profit  \n",
       "239           7.1          2009  2544505847  "
      ]
     },
     "execution_count": 15,
     "metadata": {},
     "output_type": "execute_result"
    }
   ],
   "source": [
    "most_profitable = data[data['profit'] == data['profit'].max()]\n",
    "most_profitable"
   ]
  },
  {
   "cell_type": "code",
   "execution_count": 16,
   "metadata": {},
   "outputs": [],
   "source": [
    "answers['Most profitable movie'] = 'Avatar'"
   ]
  },
  {
   "cell_type": "markdown",
   "metadata": {
    "colab_type": "text",
    "id": "M99JmIX4Vp-2"
   },
   "source": [
    "# 7. Какой фильм самый убыточный? \n",
    "# 7. Which movie has the highest net loss?"
   ]
  },
  {
   "cell_type": "code",
   "execution_count": 17,
   "metadata": {},
   "outputs": [
    {
     "data": {
      "text/html": [
       "<div>\n",
       "<style scoped>\n",
       "    .dataframe tbody tr th:only-of-type {\n",
       "        vertical-align: middle;\n",
       "    }\n",
       "\n",
       "    .dataframe tbody tr th {\n",
       "        vertical-align: top;\n",
       "    }\n",
       "\n",
       "    .dataframe thead th {\n",
       "        text-align: right;\n",
       "    }\n",
       "</style>\n",
       "<table border=\"1\" class=\"dataframe\">\n",
       "  <thead>\n",
       "    <tr style=\"text-align: right;\">\n",
       "      <th></th>\n",
       "      <th>imdb_id</th>\n",
       "      <th>budget</th>\n",
       "      <th>revenue</th>\n",
       "      <th>original_title</th>\n",
       "      <th>cast</th>\n",
       "      <th>director</th>\n",
       "      <th>tagline</th>\n",
       "      <th>overview</th>\n",
       "      <th>runtime</th>\n",
       "      <th>genres</th>\n",
       "      <th>production_companies</th>\n",
       "      <th>release_date</th>\n",
       "      <th>vote_average</th>\n",
       "      <th>release_year</th>\n",
       "      <th>profit</th>\n",
       "    </tr>\n",
       "  </thead>\n",
       "  <tbody>\n",
       "    <tr>\n",
       "      <th>1245</th>\n",
       "      <td>tt1210819</td>\n",
       "      <td>255000000</td>\n",
       "      <td>89289910</td>\n",
       "      <td>The Lone Ranger</td>\n",
       "      <td>Johnny Depp|Armie Hammer|William Fichtner|Hele...</td>\n",
       "      <td>Gore Verbinski</td>\n",
       "      <td>Never Take Off the Mask</td>\n",
       "      <td>The Texas Rangers chase down a gang of outlaws...</td>\n",
       "      <td>149</td>\n",
       "      <td>Action|Adventure|Western</td>\n",
       "      <td>Walt Disney Pictures|Jerry Bruckheimer Films|I...</td>\n",
       "      <td>7/3/2013</td>\n",
       "      <td>6.0</td>\n",
       "      <td>2013</td>\n",
       "      <td>-165710090</td>\n",
       "    </tr>\n",
       "  </tbody>\n",
       "</table>\n",
       "</div>"
      ],
      "text/plain": [
       "        imdb_id     budget   revenue   original_title  \\\n",
       "1245  tt1210819  255000000  89289910  The Lone Ranger   \n",
       "\n",
       "                                                   cast        director  \\\n",
       "1245  Johnny Depp|Armie Hammer|William Fichtner|Hele...  Gore Verbinski   \n",
       "\n",
       "                      tagline  \\\n",
       "1245  Never Take Off the Mask   \n",
       "\n",
       "                                               overview  runtime  \\\n",
       "1245  The Texas Rangers chase down a gang of outlaws...      149   \n",
       "\n",
       "                        genres  \\\n",
       "1245  Action|Adventure|Western   \n",
       "\n",
       "                                   production_companies release_date  \\\n",
       "1245  Walt Disney Pictures|Jerry Bruckheimer Films|I...     7/3/2013   \n",
       "\n",
       "      vote_average  release_year     profit  \n",
       "1245           6.0          2013 -165710090  "
      ]
     },
     "execution_count": 17,
     "metadata": {},
     "output_type": "execute_result"
    }
   ],
   "source": [
    "least_profitable = data[data['profit'] == data['profit'].min()]\n",
    "least_profitable"
   ]
  },
  {
   "cell_type": "code",
   "execution_count": 18,
   "metadata": {},
   "outputs": [],
   "source": [
    "answers['Least profitable movie'] = 'The Lone Ranger'"
   ]
  },
  {
   "cell_type": "markdown",
   "metadata": {
    "colab_type": "text",
    "id": "wEOM5ERVVp-6"
   },
   "source": [
    "# 8. У скольких фильмов из датасета объем сборов оказался выше бюджета?\n",
    "# 8. How many movies from the dataset have a revenue highier than the budget?"
   ]
  },
  {
   "cell_type": "code",
   "execution_count": 19,
   "metadata": {},
   "outputs": [
    {
     "data": {
      "text/plain": [
       "imdb_id                 1478\n",
       "budget                  1478\n",
       "revenue                 1478\n",
       "original_title          1478\n",
       "cast                    1478\n",
       "director                1478\n",
       "tagline                 1478\n",
       "overview                1478\n",
       "runtime                 1478\n",
       "genres                  1478\n",
       "production_companies    1478\n",
       "release_date            1478\n",
       "vote_average            1478\n",
       "release_year            1478\n",
       "profit                  1478\n",
       "dtype: int64"
      ]
     },
     "execution_count": 19,
     "metadata": {},
     "output_type": "execute_result"
    }
   ],
   "source": [
    "net_gain = data.query('profit>0').count()\n",
    "net_gain"
   ]
  },
  {
   "cell_type": "code",
   "execution_count": 20,
   "metadata": {},
   "outputs": [],
   "source": [
    "answers['Movies with net gain'] = '1478'"
   ]
  },
  {
   "cell_type": "markdown",
   "metadata": {
    "colab_type": "text",
    "id": "xhpspA9KVp_A"
   },
   "source": [
    "# 9. Какой фильм оказался самым кассовым в 2008 году?\n",
    "# 9. Which movie had the highest revenue in 2008?"
   ]
  },
  {
   "cell_type": "code",
   "execution_count": 21,
   "metadata": {},
   "outputs": [
    {
     "data": {
      "text/html": [
       "<div>\n",
       "<style scoped>\n",
       "    .dataframe tbody tr th:only-of-type {\n",
       "        vertical-align: middle;\n",
       "    }\n",
       "\n",
       "    .dataframe tbody tr th {\n",
       "        vertical-align: top;\n",
       "    }\n",
       "\n",
       "    .dataframe thead th {\n",
       "        text-align: right;\n",
       "    }\n",
       "</style>\n",
       "<table border=\"1\" class=\"dataframe\">\n",
       "  <thead>\n",
       "    <tr style=\"text-align: right;\">\n",
       "      <th></th>\n",
       "      <th>imdb_id</th>\n",
       "      <th>budget</th>\n",
       "      <th>revenue</th>\n",
       "      <th>original_title</th>\n",
       "      <th>cast</th>\n",
       "      <th>director</th>\n",
       "      <th>tagline</th>\n",
       "      <th>overview</th>\n",
       "      <th>runtime</th>\n",
       "      <th>genres</th>\n",
       "      <th>production_companies</th>\n",
       "      <th>release_date</th>\n",
       "      <th>vote_average</th>\n",
       "      <th>release_year</th>\n",
       "      <th>profit</th>\n",
       "    </tr>\n",
       "  </thead>\n",
       "  <tbody>\n",
       "    <tr>\n",
       "      <th>599</th>\n",
       "      <td>tt0468569</td>\n",
       "      <td>185000000</td>\n",
       "      <td>1001921825</td>\n",
       "      <td>The Dark Knight</td>\n",
       "      <td>Christian Bale|Michael Caine|Heath Ledger|Aaro...</td>\n",
       "      <td>Christopher Nolan</td>\n",
       "      <td>Why So Serious?</td>\n",
       "      <td>Batman raises the stakes in his war on crime. ...</td>\n",
       "      <td>152</td>\n",
       "      <td>Drama|Action|Crime|Thriller</td>\n",
       "      <td>DC Comics|Legendary Pictures|Warner Bros.|Syncopy</td>\n",
       "      <td>7/16/2008</td>\n",
       "      <td>8.1</td>\n",
       "      <td>2008</td>\n",
       "      <td>816921825</td>\n",
       "    </tr>\n",
       "  </tbody>\n",
       "</table>\n",
       "</div>"
      ],
      "text/plain": [
       "       imdb_id     budget     revenue   original_title  \\\n",
       "599  tt0468569  185000000  1001921825  The Dark Knight   \n",
       "\n",
       "                                                  cast           director  \\\n",
       "599  Christian Bale|Michael Caine|Heath Ledger|Aaro...  Christopher Nolan   \n",
       "\n",
       "             tagline                                           overview  \\\n",
       "599  Why So Serious?  Batman raises the stakes in his war on crime. ...   \n",
       "\n",
       "     runtime                       genres  \\\n",
       "599      152  Drama|Action|Crime|Thriller   \n",
       "\n",
       "                                  production_companies release_date  \\\n",
       "599  DC Comics|Legendary Pictures|Warner Bros.|Syncopy    7/16/2008   \n",
       "\n",
       "     vote_average  release_year     profit  \n",
       "599           8.1          2008  816921825  "
      ]
     },
     "execution_count": 21,
     "metadata": {},
     "output_type": "execute_result"
    }
   ],
   "source": [
    "set_year = data.loc[data['release_year'] == 2008]\n",
    "highiest_revenue = set_year.loc[\n",
    "    set_year['revenue'] == set_year['revenue'].max()\n",
    "]\n",
    "highiest_revenue"
   ]
  },
  {
   "cell_type": "code",
   "execution_count": 22,
   "metadata": {},
   "outputs": [],
   "source": [
    "answers['Highest revenue of 2018'] = \"The Dark Knight\""
   ]
  },
  {
   "cell_type": "markdown",
   "metadata": {
    "colab_type": "text",
    "id": "Zi4hDKidVp_F"
   },
   "source": [
    "# 10. Самый убыточный фильм за период с 2012 по 2014 г. (включительно)?\n",
    "# 10. Which movie from 2012-2014 has the highest losses?"
   ]
  },
  {
   "cell_type": "code",
   "execution_count": 23,
   "metadata": {},
   "outputs": [
    {
     "data": {
      "text/html": [
       "<div>\n",
       "<style scoped>\n",
       "    .dataframe tbody tr th:only-of-type {\n",
       "        vertical-align: middle;\n",
       "    }\n",
       "\n",
       "    .dataframe tbody tr th {\n",
       "        vertical-align: top;\n",
       "    }\n",
       "\n",
       "    .dataframe thead th {\n",
       "        text-align: right;\n",
       "    }\n",
       "</style>\n",
       "<table border=\"1\" class=\"dataframe\">\n",
       "  <thead>\n",
       "    <tr style=\"text-align: right;\">\n",
       "      <th></th>\n",
       "      <th>imdb_id</th>\n",
       "      <th>budget</th>\n",
       "      <th>revenue</th>\n",
       "      <th>original_title</th>\n",
       "      <th>cast</th>\n",
       "      <th>director</th>\n",
       "      <th>tagline</th>\n",
       "      <th>overview</th>\n",
       "      <th>runtime</th>\n",
       "      <th>genres</th>\n",
       "      <th>production_companies</th>\n",
       "      <th>release_date</th>\n",
       "      <th>vote_average</th>\n",
       "      <th>release_year</th>\n",
       "      <th>profit</th>\n",
       "    </tr>\n",
       "  </thead>\n",
       "  <tbody>\n",
       "    <tr>\n",
       "      <th>1245</th>\n",
       "      <td>tt1210819</td>\n",
       "      <td>255000000</td>\n",
       "      <td>89289910</td>\n",
       "      <td>The Lone Ranger</td>\n",
       "      <td>Johnny Depp|Armie Hammer|William Fichtner|Hele...</td>\n",
       "      <td>Gore Verbinski</td>\n",
       "      <td>Never Take Off the Mask</td>\n",
       "      <td>The Texas Rangers chase down a gang of outlaws...</td>\n",
       "      <td>149</td>\n",
       "      <td>Action|Adventure|Western</td>\n",
       "      <td>Walt Disney Pictures|Jerry Bruckheimer Films|I...</td>\n",
       "      <td>7/3/2013</td>\n",
       "      <td>6.0</td>\n",
       "      <td>2013</td>\n",
       "      <td>-165710090</td>\n",
       "    </tr>\n",
       "  </tbody>\n",
       "</table>\n",
       "</div>"
      ],
      "text/plain": [
       "        imdb_id     budget   revenue   original_title  \\\n",
       "1245  tt1210819  255000000  89289910  The Lone Ranger   \n",
       "\n",
       "                                                   cast        director  \\\n",
       "1245  Johnny Depp|Armie Hammer|William Fichtner|Hele...  Gore Verbinski   \n",
       "\n",
       "                      tagline  \\\n",
       "1245  Never Take Off the Mask   \n",
       "\n",
       "                                               overview  runtime  \\\n",
       "1245  The Texas Rangers chase down a gang of outlaws...      149   \n",
       "\n",
       "                        genres  \\\n",
       "1245  Action|Adventure|Western   \n",
       "\n",
       "                                   production_companies release_date  \\\n",
       "1245  Walt Disney Pictures|Jerry Bruckheimer Films|I...     7/3/2013   \n",
       "\n",
       "      vote_average  release_year     profit  \n",
       "1245           6.0          2013 -165710090  "
      ]
     },
     "execution_count": 23,
     "metadata": {},
     "output_type": "execute_result"
    }
   ],
   "source": [
    "set_year = data.loc[data['release_year'].isin(['2012', '2013', '2014'])]\n",
    "highest_losses = set_year.loc[set_year['profit'] == set_year['profit'].min()]\n",
    "highest_losses"
   ]
  },
  {
   "cell_type": "code",
   "execution_count": 24,
   "metadata": {},
   "outputs": [],
   "source": [
    "answers['Highest loss of 2012-2014'] = \"The Lone Ranger\""
   ]
  },
  {
   "cell_type": "code",
   "execution_count": 25,
   "metadata": {},
   "outputs": [
    {
     "data": {
      "text/plain": [
       "\"First function takes in a string and returns a list of separated values\\n   Second funtion takes in a list and returns it's first value.\\n   These two lines create an extra column with release months of the movies\""
      ]
     },
     "execution_count": 25,
     "metadata": {},
     "output_type": "execute_result"
    }
   ],
   "source": [
    "'''For certain questions below separation must be applied\n",
    "first to genres, director and cast columns'''\n",
    "data['genres'] = data['genres'].apply(separation)\n",
    "data['director'] = data['director'].apply(separation)\n",
    "data['cast'] = data['cast'].apply(separation)\n",
    "\n",
    "release_date = data['release_date'].apply(lambda x: x.split('/'))\n",
    "data['release_month'] = release_date.apply(lambda x: x[0])\n",
    "'''First function takes in a string and returns a list of separated values\n",
    "   Second funtion takes in a list and returns it\\'s first value.\n",
    "   These two lines create an extra column with release months of the movies'''"
   ]
  },
  {
   "cell_type": "markdown",
   "metadata": {
    "colab_type": "text",
    "id": "EA7Sa9dkVp_I"
   },
   "source": [
    "# 11. Какого жанра фильмов больше всего?\n",
    "# 11. Which genre is the most common amongst the movies in the dataset?"
   ]
  },
  {
   "cell_type": "code",
   "execution_count": 26,
   "metadata": {},
   "outputs": [
    {
     "data": {
      "text/plain": [
       "Drama              782\n",
       "Comedy             683\n",
       "Thriller           596\n",
       "Action             582\n",
       "Adventure          415\n",
       "Crime              315\n",
       "Romance            308\n",
       "Family             260\n",
       "Science Fiction    248\n",
       "Fantasy            222\n",
       "Horror             176\n",
       "Mystery            168\n",
       "Animation          139\n",
       "Music               64\n",
       "History             62\n",
       "War                 58\n",
       "Western             19\n",
       "Documentary          8\n",
       "Foreign              2\n",
       "Name: genres, dtype: int64"
      ]
     },
     "execution_count": 26,
     "metadata": {},
     "output_type": "execute_result"
    }
   ],
   "source": [
    "genres_exploded = data.explode('genres')\n",
    "genres_count = genres_exploded.genres.value_counts()\n",
    "genres_count"
   ]
  },
  {
   "cell_type": "code",
   "execution_count": 27,
   "metadata": {},
   "outputs": [],
   "source": [
    "answers['Most common genre'] = 'Drama'"
   ]
  },
  {
   "cell_type": "markdown",
   "metadata": {
    "colab_type": "text",
    "id": "T9_bPWpkVp_Q"
   },
   "source": [
    "# 12. Фильмы какого жанра чаще всего становятся прибыльными? \n",
    "# 12. Movies of which genre tend to be profitable more often?"
   ]
  },
  {
   "cell_type": "code",
   "execution_count": 28,
   "metadata": {},
   "outputs": [
    {
     "data": {
      "text/plain": [
       "Drama              560\n",
       "Comedy             551\n",
       "Thriller           446\n",
       "Action             444\n",
       "Adventure          337\n",
       "Romance            242\n",
       "Crime              231\n",
       "Family             226\n",
       "Science Fiction    195\n",
       "Fantasy            188\n",
       "Horror             150\n",
       "Animation          120\n",
       "Mystery            119\n",
       "Music               47\n",
       "History             46\n",
       "War                 41\n",
       "Western             12\n",
       "Documentary          7\n",
       "Name: genres, dtype: int64"
      ]
     },
     "execution_count": 28,
     "metadata": {},
     "output_type": "execute_result"
    }
   ],
   "source": [
    "profitable_genres_count = genres_exploded.query(\n",
    "    'profit>0').genres.value_counts()\n",
    "profitable_genres_count"
   ]
  },
  {
   "cell_type": "code",
   "execution_count": 29,
   "metadata": {},
   "outputs": [],
   "source": [
    "answers['Most profitable genre'] = 'Drama'"
   ]
  },
  {
   "cell_type": "markdown",
   "metadata": {
    "colab_type": "text",
    "id": "0F23bgsDVp_U"
   },
   "source": [
    "# 13. У какого режиссера самые большие суммарные кассовые сборы?\n",
    "# 13. Which director has the highest total revenue?"
   ]
  },
  {
   "cell_type": "code",
   "execution_count": 30,
   "metadata": {
    "colab": {},
    "colab_type": "code",
    "id": "K6Z3J8ygVp_X"
   },
   "outputs": [
    {
     "data": {
      "text/plain": [
       "director\n",
       "Peter Jackson        6490593685\n",
       "Christopher Nolan    4167548502\n",
       "David Yates          4154295625\n",
       "Michael Bay          3886938960\n",
       "J.J. Abrams          3579169916\n",
       "                        ...    \n",
       "David MichÃ´d           2295423\n",
       "Steven Shainberg        2281089\n",
       "Paul Schrader           2062066\n",
       "Keanu Reeves            2054941\n",
       "Simon Hunter            2033165\n",
       "Name: revenue, Length: 997, dtype: int64"
      ]
     },
     "execution_count": 30,
     "metadata": {},
     "output_type": "execute_result"
    }
   ],
   "source": [
    "directors_exploded = data.explode('director')\n",
    "director_revenues = directors_exploded.groupby(['director'])['revenue'].sum(\n",
    "    ).sort_values(ascending = False)\n",
    "director_revenues"
   ]
  },
  {
   "cell_type": "code",
   "execution_count": 31,
   "metadata": {},
   "outputs": [],
   "source": [
    "answers['Director with highest revenue'] = 'Peter Jackson'"
   ]
  },
  {
   "cell_type": "markdown",
   "metadata": {
    "colab_type": "text",
    "id": "PsYC9FgRVp_a"
   },
   "source": [
    "# 14. Какой режисер снял больше всего фильмов в стиле Action?\n",
    "# 14. Which director made the most Action movies?"
   ]
  },
  {
   "cell_type": "code",
   "execution_count": 32,
   "metadata": {
    "colab": {},
    "colab_type": "code",
    "id": "wd2M-wHeVp_b"
   },
   "outputs": [
    {
     "data": {
      "text/plain": [
       "Robert Rodriguez      9\n",
       "Michael Bay           7\n",
       "Paul W.S. Anderson    7\n",
       "Ridley Scott          6\n",
       "Antoine Fuqua         6\n",
       "                     ..\n",
       "John Dahl             1\n",
       "Barry Levinson        1\n",
       "Dito Montiel          1\n",
       "Trey Parker           1\n",
       "Betty Thomas          1\n",
       "Name: director, Length: 364, dtype: int64"
      ]
     },
     "execution_count": 32,
     "metadata": {},
     "output_type": "execute_result"
    }
   ],
   "source": [
    "action_movies = directors_exploded.explode('genres')\n",
    "action_directors = action_movies[\n",
    "    action_movies['genres'] == 'Action'].director.value_counts()\n",
    "action_directors"
   ]
  },
  {
   "cell_type": "code",
   "execution_count": 33,
   "metadata": {},
   "outputs": [],
   "source": [
    "answers['Action Director with most movies'] = 'Robert Rodriguez'"
   ]
  },
  {
   "cell_type": "markdown",
   "metadata": {
    "colab_type": "text",
    "id": "PQ0KciD7Vp_f"
   },
   "source": [
    "# 15. Фильмы с каким актером принесли самые высокие кассовые сборы в 2012 году? \n",
    "# 15. Movies with which actor had the highest profits in 2012?"
   ]
  },
  {
   "cell_type": "code",
   "execution_count": 34,
   "metadata": {
    "colab": {},
    "colab_type": "code",
    "id": "aga62oeKVp_g"
   },
   "outputs": [
    {
     "data": {
      "text/plain": [
       "cast\n",
       "Chris Hemsworth    1542450773\n",
       "Name: profit, dtype: int64"
      ]
     },
     "execution_count": 34,
     "metadata": {},
     "output_type": "execute_result"
    }
   ],
   "source": [
    "'''For this question I assumed that \"highest profits\" means total profit of all \n",
    "   movies with a specific actor, not their mean profits'''\n",
    "set_year = data[data['release_year'] == 2012].explode(\n",
    "    'cast').groupby(['cast'])['profit'].sum()\n",
    "profitable_actor = set_year.loc[set_year == set_year.max()]\n",
    "profitable_actor"
   ]
  },
  {
   "cell_type": "code",
   "execution_count": 35,
   "metadata": {},
   "outputs": [],
   "source": [
    "answers['Most profitable actor'] = 'Chris Hemsworth'"
   ]
  },
  {
   "cell_type": "markdown",
   "metadata": {
    "colab_type": "text",
    "id": "mWHyyL7QVp_j"
   },
   "source": [
    "# 16. Какой актер снялся в большем количестве высокобюджетных фильмов?\n",
    "# 16. Which actor tends to appear in high-budget movies the most often?"
   ]
  },
  {
   "cell_type": "code",
   "execution_count": 36,
   "metadata": {
    "colab": {},
    "colab_type": "code",
    "id": "qQtmHKTFVp_k"
   },
   "outputs": [
    {
     "data": {
      "text/plain": [
       "Matt Damon           18\n",
       "Adam Sandler         17\n",
       "Angelina Jolie       16\n",
       "Tom Cruise           15\n",
       "Samuel L. Jackson    15\n",
       "                     ..\n",
       "Scott Adkins          1\n",
       "Anthony Edwards       1\n",
       "Dwight Yoakam         1\n",
       "Robbie Coltrane       1\n",
       "Karen Allen           1\n",
       "Name: cast, Length: 1505, dtype: int64"
      ]
     },
     "execution_count": 36,
     "metadata": {},
     "output_type": "execute_result"
    }
   ],
   "source": [
    "'''For clarity, any movie with a budget above the mean is considered\n",
    "   high-budget for this question'''\n",
    "high_budget_actors = data[data['budget'] > data['budget'].mean()].explode(\n",
    "    'cast').cast.value_counts()\n",
    "high_budget_actors"
   ]
  },
  {
   "cell_type": "code",
   "execution_count": 37,
   "metadata": {},
   "outputs": [],
   "source": [
    "answers['Actor appearing in high-budget films'] = 'Matt Damon'"
   ]
  },
  {
   "cell_type": "markdown",
   "metadata": {
    "colab_type": "text",
    "id": "NIh6AaW5Vp_n"
   },
   "source": [
    "# 17. В фильмах какого жанра больше всего снимался Nicolas Cage? \n",
    "# 17. In movies of which genre does Nicolas Cage appear the most?"
   ]
  },
  {
   "cell_type": "code",
   "execution_count": 38,
   "metadata": {
    "colab": {},
    "colab_type": "code",
    "id": "H74SJDIBVp_n"
   },
   "outputs": [
    {
     "data": {
      "text/plain": [
       "Action             17\n",
       "Thriller           15\n",
       "Drama              12\n",
       "Crime              10\n",
       "Fantasy             8\n",
       "Adventure           7\n",
       "Comedy              6\n",
       "Science Fiction     4\n",
       "Family              3\n",
       "Mystery             3\n",
       "Animation           3\n",
       "History             2\n",
       "War                 1\n",
       "Romance             1\n",
       "Horror              1\n",
       "Name: genres, dtype: int64"
      ]
     },
     "execution_count": 38,
     "metadata": {},
     "output_type": "execute_result"
    }
   ],
   "source": [
    "exploded_cast = data.explode('cast')\n",
    "common_genre = exploded_cast[exploded_cast['cast'] == 'Nicolas Cage'].explode(\n",
    "    'genres').genres.value_counts()\n",
    "common_genre"
   ]
  },
  {
   "cell_type": "code",
   "execution_count": 39,
   "metadata": {},
   "outputs": [],
   "source": [
    "answers['Nicolas Cage appears the most in'] = ' Action movies'"
   ]
  },
  {
   "cell_type": "markdown",
   "metadata": {
    "colab_type": "text",
    "id": "RqOmPRfWVp_q"
   },
   "source": [
    "# 18. Самый убыточный фильм от Paramount Pictures\n",
    "# 18. Which movie created by Paramount Pictures has the highest net loss?"
   ]
  },
  {
   "cell_type": "code",
   "execution_count": 40,
   "metadata": {
    "colab": {},
    "colab_type": "code",
    "id": "9E_B0Y96Vp_r"
   },
   "outputs": [
    {
     "data": {
      "text/html": [
       "<div>\n",
       "<style scoped>\n",
       "    .dataframe tbody tr th:only-of-type {\n",
       "        vertical-align: middle;\n",
       "    }\n",
       "\n",
       "    .dataframe tbody tr th {\n",
       "        vertical-align: top;\n",
       "    }\n",
       "\n",
       "    .dataframe thead th {\n",
       "        text-align: right;\n",
       "    }\n",
       "</style>\n",
       "<table border=\"1\" class=\"dataframe\">\n",
       "  <thead>\n",
       "    <tr style=\"text-align: right;\">\n",
       "      <th></th>\n",
       "      <th>imdb_id</th>\n",
       "      <th>budget</th>\n",
       "      <th>revenue</th>\n",
       "      <th>original_title</th>\n",
       "      <th>cast</th>\n",
       "      <th>director</th>\n",
       "      <th>tagline</th>\n",
       "      <th>overview</th>\n",
       "      <th>runtime</th>\n",
       "      <th>genres</th>\n",
       "      <th>production_companies</th>\n",
       "      <th>release_date</th>\n",
       "      <th>vote_average</th>\n",
       "      <th>release_year</th>\n",
       "      <th>profit</th>\n",
       "      <th>release_month</th>\n",
       "    </tr>\n",
       "  </thead>\n",
       "  <tbody>\n",
       "    <tr>\n",
       "      <th>925</th>\n",
       "      <td>tt0267626</td>\n",
       "      <td>100000000</td>\n",
       "      <td>35168966</td>\n",
       "      <td>K-19: The Widowmaker</td>\n",
       "      <td>[Harrison Ford, Liam Neeson, Peter Sarsgaard, ...</td>\n",
       "      <td>Kathryn Bigelow</td>\n",
       "      <td>Fate has found its hero.</td>\n",
       "      <td>When Russia's first nuclear submarine malfunct...</td>\n",
       "      <td>138</td>\n",
       "      <td>[Thriller, Drama, History]</td>\n",
       "      <td>Paramount Pictures|Intermedia Films|National G...</td>\n",
       "      <td>7/19/2002</td>\n",
       "      <td>6.0</td>\n",
       "      <td>2002</td>\n",
       "      <td>-64831034</td>\n",
       "      <td>7</td>\n",
       "    </tr>\n",
       "  </tbody>\n",
       "</table>\n",
       "</div>"
      ],
      "text/plain": [
       "       imdb_id     budget   revenue        original_title  \\\n",
       "925  tt0267626  100000000  35168966  K-19: The Widowmaker   \n",
       "\n",
       "                                                  cast         director  \\\n",
       "925  [Harrison Ford, Liam Neeson, Peter Sarsgaard, ...  Kathryn Bigelow   \n",
       "\n",
       "                      tagline  \\\n",
       "925  Fate has found its hero.   \n",
       "\n",
       "                                              overview  runtime  \\\n",
       "925  When Russia's first nuclear submarine malfunct...      138   \n",
       "\n",
       "                         genres  \\\n",
       "925  [Thriller, Drama, History]   \n",
       "\n",
       "                                  production_companies release_date  \\\n",
       "925  Paramount Pictures|Intermedia Films|National G...    7/19/2002   \n",
       "\n",
       "     vote_average  release_year    profit release_month  \n",
       "925           6.0          2002 -64831034             7  "
      ]
     },
     "execution_count": 40,
     "metadata": {},
     "output_type": "execute_result"
    }
   ],
   "source": [
    "paramount_movies = data[\n",
    "    data.production_companies.str.contains('Paramount Pictures')]\n",
    "paramount_loss = paramount_movies.loc[\n",
    "    paramount_movies['profit'] == paramount_movies['profit'].min()]\n",
    "paramount_loss"
   ]
  },
  {
   "cell_type": "code",
   "execution_count": 41,
   "metadata": {},
   "outputs": [],
   "source": [
    "answers[\n",
    "    'Movie with highest net loss made by Paramount Pictures'\n",
    "] = 'K-19: The Widowmaker'"
   ]
  },
  {
   "cell_type": "markdown",
   "metadata": {
    "colab_type": "text",
    "id": "vS8Ur6ddVp_u"
   },
   "source": [
    "# 19. Какой год стал самым успешным по суммарным кассовым сборам?\n",
    "# 19. Which year had the highest total profits?"
   ]
  },
  {
   "cell_type": "code",
   "execution_count": 42,
   "metadata": {
    "colab": {},
    "colab_type": "code",
    "id": "Dnbt4GdIVp_v"
   },
   "outputs": [
    {
     "data": {
      "text/plain": [
       "release_year\n",
       "2015    18668572378\n",
       "Name: profit, dtype: int64"
      ]
     },
     "execution_count": 42,
     "metadata": {},
     "output_type": "execute_result"
    }
   ],
   "source": [
    "total_profits = data.groupby(['release_year'])['profit'].sum()\n",
    "profitable_year = total_profits.loc[total_profits == total_profits.max()]\n",
    "profitable_year"
   ]
  },
  {
   "cell_type": "code",
   "execution_count": 43,
   "metadata": {},
   "outputs": [],
   "source": [
    "answers['Most profitable year'] = '2015'"
   ]
  },
  {
   "cell_type": "markdown",
   "metadata": {
    "colab_type": "text",
    "id": "JAzJh4QAVp_z"
   },
   "source": [
    "# 20. Какой самый прибыльный год для студии Warner Bros?\n",
    "# 20. Which year was the most profitable for Warner Bros?"
   ]
  },
  {
   "cell_type": "code",
   "execution_count": 44,
   "metadata": {
    "colab": {},
    "colab_type": "code",
    "id": "wgVu02DEVp_0"
   },
   "outputs": [
    {
     "data": {
      "text/plain": [
       "release_year\n",
       "2014    2295464519\n",
       "Name: profit, dtype: int64"
      ]
     },
     "execution_count": 44,
     "metadata": {},
     "output_type": "execute_result"
    }
   ],
   "source": [
    "warner_movies_profits = data[\n",
    "    data.production_companies.str.contains('Warner Bros')\n",
    "].groupby(['release_year'])['profit'].sum()\n",
    "max_profit = warner_movies_profits.loc[\n",
    "    warner_movies_profits == warner_movies_profits.max()\n",
    "]\n",
    "max_profit"
   ]
  },
  {
   "cell_type": "code",
   "execution_count": 45,
   "metadata": {},
   "outputs": [],
   "source": [
    "answers['Most profitable year for Warner Bros'] = '2014'"
   ]
  },
  {
   "cell_type": "markdown",
   "metadata": {
    "colab_type": "text",
    "id": "8Im1S2HRVp_4"
   },
   "source": [
    "# 21. В каком месяце за все годы суммарно вышло больше всего фильмов?\n",
    "# 21. Which month is the most common for movie releases?"
   ]
  },
  {
   "cell_type": "code",
   "execution_count": 46,
   "metadata": {
    "colab": {},
    "colab_type": "code",
    "id": "lev6TH7gVp_4",
    "scrolled": true
   },
   "outputs": [
    {
     "data": {
      "text/plain": [
       "9     227\n",
       "12    190\n",
       "10    186\n",
       "8     161\n",
       "3     156\n",
       "4     149\n",
       "6     147\n",
       "11    146\n",
       "7     142\n",
       "5     140\n",
       "2     135\n",
       "1     110\n",
       "Name: release_month, dtype: int64"
      ]
     },
     "execution_count": 46,
     "metadata": {},
     "output_type": "execute_result"
    }
   ],
   "source": [
    "films_released = data['release_month'].value_counts()\n",
    "films_released"
   ]
  },
  {
   "cell_type": "code",
   "execution_count": 47,
   "metadata": {},
   "outputs": [],
   "source": [
    "answers['Most common month for movies to be released'] = '9th month, September'"
   ]
  },
  {
   "cell_type": "markdown",
   "metadata": {
    "colab_type": "text",
    "id": "uAJsZ_NeVp_7"
   },
   "source": [
    "# 22. Сколько суммарно вышло фильмов летом? (за июнь, июль, август)\n",
    "# 22. How many movies were released during all the summers?"
   ]
  },
  {
   "cell_type": "code",
   "execution_count": 48,
   "metadata": {
    "colab": {},
    "colab_type": "code",
    "id": "Aa-hEREoVp_8"
   },
   "outputs": [
    {
     "data": {
      "text/plain": [
       "450"
      ]
     },
     "execution_count": 48,
     "metadata": {},
     "output_type": "execute_result"
    }
   ],
   "source": [
    "summer_releases_count = len(\n",
    "    data.loc[data['release_month'].isin(['6', '7', '8'])]\n",
    ")\n",
    "summer_releases_count"
   ]
  },
  {
   "cell_type": "code",
   "execution_count": 49,
   "metadata": {},
   "outputs": [],
   "source": [
    "answers['Number of summer releases'] = '450'"
   ]
  },
  {
   "cell_type": "markdown",
   "metadata": {
    "colab_type": "text",
    "id": "G94ppOY1VqAA"
   },
   "source": [
    "# 23. Для какого режиссера зима – самое продуктивное время года? \n",
    "# 23. Which director produces the most movies during winter?"
   ]
  },
  {
   "cell_type": "code",
   "execution_count": 50,
   "metadata": {
    "colab": {},
    "colab_type": "code",
    "id": "RhNTsamuVqAB"
   },
   "outputs": [
    {
     "data": {
      "text/plain": [
       "Peter Jackson        7\n",
       "Steven Soderbergh    6\n",
       "Clint Eastwood       6\n",
       "Martin Scorsese      4\n",
       "Adam Shankman        4\n",
       "                    ..\n",
       "James McTeigue       1\n",
       "Jonathan Levine      1\n",
       "Kevin Allen          1\n",
       "John Hamburg         1\n",
       "Sam Mendes           1\n",
       "Name: director, Length: 358, dtype: int64"
      ]
     },
     "execution_count": 50,
     "metadata": {},
     "output_type": "execute_result"
    }
   ],
   "source": [
    "winter_releases = directors_exploded.loc[\n",
    "    directors_exploded['release_month'].isin(['1', '2', '12'])\n",
    "]\n",
    "winter_productivity = winter_releases.director.value_counts()\n",
    "winter_productivity"
   ]
  },
  {
   "cell_type": "code",
   "execution_count": 51,
   "metadata": {},
   "outputs": [],
   "source": [
    "answers['Most productive winter director'] = 'Peter Jackson'"
   ]
  },
  {
   "cell_type": "markdown",
   "metadata": {
    "colab_type": "text",
    "id": "RBo0JVjVVqAF"
   },
   "source": [
    "# 24. Какая студия дает самые длинные названия своим фильмам по количеству символов?\n",
    "# 24. Which company gives the longest movie titles?(most syllables)"
   ]
  },
  {
   "cell_type": "code",
   "execution_count": 52,
   "metadata": {
    "colab": {},
    "colab_type": "code",
    "id": "QRGS8L0iVqAG"
   },
   "outputs": [
    {
     "data": {
      "text/plain": [
       "production_companies\n",
       "Four By Two Productions    83.0\n",
       "Name: title_length, dtype: float64"
      ]
     },
     "execution_count": 52,
     "metadata": {},
     "output_type": "execute_result"
    }
   ],
   "source": [
    "data['production_companies'] = data['production_companies'].apply(separation)\n",
    "companies_exploded = data.explode('production_companies')\n",
    "companies_exploded['title_length'] = companies_exploded[\n",
    "    'original_title'].apply(lambda x: len(x))\n",
    "mean_tilte_length = companies_exploded.groupby(\n",
    "    ['production_companies'])['title_length'].mean()\n",
    "longest_titles = mean_tilte_length.loc[\n",
    "    mean_tilte_length == mean_tilte_length.max()\n",
    "]\n",
    "longest_titles"
   ]
  },
  {
   "cell_type": "code",
   "execution_count": 53,
   "metadata": {},
   "outputs": [],
   "source": [
    "answers['Company with longest titles'] = 'Four By Two Productions'"
   ]
  },
  {
   "cell_type": "markdown",
   "metadata": {
    "colab_type": "text",
    "id": "9G0hbvR7VqAK"
   },
   "source": [
    "# 25. Описание фильмов какой студии в среднем самые длинные по количеству слов?\n",
    "# 26. Which company writes the longest movie overviews?(most words)"
   ]
  },
  {
   "cell_type": "code",
   "execution_count": 54,
   "metadata": {},
   "outputs": [
    {
     "data": {
      "text/plain": [
       "'Function takes in a list and calculates the number of elements in it'"
      ]
     },
     "execution_count": 54,
     "metadata": {},
     "output_type": "execute_result"
    }
   ],
   "source": [
    "'''Replacing all the punctuation signs for easier word count.'''\n",
    "word_count = data.overview.str.replace(', ', ' ')\n",
    "word_count = word_count.str.replace('.', ' ')\n",
    "word_count = word_count.str.replace(':', ' ')\n",
    "word_count = word_count.str.replace('-', ' ')\n",
    "word_count = word_count.str.replace(';', ' ')\n",
    "\n",
    "word_count = word_count.apply(lambda x: x.split(' '))\n",
    "'''Function takes in a string and returns a list of words'''\n",
    "data['word_count'] = word_count.apply(lambda x: len(x))\n",
    "'''Function takes in a list and calculates the number of elements in it'''"
   ]
  },
  {
   "cell_type": "code",
   "execution_count": 55,
   "metadata": {
    "colab": {},
    "colab_type": "code",
    "id": "Ge2GsLNxVqAK"
   },
   "outputs": [
    {
     "data": {
      "text/plain": [
       "production_companies\n",
       "Midnight Picture Show    184.0\n",
       "Name: word_count, dtype: float64"
      ]
     },
     "execution_count": 55,
     "metadata": {},
     "output_type": "execute_result"
    }
   ],
   "source": [
    "mean_word_count = data.explode('production_companies').groupby(\n",
    "    ['production_companies']\n",
    ")['word_count'].mean()\n",
    "longest_overviews = mean_word_count.loc[\n",
    "    mean_word_count == mean_word_count.max()\n",
    "]\n",
    "longest_overviews"
   ]
  },
  {
   "cell_type": "code",
   "execution_count": 56,
   "metadata": {},
   "outputs": [],
   "source": [
    "answers['Company with longest overviews'] = 'Midnight Picture Show'"
   ]
  },
  {
   "cell_type": "markdown",
   "metadata": {
    "colab_type": "text",
    "id": "FJ1AFt90VqAP"
   },
   "source": [
    "# 26. Какие фильмы входят в 1 процент лучших по рейтингу? \n",
    "# 26. Which movies are in top 1% of the average rating?"
   ]
  },
  {
   "cell_type": "code",
   "execution_count": 57,
   "metadata": {
    "colab": {},
    "colab_type": "code",
    "id": "8qmJVq4CVqAQ"
   },
   "outputs": [
    {
     "data": {
      "text/html": [
       "<div>\n",
       "<style scoped>\n",
       "    .dataframe tbody tr th:only-of-type {\n",
       "        vertical-align: middle;\n",
       "    }\n",
       "\n",
       "    .dataframe tbody tr th {\n",
       "        vertical-align: top;\n",
       "    }\n",
       "\n",
       "    .dataframe thead th {\n",
       "        text-align: right;\n",
       "    }\n",
       "</style>\n",
       "<table border=\"1\" class=\"dataframe\">\n",
       "  <thead>\n",
       "    <tr style=\"text-align: right;\">\n",
       "      <th></th>\n",
       "      <th>imdb_id</th>\n",
       "      <th>budget</th>\n",
       "      <th>revenue</th>\n",
       "      <th>original_title</th>\n",
       "      <th>cast</th>\n",
       "      <th>director</th>\n",
       "      <th>tagline</th>\n",
       "      <th>overview</th>\n",
       "      <th>runtime</th>\n",
       "      <th>genres</th>\n",
       "      <th>production_companies</th>\n",
       "      <th>release_date</th>\n",
       "      <th>vote_average</th>\n",
       "      <th>release_year</th>\n",
       "      <th>profit</th>\n",
       "      <th>release_month</th>\n",
       "      <th>word_count</th>\n",
       "    </tr>\n",
       "  </thead>\n",
       "  <tbody>\n",
       "    <tr>\n",
       "      <th>9</th>\n",
       "      <td>tt2096673</td>\n",
       "      <td>175000000</td>\n",
       "      <td>853708609</td>\n",
       "      <td>Inside Out</td>\n",
       "      <td>[Amy Poehler, Phyllis Smith, Richard Kind, Bil...</td>\n",
       "      <td>Pete Docter</td>\n",
       "      <td>Meet the little voices inside your head.</td>\n",
       "      <td>Growing up can be a bumpy road, and it's no ex...</td>\n",
       "      <td>94</td>\n",
       "      <td>[Comedy, Animation, Family]</td>\n",
       "      <td>[Walt Disney Pictures, Pixar Animation Studios...</td>\n",
       "      <td>6/9/2015</td>\n",
       "      <td>8.0</td>\n",
       "      <td>2015</td>\n",
       "      <td>678708609</td>\n",
       "      <td>6</td>\n",
       "      <td>118</td>\n",
       "    </tr>\n",
       "    <tr>\n",
       "      <th>34</th>\n",
       "      <td>tt3170832</td>\n",
       "      <td>6000000</td>\n",
       "      <td>35401758</td>\n",
       "      <td>Room</td>\n",
       "      <td>[Brie Larson, Jacob Tremblay, Joan Allen, Sean...</td>\n",
       "      <td>Lenny Abrahamson</td>\n",
       "      <td>Love knows no boundaries</td>\n",
       "      <td>Jack is a young boy of 5 years old who has liv...</td>\n",
       "      <td>117</td>\n",
       "      <td>[Drama, Thriller]</td>\n",
       "      <td>[Element Pictures, No Trace Camping, A24, Dupe...</td>\n",
       "      <td>10/16/2015</td>\n",
       "      <td>8.0</td>\n",
       "      <td>2015</td>\n",
       "      <td>29401758</td>\n",
       "      <td>10</td>\n",
       "      <td>51</td>\n",
       "    </tr>\n",
       "    <tr>\n",
       "      <th>118</th>\n",
       "      <td>tt0816692</td>\n",
       "      <td>165000000</td>\n",
       "      <td>621752480</td>\n",
       "      <td>Interstellar</td>\n",
       "      <td>[Matthew McConaughey, Jessica Chastain, Anne H...</td>\n",
       "      <td>Christopher Nolan</td>\n",
       "      <td>Mankind was born on Earth. It was never meant ...</td>\n",
       "      <td>Interstellar chronicles the adventures of a gr...</td>\n",
       "      <td>169</td>\n",
       "      <td>[Adventure, Drama, Science Fiction]</td>\n",
       "      <td>[Paramount Pictures, Legendary Pictures, Warne...</td>\n",
       "      <td>11/5/2014</td>\n",
       "      <td>8.0</td>\n",
       "      <td>2014</td>\n",
       "      <td>456752480</td>\n",
       "      <td>11</td>\n",
       "      <td>36</td>\n",
       "    </tr>\n",
       "    <tr>\n",
       "      <th>119</th>\n",
       "      <td>tt2015381</td>\n",
       "      <td>170000000</td>\n",
       "      <td>773312399</td>\n",
       "      <td>Guardians of the Galaxy</td>\n",
       "      <td>[Chris Pratt, Zoe Saldana, Dave Bautista, Vin ...</td>\n",
       "      <td>James Gunn</td>\n",
       "      <td>All heroes start somewhere.</td>\n",
       "      <td>Light years from Earth, 26 years after being a...</td>\n",
       "      <td>121</td>\n",
       "      <td>[Action, Science Fiction, Adventure]</td>\n",
       "      <td>[Marvel Studios, Moving Picture Company (MPC),...</td>\n",
       "      <td>7/30/2014</td>\n",
       "      <td>7.9</td>\n",
       "      <td>2014</td>\n",
       "      <td>603312399</td>\n",
       "      <td>7</td>\n",
       "      <td>29</td>\n",
       "    </tr>\n",
       "    <tr>\n",
       "      <th>125</th>\n",
       "      <td>tt2084970</td>\n",
       "      <td>14000000</td>\n",
       "      <td>233555708</td>\n",
       "      <td>The Imitation Game</td>\n",
       "      <td>[Benedict Cumberbatch, Keira Knightley, Matthe...</td>\n",
       "      <td>Morten Tyldum</td>\n",
       "      <td>The true enigma was the man who cracked the code.</td>\n",
       "      <td>Based on the real life story of legendary cryp...</td>\n",
       "      <td>113</td>\n",
       "      <td>[History, Drama, Thriller, War]</td>\n",
       "      <td>[Black Bear Pictures, Bristol Automotive]</td>\n",
       "      <td>11/14/2014</td>\n",
       "      <td>8.0</td>\n",
       "      <td>2014</td>\n",
       "      <td>219555708</td>\n",
       "      <td>11</td>\n",
       "      <td>50</td>\n",
       "    </tr>\n",
       "    <tr>\n",
       "      <th>128</th>\n",
       "      <td>tt2267998</td>\n",
       "      <td>61000000</td>\n",
       "      <td>369330363</td>\n",
       "      <td>Gone Girl</td>\n",
       "      <td>[Ben Affleck, Rosamund Pike, Carrie Coon, Neil...</td>\n",
       "      <td>David Fincher</td>\n",
       "      <td>You don't know what you've got 'til it's...</td>\n",
       "      <td>With his wife's disappearance having become th...</td>\n",
       "      <td>145</td>\n",
       "      <td>[Mystery, Thriller, Drama]</td>\n",
       "      <td>[Twentieth Century Fox Film Corporation, Regen...</td>\n",
       "      <td>10/1/2014</td>\n",
       "      <td>7.9</td>\n",
       "      <td>2014</td>\n",
       "      <td>308330363</td>\n",
       "      <td>10</td>\n",
       "      <td>31</td>\n",
       "    </tr>\n",
       "    <tr>\n",
       "      <th>138</th>\n",
       "      <td>tt2278388</td>\n",
       "      <td>30000000</td>\n",
       "      <td>174600318</td>\n",
       "      <td>The Grand Budapest Hotel</td>\n",
       "      <td>[Ralph Fiennes, Tony Revolori, F. Murray Abrah...</td>\n",
       "      <td>Wes Anderson</td>\n",
       "      <td>A perfect holiday without leaving home.</td>\n",
       "      <td>The Grand Budapest Hotel tells of a legendary ...</td>\n",
       "      <td>99</td>\n",
       "      <td>[Comedy, Drama]</td>\n",
       "      <td>[Fox Searchlight Pictures, Scott Rudin Product...</td>\n",
       "      <td>2/26/2014</td>\n",
       "      <td>7.9</td>\n",
       "      <td>2014</td>\n",
       "      <td>144600318</td>\n",
       "      <td>2</td>\n",
       "      <td>68</td>\n",
       "    </tr>\n",
       "    <tr>\n",
       "      <th>370</th>\n",
       "      <td>tt1375666</td>\n",
       "      <td>160000000</td>\n",
       "      <td>825500000</td>\n",
       "      <td>Inception</td>\n",
       "      <td>[Leonardo DiCaprio, Joseph Gordon-Levitt, Elle...</td>\n",
       "      <td>Christopher Nolan</td>\n",
       "      <td>Your mind is the scene of the crime.</td>\n",
       "      <td>Cobb, a skilled thief who commits corporate es...</td>\n",
       "      <td>148</td>\n",
       "      <td>[Action, Thriller, Science Fiction, Mystery, A...</td>\n",
       "      <td>[Legendary Pictures, Warner Bros., Syncopy]</td>\n",
       "      <td>7/14/2010</td>\n",
       "      <td>7.9</td>\n",
       "      <td>2010</td>\n",
       "      <td>665500000</td>\n",
       "      <td>7</td>\n",
       "      <td>46</td>\n",
       "    </tr>\n",
       "    <tr>\n",
       "      <th>599</th>\n",
       "      <td>tt0468569</td>\n",
       "      <td>185000000</td>\n",
       "      <td>1001921825</td>\n",
       "      <td>The Dark Knight</td>\n",
       "      <td>[Christian Bale, Michael Caine, Heath Ledger, ...</td>\n",
       "      <td>Christopher Nolan</td>\n",
       "      <td>Why So Serious?</td>\n",
       "      <td>Batman raises the stakes in his war on crime. ...</td>\n",
       "      <td>152</td>\n",
       "      <td>[Drama, Action, Crime, Thriller]</td>\n",
       "      <td>[DC Comics, Legendary Pictures, Warner Bros., ...</td>\n",
       "      <td>7/16/2008</td>\n",
       "      <td>8.1</td>\n",
       "      <td>2008</td>\n",
       "      <td>816921825</td>\n",
       "      <td>7</td>\n",
       "      <td>71</td>\n",
       "    </tr>\n",
       "    <tr>\n",
       "      <th>872</th>\n",
       "      <td>tt0253474</td>\n",
       "      <td>35000000</td>\n",
       "      <td>120072577</td>\n",
       "      <td>The Pianist</td>\n",
       "      <td>[Adrien Brody, Thomas Kretschmann, Frank Finla...</td>\n",
       "      <td>Roman Polanski</td>\n",
       "      <td>Music was his passion. Survival was his master...</td>\n",
       "      <td>The Pianist is a film adapted from the biograp...</td>\n",
       "      <td>150</td>\n",
       "      <td>[Drama, War]</td>\n",
       "      <td>[Bac Films, Canal+Polska, Heritage Films, Stud...</td>\n",
       "      <td>9/24/2002</td>\n",
       "      <td>7.9</td>\n",
       "      <td>2002</td>\n",
       "      <td>85072577</td>\n",
       "      <td>9</td>\n",
       "      <td>43</td>\n",
       "    </tr>\n",
       "    <tr>\n",
       "      <th>1081</th>\n",
       "      <td>tt0167260</td>\n",
       "      <td>94000000</td>\n",
       "      <td>1118888979</td>\n",
       "      <td>The Lord of the Rings: The Return of the King</td>\n",
       "      <td>[Elijah Wood, Ian McKellen, Viggo Mortensen, L...</td>\n",
       "      <td>Peter Jackson</td>\n",
       "      <td>The eye of the enemy is moving.</td>\n",
       "      <td>Aragorn is revealed as the heir to the ancient...</td>\n",
       "      <td>201</td>\n",
       "      <td>[Adventure, Fantasy, Action]</td>\n",
       "      <td>[WingNut Films, New Line Cinema]</td>\n",
       "      <td>12/1/2003</td>\n",
       "      <td>7.9</td>\n",
       "      <td>2003</td>\n",
       "      <td>1024888979</td>\n",
       "      <td>12</td>\n",
       "      <td>47</td>\n",
       "    </tr>\n",
       "    <tr>\n",
       "      <th>1183</th>\n",
       "      <td>tt0993846</td>\n",
       "      <td>100000000</td>\n",
       "      <td>392000694</td>\n",
       "      <td>The Wolf of Wall Street</td>\n",
       "      <td>[Leonardo DiCaprio, Jonah Hill, Margot Robbie,...</td>\n",
       "      <td>Martin Scorsese</td>\n",
       "      <td>EARN. SPEND. PARTY.</td>\n",
       "      <td>A New York stockbroker refuses to cooperate in...</td>\n",
       "      <td>180</td>\n",
       "      <td>[Crime, Drama, Comedy]</td>\n",
       "      <td>[Paramount Pictures, Appian Way, EMJAG Product...</td>\n",
       "      <td>12/25/2013</td>\n",
       "      <td>7.9</td>\n",
       "      <td>2013</td>\n",
       "      <td>292000694</td>\n",
       "      <td>12</td>\n",
       "      <td>31</td>\n",
       "    </tr>\n",
       "    <tr>\n",
       "      <th>1191</th>\n",
       "      <td>tt2024544</td>\n",
       "      <td>20000000</td>\n",
       "      <td>187000000</td>\n",
       "      <td>12 Years a Slave</td>\n",
       "      <td>[Chiwetel Ejiofor, Michael Fassbender, Lupita ...</td>\n",
       "      <td>Steve McQueen</td>\n",
       "      <td>The extraordinary true story of Solomon Northup</td>\n",
       "      <td>In the pre-Civil War United States, Solomon No...</td>\n",
       "      <td>134</td>\n",
       "      <td>[Drama, History]</td>\n",
       "      <td>[Plan B Entertainment, Regency Enterprises, Ri...</td>\n",
       "      <td>10/18/2013</td>\n",
       "      <td>7.9</td>\n",
       "      <td>2013</td>\n",
       "      <td>167000000</td>\n",
       "      <td>10</td>\n",
       "      <td>65</td>\n",
       "    </tr>\n",
       "    <tr>\n",
       "      <th>1800</th>\n",
       "      <td>tt0209144</td>\n",
       "      <td>9000000</td>\n",
       "      <td>39723096</td>\n",
       "      <td>Memento</td>\n",
       "      <td>[Guy Pearce, Carrie-Anne Moss, Joe Pantoliano,...</td>\n",
       "      <td>Christopher Nolan</td>\n",
       "      <td>Some memories are best forgotten.</td>\n",
       "      <td>Suffering short-term memory loss after a head ...</td>\n",
       "      <td>113</td>\n",
       "      <td>[Mystery, Thriller]</td>\n",
       "      <td>[Summit Entertainment, Newmarket Capital Group...</td>\n",
       "      <td>10/11/2000</td>\n",
       "      <td>7.9</td>\n",
       "      <td>2000</td>\n",
       "      <td>30723096</td>\n",
       "      <td>10</td>\n",
       "      <td>82</td>\n",
       "    </tr>\n",
       "  </tbody>\n",
       "</table>\n",
       "</div>"
      ],
      "text/plain": [
       "        imdb_id     budget     revenue  \\\n",
       "9     tt2096673  175000000   853708609   \n",
       "34    tt3170832    6000000    35401758   \n",
       "118   tt0816692  165000000   621752480   \n",
       "119   tt2015381  170000000   773312399   \n",
       "125   tt2084970   14000000   233555708   \n",
       "128   tt2267998   61000000   369330363   \n",
       "138   tt2278388   30000000   174600318   \n",
       "370   tt1375666  160000000   825500000   \n",
       "599   tt0468569  185000000  1001921825   \n",
       "872   tt0253474   35000000   120072577   \n",
       "1081  tt0167260   94000000  1118888979   \n",
       "1183  tt0993846  100000000   392000694   \n",
       "1191  tt2024544   20000000   187000000   \n",
       "1800  tt0209144    9000000    39723096   \n",
       "\n",
       "                                     original_title  \\\n",
       "9                                        Inside Out   \n",
       "34                                             Room   \n",
       "118                                    Interstellar   \n",
       "119                         Guardians of the Galaxy   \n",
       "125                              The Imitation Game   \n",
       "128                                       Gone Girl   \n",
       "138                        The Grand Budapest Hotel   \n",
       "370                                       Inception   \n",
       "599                                 The Dark Knight   \n",
       "872                                     The Pianist   \n",
       "1081  The Lord of the Rings: The Return of the King   \n",
       "1183                        The Wolf of Wall Street   \n",
       "1191                               12 Years a Slave   \n",
       "1800                                        Memento   \n",
       "\n",
       "                                                   cast           director  \\\n",
       "9     [Amy Poehler, Phyllis Smith, Richard Kind, Bil...        Pete Docter   \n",
       "34    [Brie Larson, Jacob Tremblay, Joan Allen, Sean...   Lenny Abrahamson   \n",
       "118   [Matthew McConaughey, Jessica Chastain, Anne H...  Christopher Nolan   \n",
       "119   [Chris Pratt, Zoe Saldana, Dave Bautista, Vin ...         James Gunn   \n",
       "125   [Benedict Cumberbatch, Keira Knightley, Matthe...      Morten Tyldum   \n",
       "128   [Ben Affleck, Rosamund Pike, Carrie Coon, Neil...      David Fincher   \n",
       "138   [Ralph Fiennes, Tony Revolori, F. Murray Abrah...       Wes Anderson   \n",
       "370   [Leonardo DiCaprio, Joseph Gordon-Levitt, Elle...  Christopher Nolan   \n",
       "599   [Christian Bale, Michael Caine, Heath Ledger, ...  Christopher Nolan   \n",
       "872   [Adrien Brody, Thomas Kretschmann, Frank Finla...     Roman Polanski   \n",
       "1081  [Elijah Wood, Ian McKellen, Viggo Mortensen, L...      Peter Jackson   \n",
       "1183  [Leonardo DiCaprio, Jonah Hill, Margot Robbie,...    Martin Scorsese   \n",
       "1191  [Chiwetel Ejiofor, Michael Fassbender, Lupita ...      Steve McQueen   \n",
       "1800  [Guy Pearce, Carrie-Anne Moss, Joe Pantoliano,...  Christopher Nolan   \n",
       "\n",
       "                                                tagline  \\\n",
       "9              Meet the little voices inside your head.   \n",
       "34                             Love knows no boundaries   \n",
       "118   Mankind was born on Earth. It was never meant ...   \n",
       "119                         All heroes start somewhere.   \n",
       "125   The true enigma was the man who cracked the code.   \n",
       "128         You don't know what you've got 'til it's...   \n",
       "138             A perfect holiday without leaving home.   \n",
       "370                Your mind is the scene of the crime.   \n",
       "599                                     Why So Serious?   \n",
       "872   Music was his passion. Survival was his master...   \n",
       "1081                    The eye of the enemy is moving.   \n",
       "1183                                EARN. SPEND. PARTY.   \n",
       "1191    The extraordinary true story of Solomon Northup   \n",
       "1800                  Some memories are best forgotten.   \n",
       "\n",
       "                                               overview  runtime  \\\n",
       "9     Growing up can be a bumpy road, and it's no ex...       94   \n",
       "34    Jack is a young boy of 5 years old who has liv...      117   \n",
       "118   Interstellar chronicles the adventures of a gr...      169   \n",
       "119   Light years from Earth, 26 years after being a...      121   \n",
       "125   Based on the real life story of legendary cryp...      113   \n",
       "128   With his wife's disappearance having become th...      145   \n",
       "138   The Grand Budapest Hotel tells of a legendary ...       99   \n",
       "370   Cobb, a skilled thief who commits corporate es...      148   \n",
       "599   Batman raises the stakes in his war on crime. ...      152   \n",
       "872   The Pianist is a film adapted from the biograp...      150   \n",
       "1081  Aragorn is revealed as the heir to the ancient...      201   \n",
       "1183  A New York stockbroker refuses to cooperate in...      180   \n",
       "1191  In the pre-Civil War United States, Solomon No...      134   \n",
       "1800  Suffering short-term memory loss after a head ...      113   \n",
       "\n",
       "                                                 genres  \\\n",
       "9                           [Comedy, Animation, Family]   \n",
       "34                                    [Drama, Thriller]   \n",
       "118                 [Adventure, Drama, Science Fiction]   \n",
       "119                [Action, Science Fiction, Adventure]   \n",
       "125                     [History, Drama, Thriller, War]   \n",
       "128                          [Mystery, Thriller, Drama]   \n",
       "138                                     [Comedy, Drama]   \n",
       "370   [Action, Thriller, Science Fiction, Mystery, A...   \n",
       "599                    [Drama, Action, Crime, Thriller]   \n",
       "872                                        [Drama, War]   \n",
       "1081                       [Adventure, Fantasy, Action]   \n",
       "1183                             [Crime, Drama, Comedy]   \n",
       "1191                                   [Drama, History]   \n",
       "1800                                [Mystery, Thriller]   \n",
       "\n",
       "                                   production_companies release_date  \\\n",
       "9     [Walt Disney Pictures, Pixar Animation Studios...     6/9/2015   \n",
       "34    [Element Pictures, No Trace Camping, A24, Dupe...   10/16/2015   \n",
       "118   [Paramount Pictures, Legendary Pictures, Warne...    11/5/2014   \n",
       "119   [Marvel Studios, Moving Picture Company (MPC),...    7/30/2014   \n",
       "125           [Black Bear Pictures, Bristol Automotive]   11/14/2014   \n",
       "128   [Twentieth Century Fox Film Corporation, Regen...    10/1/2014   \n",
       "138   [Fox Searchlight Pictures, Scott Rudin Product...    2/26/2014   \n",
       "370         [Legendary Pictures, Warner Bros., Syncopy]    7/14/2010   \n",
       "599   [DC Comics, Legendary Pictures, Warner Bros., ...    7/16/2008   \n",
       "872   [Bac Films, Canal+Polska, Heritage Films, Stud...    9/24/2002   \n",
       "1081                   [WingNut Films, New Line Cinema]    12/1/2003   \n",
       "1183  [Paramount Pictures, Appian Way, EMJAG Product...   12/25/2013   \n",
       "1191  [Plan B Entertainment, Regency Enterprises, Ri...   10/18/2013   \n",
       "1800  [Summit Entertainment, Newmarket Capital Group...   10/11/2000   \n",
       "\n",
       "      vote_average  release_year      profit release_month  word_count  \n",
       "9              8.0          2015   678708609             6         118  \n",
       "34             8.0          2015    29401758            10          51  \n",
       "118            8.0          2014   456752480            11          36  \n",
       "119            7.9          2014   603312399             7          29  \n",
       "125            8.0          2014   219555708            11          50  \n",
       "128            7.9          2014   308330363            10          31  \n",
       "138            7.9          2014   144600318             2          68  \n",
       "370            7.9          2010   665500000             7          46  \n",
       "599            8.1          2008   816921825             7          71  \n",
       "872            7.9          2002    85072577             9          43  \n",
       "1081           7.9          2003  1024888979            12          47  \n",
       "1183           7.9          2013   292000694            12          31  \n",
       "1191           7.9          2013   167000000            10          65  \n",
       "1800           7.9          2000    30723096            10          82  "
      ]
     },
     "execution_count": 57,
     "metadata": {},
     "output_type": "execute_result"
    }
   ],
   "source": [
    "boundary = data['vote_average'].quantile(0.99)\n",
    "top_percent = data.loc[data['vote_average'] > boundary]\n",
    "top_percent"
   ]
  },
  {
   "cell_type": "code",
   "execution_count": 58,
   "metadata": {},
   "outputs": [],
   "source": [
    "answers['Movies in top 1%'] = ['The Dark Knight', 'Inside Out', 'Room',\n",
    "                               'Interstellar', 'The Imitation Game',\n",
    "                               'Guardians of the Galaxy', 'Gone Girl',\n",
    "                               'The Grand Budapest Hotel', 'Inception',\n",
    "                               'The Pianist', 'Memento'\n",
    "                               'The Lord of the Rings: The Return of the King',\n",
    "                               'The Wolf of Wall Street', '12 Years a Slave'\n",
    "                              ]"
   ]
  },
  {
   "cell_type": "markdown",
   "metadata": {
    "colab_type": "text",
    "id": "MdXsUXbCVqAV"
   },
   "source": [
    "# 27. Какие актеры чаще всего снимаются в одном фильме вместе?\n",
    "# 27. Which actors appear together most often?"
   ]
  },
  {
   "cell_type": "code",
   "execution_count": 62,
   "metadata": {},
   "outputs": [
    {
     "data": {
      "text/plain": [
       "[(('Daniel Radcliffe', 'Rupert Grint'), 8)]"
      ]
     },
     "execution_count": 62,
     "metadata": {},
     "output_type": "execute_result"
    }
   ],
   "source": [
    "data_pairs = data['cast'].reset_index()\n",
    "data_pairs['pairs'] = data_pairs['cast'].apply(\n",
    "    lambda x: list(it.combinations(x, 2))\n",
    ")\n",
    "'''The function takes in a list and returns all the\n",
    "   combinations of two elements from the list'''\n",
    "data_pairs = data_pairs.explode('pairs').reset_index()\n",
    "collections.Counter(data_pairs['pairs']).most_common(1)"
   ]
  },
  {
   "cell_type": "code",
   "execution_count": 60,
   "metadata": {},
   "outputs": [],
   "source": [
    "answers['Actors who most often appear together'] = [\n",
    "    'Daniel Radcliffe', 'Rupert Grint'\n",
    "]"
   ]
  },
  {
   "cell_type": "markdown",
   "metadata": {
    "colab_type": "text",
    "id": "U0nONFnGVqAX"
   },
   "source": [
    "#  Conclusion"
   ]
  },
  {
   "cell_type": "code",
   "execution_count": 61,
   "metadata": {
    "colab": {},
    "colab_type": "code",
    "id": "IfcaRO9-VqAX",
    "outputId": "0f132912-32bb-4196-c98c-abfbc4ad5a5f"
   },
   "outputs": [
    {
     "data": {
      "text/plain": [
       "{'Highest budget': 'Pirates of the Caribbean: On Stranger Tides',\n",
       " 'Longest movie': 'Gods and Generals',\n",
       " 'Shortest movie': 'Winnie the Pooh',\n",
       " 'Mean runtime': '110 minutes',\n",
       " 'Median runtime': '107 minutes',\n",
       " 'Most profitable movie': 'Avatar',\n",
       " 'Least profitable movie': 'The Lone Ranger',\n",
       " 'Movies with net gain': '1478',\n",
       " 'Highest revenue of 2018': 'The Dark Knight',\n",
       " 'Highest loss of 2012-2014': 'The Lone Ranger',\n",
       " 'Most common genre': 'Drama',\n",
       " 'Most profitable genre': 'Drama',\n",
       " 'Director with highest revenue': 'Peter Jackson',\n",
       " 'Action Director with most movies': 'Robert Rodriguez',\n",
       " 'Most profitable actor': 'Chris Hemsworth',\n",
       " 'Actor appearing in high-budget films': 'Matt Damon',\n",
       " 'Nicolas Cage appears the most in': ' Action movies',\n",
       " 'Movie with highest net loss made by Paramount Pictures': 'K-19: The Widowmaker',\n",
       " 'Most profitable year': '2015',\n",
       " 'Most profitable year for Warner Bros': '2014',\n",
       " 'Most common month for movies to be released': '9th month, September',\n",
       " 'Number of summer releases': '450',\n",
       " 'Most productive winter director': 'Peter Jackson',\n",
       " 'Company with longest titles': 'Four By Two Productions',\n",
       " 'Company with longest overviews': 'Midnight Picture Show',\n",
       " 'Movies in top 1%': ['The Dark Knight',\n",
       "  'Inside Out',\n",
       "  'Room',\n",
       "  'Interstellar',\n",
       "  'The Imitation Game',\n",
       "  'Guardians of the Galaxy',\n",
       "  'Gone Girl',\n",
       "  'The Grand Budapest Hotel',\n",
       "  'Inception',\n",
       "  'The Pianist',\n",
       "  'MementoThe Lord of the Rings: The Return of the King',\n",
       "  'The Wolf of Wall Street',\n",
       "  '12 Years a Slave'],\n",
       " 'Actors who most often appear together': ['Daniel Radcliffe', 'Rupert Grint']}"
      ]
     },
     "execution_count": 61,
     "metadata": {},
     "output_type": "execute_result"
    }
   ],
   "source": [
    "answers"
   ]
  }
 ],
 "metadata": {
  "colab": {
   "name": "Copy of [SF-DST] Movies IMBD v4.1 TEMPLATE.ipynb",
   "provenance": []
  },
  "kernelspec": {
   "display_name": "Python 3",
   "language": "python",
   "name": "python3"
  },
  "language_info": {
   "codemirror_mode": {
    "name": "ipython",
    "version": 3
   },
   "file_extension": ".py",
   "mimetype": "text/x-python",
   "name": "python",
   "nbconvert_exporter": "python",
   "pygments_lexer": "ipython3",
   "version": "3.8.3"
  }
 },
 "nbformat": 4,
 "nbformat_minor": 1
}
