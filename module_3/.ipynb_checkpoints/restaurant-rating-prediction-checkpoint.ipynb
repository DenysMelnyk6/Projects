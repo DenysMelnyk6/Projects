{
 "cells": [
  {
   "cell_type": "code",
   "execution_count": 1,
   "metadata": {
    "_cell_guid": "b1076dfc-b9ad-4769-8c92-a6c4dae69d19",
    "_uuid": "8f2839f25d086af736a60e9eeb907d3b93b6e0e5"
   },
   "outputs": [],
   "source": [
    "import pandas as pd\n",
    "import matplotlib.pyplot as plt\n",
    "import numpy as np\n",
    "import re\n",
    "from datetime import datetime, timedelta\n",
    "import warnings\n",
    "import seaborn as sns\n",
    "warnings.simplefilter('ignore')\n",
    "\n",
    "\n",
    "pd.set_option('display.max_columns', 200)  # show more columns\n",
    "RANDOM_SEED = 27  # makes the test repeatable\n",
    "current_date = pd.to_datetime('2021/03/15')  # current date"
   ]
  },
  {
   "cell_type": "markdown",
   "metadata": {},
   "source": [
    "# 1. Loading the dataset"
   ]
  },
  {
   "cell_type": "markdown",
   "metadata": {},
   "source": [
    "The datasets contains information about restaurants. This infomation needs to be used to build a regression model capable of predicting the rating of a restaurant. \n",
    "First data frame, df_train(main_task.csv) contains information about 40000 restaurants and will be used for training and validating the model.\n",
    "The df_test('kaggle_task.csv) has information about 10000 restaurants, which rating needs to be predicted.\n",
    "Following information can be found in the data frames:\n",
    "1. Restaurant_id - restaurant identification number;\n",
    "2. City - city in which restaurant is located;\n",
    "3. Cuisine Style - tags for food that is served in the restaurant;\n",
    "4. Ranking - rank of a restaurant compared to the other restaurants in the city;\n",
    "5. Rating -  restaurant rating according to TripAdvisor, dependant variable and the value that needs to be predicted(1 to 5);\n",
    "6. Price Range - range of prices in a restaurant(category);\n",
    "7. Number of Reviews — Number of Reviews;\n",
    "8. Reviews - two reviews displayed on the website and their respective dates;\n",
    "9. URL_TA — URL on TripAdvisor;\n",
    "10. ID_TA — Identificator of restaurant in TripAdvisor's DataBase."
   ]
  },
  {
   "cell_type": "code",
   "execution_count": 2,
   "metadata": {},
   "outputs": [],
   "source": [
    "# dataset for training\n",
    "df_train = pd.read_csv('main_task.csv')\n",
    "# dataset for validation\n",
    "df_test = pd.read_csv('kaggle_task.csv')\n",
    "# submission dataset\n",
    "sample_submission = pd.read_csv('sample_submission.csv')"
   ]
  },
  {
   "cell_type": "code",
   "execution_count": 3,
   "metadata": {},
   "outputs": [],
   "source": [
    "# For the correct processing of features,\n",
    "# combine train and test sets into a one dataset\n",
    "\n",
    "df_train['sample'] = 1  # train\n",
    "df_test['sample'] = 0  # test\n",
    "# as we have to predict rating, in test set we just fill it with 0\n",
    "df_test['Rating'] = 0\n",
    "\n",
    "df = df_test.append(df_train, sort=False).reset_index(\n",
    "    drop=True)  # combine sets"
   ]
  },
  {
   "cell_type": "markdown",
   "metadata": {},
   "source": [
    "# 1.1 Basic look at the dataset\n"
   ]
  },
  {
   "cell_type": "code",
   "execution_count": 4,
   "metadata": {},
   "outputs": [
    {
     "data": {
      "text/html": [
       "<div>\n",
       "<style scoped>\n",
       "    .dataframe tbody tr th:only-of-type {\n",
       "        vertical-align: middle;\n",
       "    }\n",
       "\n",
       "    .dataframe tbody tr th {\n",
       "        vertical-align: top;\n",
       "    }\n",
       "\n",
       "    .dataframe thead th {\n",
       "        text-align: right;\n",
       "    }\n",
       "</style>\n",
       "<table border=\"1\" class=\"dataframe\">\n",
       "  <thead>\n",
       "    <tr style=\"text-align: right;\">\n",
       "      <th></th>\n",
       "      <th>Restaurant_id</th>\n",
       "      <th>City</th>\n",
       "      <th>Cuisine Style</th>\n",
       "      <th>Ranking</th>\n",
       "      <th>Price Range</th>\n",
       "      <th>Number of Reviews</th>\n",
       "      <th>Reviews</th>\n",
       "      <th>URL_TA</th>\n",
       "      <th>ID_TA</th>\n",
       "      <th>sample</th>\n",
       "      <th>Rating</th>\n",
       "    </tr>\n",
       "  </thead>\n",
       "  <tbody>\n",
       "    <tr>\n",
       "      <th>0</th>\n",
       "      <td>id_0</td>\n",
       "      <td>Paris</td>\n",
       "      <td>['Bar', 'Pub']</td>\n",
       "      <td>12963.0</td>\n",
       "      <td>$$ - $$$</td>\n",
       "      <td>4.0</td>\n",
       "      <td>[[], []]</td>\n",
       "      <td>/Restaurant_Review-g187147-d10746918-Reviews-L...</td>\n",
       "      <td>d10746918</td>\n",
       "      <td>0</td>\n",
       "      <td>0.0</td>\n",
       "    </tr>\n",
       "    <tr>\n",
       "      <th>1</th>\n",
       "      <td>id_1</td>\n",
       "      <td>Helsinki</td>\n",
       "      <td>['European', 'Scandinavian', 'Gluten Free Opti...</td>\n",
       "      <td>106.0</td>\n",
       "      <td>$$ - $$$</td>\n",
       "      <td>97.0</td>\n",
       "      <td>[['Very good reviews!', 'Fine dining in Hakani...</td>\n",
       "      <td>/Restaurant_Review-g189934-d6674944-Reviews-Ra...</td>\n",
       "      <td>d6674944</td>\n",
       "      <td>0</td>\n",
       "      <td>0.0</td>\n",
       "    </tr>\n",
       "    <tr>\n",
       "      <th>2</th>\n",
       "      <td>id_2</td>\n",
       "      <td>Edinburgh</td>\n",
       "      <td>['Vegetarian Friendly']</td>\n",
       "      <td>810.0</td>\n",
       "      <td>$$ - $$$</td>\n",
       "      <td>28.0</td>\n",
       "      <td>[['Better than the Links', 'Ivy Black'], ['12/...</td>\n",
       "      <td>/Restaurant_Review-g186525-d13129638-Reviews-B...</td>\n",
       "      <td>d13129638</td>\n",
       "      <td>0</td>\n",
       "      <td>0.0</td>\n",
       "    </tr>\n",
       "    <tr>\n",
       "      <th>3</th>\n",
       "      <td>id_3</td>\n",
       "      <td>London</td>\n",
       "      <td>['Italian', 'Mediterranean', 'European', 'Vege...</td>\n",
       "      <td>1669.0</td>\n",
       "      <td>$$$$</td>\n",
       "      <td>202.0</td>\n",
       "      <td>[['Most exquisite', 'Delicious and authentic']...</td>\n",
       "      <td>/Restaurant_Review-g186338-d680417-Reviews-Qui...</td>\n",
       "      <td>d680417</td>\n",
       "      <td>0</td>\n",
       "      <td>0.0</td>\n",
       "    </tr>\n",
       "    <tr>\n",
       "      <th>4</th>\n",
       "      <td>id_4</td>\n",
       "      <td>Bratislava</td>\n",
       "      <td>['Italian', 'Mediterranean', 'European', 'Seaf...</td>\n",
       "      <td>37.0</td>\n",
       "      <td>$$$$</td>\n",
       "      <td>162.0</td>\n",
       "      <td>[['Always the best in bratislava', 'Very good ...</td>\n",
       "      <td>/Restaurant_Review-g274924-d1112354-Reviews-Ma...</td>\n",
       "      <td>d1112354</td>\n",
       "      <td>0</td>\n",
       "      <td>0.0</td>\n",
       "    </tr>\n",
       "  </tbody>\n",
       "</table>\n",
       "</div>"
      ],
      "text/plain": [
       "  Restaurant_id        City  \\\n",
       "0          id_0       Paris   \n",
       "1          id_1    Helsinki   \n",
       "2          id_2   Edinburgh   \n",
       "3          id_3      London   \n",
       "4          id_4  Bratislava   \n",
       "\n",
       "                                       Cuisine Style  Ranking Price Range  \\\n",
       "0                                     ['Bar', 'Pub']  12963.0    $$ - $$$   \n",
       "1  ['European', 'Scandinavian', 'Gluten Free Opti...    106.0    $$ - $$$   \n",
       "2                            ['Vegetarian Friendly']    810.0    $$ - $$$   \n",
       "3  ['Italian', 'Mediterranean', 'European', 'Vege...   1669.0        $$$$   \n",
       "4  ['Italian', 'Mediterranean', 'European', 'Seaf...     37.0        $$$$   \n",
       "\n",
       "   Number of Reviews                                            Reviews  \\\n",
       "0                4.0                                           [[], []]   \n",
       "1               97.0  [['Very good reviews!', 'Fine dining in Hakani...   \n",
       "2               28.0  [['Better than the Links', 'Ivy Black'], ['12/...   \n",
       "3              202.0  [['Most exquisite', 'Delicious and authentic']...   \n",
       "4              162.0  [['Always the best in bratislava', 'Very good ...   \n",
       "\n",
       "                                              URL_TA      ID_TA  sample  \\\n",
       "0  /Restaurant_Review-g187147-d10746918-Reviews-L...  d10746918       0   \n",
       "1  /Restaurant_Review-g189934-d6674944-Reviews-Ra...   d6674944       0   \n",
       "2  /Restaurant_Review-g186525-d13129638-Reviews-B...  d13129638       0   \n",
       "3  /Restaurant_Review-g186338-d680417-Reviews-Qui...    d680417       0   \n",
       "4  /Restaurant_Review-g274924-d1112354-Reviews-Ma...   d1112354       0   \n",
       "\n",
       "   Rating  \n",
       "0     0.0  \n",
       "1     0.0  \n",
       "2     0.0  \n",
       "3     0.0  \n",
       "4     0.0  "
      ]
     },
     "execution_count": 4,
     "metadata": {},
     "output_type": "execute_result"
    }
   ],
   "source": [
    "df.head()"
   ]
  },
  {
   "cell_type": "code",
   "execution_count": 5,
   "metadata": {},
   "outputs": [],
   "source": [
    "# renaming the columns so they are easier to read\n",
    "df.columns = ['id', 'city', 'cuisine', 'ranking',\n",
    "              'prices', 'number_of_reviews', 'reviews', 'url',\n",
    "              'website_id', 'sample', 'rating']"
   ]
  },
  {
   "cell_type": "code",
   "execution_count": 6,
   "metadata": {},
   "outputs": [],
   "source": [
    "# at the moment url is not used, so it is dropped at the start\n",
    "df.drop(['url'], inplace=True, axis=1)"
   ]
  },
  {
   "cell_type": "code",
   "execution_count": 7,
   "metadata": {},
   "outputs": [
    {
     "data": {
      "text/plain": [
       "id                   13094\n",
       "city                    31\n",
       "cuisine              10732\n",
       "ranking              12975\n",
       "prices                   4\n",
       "number_of_reviews     1574\n",
       "reviews              41858\n",
       "website_id           49963\n",
       "sample                   2\n",
       "rating                  10\n",
       "dtype: int64"
      ]
     },
     "execution_count": 7,
     "metadata": {},
     "output_type": "execute_result"
    }
   ],
   "source": [
    "# general look at the number of unique values in df\n",
    "df.nunique(dropna=False)"
   ]
  },
  {
   "cell_type": "code",
   "execution_count": 8,
   "metadata": {},
   "outputs": [
    {
     "name": "stdout",
     "output_type": "stream",
     "text": [
      "<class 'pandas.core.frame.DataFrame'>\n",
      "RangeIndex: 50000 entries, 0 to 49999\n",
      "Data columns (total 10 columns):\n",
      " #   Column             Non-Null Count  Dtype  \n",
      "---  ------             --------------  -----  \n",
      " 0   id                 50000 non-null  object \n",
      " 1   city               50000 non-null  object \n",
      " 2   cuisine            38410 non-null  object \n",
      " 3   ranking            50000 non-null  float64\n",
      " 4   prices             32639 non-null  object \n",
      " 5   number_of_reviews  46800 non-null  float64\n",
      " 6   reviews            49998 non-null  object \n",
      " 7   website_id         50000 non-null  object \n",
      " 8   sample             50000 non-null  int64  \n",
      " 9   rating             50000 non-null  float64\n",
      "dtypes: float64(3), int64(1), object(6)\n",
      "memory usage: 3.8+ MB\n"
     ]
    }
   ],
   "source": [
    "df.info()"
   ]
  },
  {
   "cell_type": "markdown",
   "metadata": {},
   "source": [
    "It appears that the column id has repeatable values, which might be duplicates.\n",
    "The columns cuisine, prices and number_of_reviews have 9283, 13886 and 2543 NaN values.\n",
    "Most columns have data dype object, with only ranking, rating and number_of_reviews being float64."
   ]
  },
  {
   "cell_type": "markdown",
   "metadata": {},
   "source": [
    "# 1.1 Restaurant ID"
   ]
  },
  {
   "cell_type": "code",
   "execution_count": 9,
   "metadata": {},
   "outputs": [],
   "source": [
    "df.id = df.id.apply(lambda x: x[3:])  # getting rid of the id_ part"
   ]
  },
  {
   "cell_type": "code",
   "execution_count": 10,
   "metadata": {},
   "outputs": [
    {
     "data": {
      "text/html": [
       "<div>\n",
       "<style scoped>\n",
       "    .dataframe tbody tr th:only-of-type {\n",
       "        vertical-align: middle;\n",
       "    }\n",
       "\n",
       "    .dataframe tbody tr th {\n",
       "        vertical-align: top;\n",
       "    }\n",
       "\n",
       "    .dataframe thead th {\n",
       "        text-align: right;\n",
       "    }\n",
       "</style>\n",
       "<table border=\"1\" class=\"dataframe\">\n",
       "  <thead>\n",
       "    <tr style=\"text-align: right;\">\n",
       "      <th></th>\n",
       "      <th>id</th>\n",
       "      <th>city</th>\n",
       "      <th>cuisine</th>\n",
       "      <th>ranking</th>\n",
       "      <th>prices</th>\n",
       "      <th>number_of_reviews</th>\n",
       "      <th>reviews</th>\n",
       "      <th>website_id</th>\n",
       "      <th>sample</th>\n",
       "      <th>rating</th>\n",
       "    </tr>\n",
       "  </thead>\n",
       "  <tbody>\n",
       "    <tr>\n",
       "      <th>227</th>\n",
       "      <td>227</td>\n",
       "      <td>Madrid</td>\n",
       "      <td>NaN</td>\n",
       "      <td>3208.0</td>\n",
       "      <td>NaN</td>\n",
       "      <td>23.0</td>\n",
       "      <td>[['40th', 'The Center of Spain'], ['07/23/2017...</td>\n",
       "      <td>d10040653</td>\n",
       "      <td>0</td>\n",
       "      <td>0.0</td>\n",
       "    </tr>\n",
       "    <tr>\n",
       "      <th>11065</th>\n",
       "      <td>227</td>\n",
       "      <td>Luxembourg</td>\n",
       "      <td>['Lebanese', 'Mediterranean', 'Middle Eastern'...</td>\n",
       "      <td>228.0</td>\n",
       "      <td>$$ - $$$</td>\n",
       "      <td>21.0</td>\n",
       "      <td>[['Nice little Lebanese restaurant', 'Great fo...</td>\n",
       "      <td>d10275783</td>\n",
       "      <td>1</td>\n",
       "      <td>4.0</td>\n",
       "    </tr>\n",
       "    <tr>\n",
       "      <th>14727</th>\n",
       "      <td>227</td>\n",
       "      <td>Bratislava</td>\n",
       "      <td>['Healthy', 'European', 'Mediterranean', 'Vege...</td>\n",
       "      <td>228.0</td>\n",
       "      <td>$$ - $$$</td>\n",
       "      <td>122.0</td>\n",
       "      <td>[['Great fish (African sharptooth catfish)', '...</td>\n",
       "      <td>d4009959</td>\n",
       "      <td>1</td>\n",
       "      <td>4.0</td>\n",
       "    </tr>\n",
       "    <tr>\n",
       "      <th>16237</th>\n",
       "      <td>227</td>\n",
       "      <td>Athens</td>\n",
       "      <td>['European', 'Greek', 'Mediterranean']</td>\n",
       "      <td>228.0</td>\n",
       "      <td>$$ - $$$</td>\n",
       "      <td>220.0</td>\n",
       "      <td>[['Spectacular view and food', 'Great view'], ...</td>\n",
       "      <td>d1898490</td>\n",
       "      <td>1</td>\n",
       "      <td>4.5</td>\n",
       "    </tr>\n",
       "    <tr>\n",
       "      <th>17521</th>\n",
       "      <td>227</td>\n",
       "      <td>Warsaw</td>\n",
       "      <td>['Polish', 'European', 'Central European', 'Ea...</td>\n",
       "      <td>228.0</td>\n",
       "      <td>$$ - $$$</td>\n",
       "      <td>95.0</td>\n",
       "      <td>[['Great place', 'A lovely warm place and good...</td>\n",
       "      <td>d2410632</td>\n",
       "      <td>1</td>\n",
       "      <td>4.0</td>\n",
       "    </tr>\n",
       "    <tr>\n",
       "      <th>19299</th>\n",
       "      <td>227</td>\n",
       "      <td>Amsterdam</td>\n",
       "      <td>['Dutch', 'Bar', 'European', 'Gastropub', 'Caf...</td>\n",
       "      <td>228.0</td>\n",
       "      <td>$$ - $$$</td>\n",
       "      <td>201.0</td>\n",
       "      <td>[['Historic jewel of a bar in Amsterdam', 'Gre...</td>\n",
       "      <td>d753101</td>\n",
       "      <td>1</td>\n",
       "      <td>4.5</td>\n",
       "    </tr>\n",
       "    <tr>\n",
       "      <th>22537</th>\n",
       "      <td>227</td>\n",
       "      <td>Madrid</td>\n",
       "      <td>['Bar', 'Mediterranean', 'Spanish', 'Vegetaria...</td>\n",
       "      <td>228.0</td>\n",
       "      <td>$$ - $$$</td>\n",
       "      <td>1011.0</td>\n",
       "      <td>[['Dinner', 'Old traditional Spanish restauran...</td>\n",
       "      <td>d697471</td>\n",
       "      <td>1</td>\n",
       "      <td>4.0</td>\n",
       "    </tr>\n",
       "    <tr>\n",
       "      <th>23876</th>\n",
       "      <td>227</td>\n",
       "      <td>Rome</td>\n",
       "      <td>['Italian', 'Pizza', 'Mediterranean', 'Vegetar...</td>\n",
       "      <td>228.0</td>\n",
       "      <td>$$ - $$$</td>\n",
       "      <td>1066.0</td>\n",
       "      <td>[['Great start to Italian food journey', 'My F...</td>\n",
       "      <td>d1516161</td>\n",
       "      <td>1</td>\n",
       "      <td>4.5</td>\n",
       "    </tr>\n",
       "    <tr>\n",
       "      <th>24990</th>\n",
       "      <td>227</td>\n",
       "      <td>Dublin</td>\n",
       "      <td>['Italian', 'Pizza', 'Mediterranean', 'Europea...</td>\n",
       "      <td>228.0</td>\n",
       "      <td>$$ - $$$</td>\n",
       "      <td>119.0</td>\n",
       "      <td>[['Fantastic with young people', 'Italian Scho...</td>\n",
       "      <td>d10516461</td>\n",
       "      <td>1</td>\n",
       "      <td>4.5</td>\n",
       "    </tr>\n",
       "    <tr>\n",
       "      <th>27610</th>\n",
       "      <td>227</td>\n",
       "      <td>Ljubljana</td>\n",
       "      <td>['Pizza', 'European', 'Slovenian']</td>\n",
       "      <td>228.0</td>\n",
       "      <td>$$ - $$$</td>\n",
       "      <td>78.0</td>\n",
       "      <td>[['Good beer', 'OK if you choose correctly'], ...</td>\n",
       "      <td>d3292800</td>\n",
       "      <td>1</td>\n",
       "      <td>3.5</td>\n",
       "    </tr>\n",
       "    <tr>\n",
       "      <th>30591</th>\n",
       "      <td>227</td>\n",
       "      <td>Helsinki</td>\n",
       "      <td>['Asian', 'Vietnamese', 'Vegetarian Friendly',...</td>\n",
       "      <td>228.0</td>\n",
       "      <td>$</td>\n",
       "      <td>42.0</td>\n",
       "      <td>[['Amazing and cheap Vietnamese veggie food', ...</td>\n",
       "      <td>d7130658</td>\n",
       "      <td>1</td>\n",
       "      <td>4.5</td>\n",
       "    </tr>\n",
       "    <tr>\n",
       "      <th>32548</th>\n",
       "      <td>227</td>\n",
       "      <td>Oslo</td>\n",
       "      <td>['Pizza', 'Italian', 'European', 'Gluten Free ...</td>\n",
       "      <td>228.0</td>\n",
       "      <td>$$ - $$$</td>\n",
       "      <td>111.0</td>\n",
       "      <td>[['Great bakery during the day, fantastic piz....</td>\n",
       "      <td>d2007517</td>\n",
       "      <td>1</td>\n",
       "      <td>4.5</td>\n",
       "    </tr>\n",
       "    <tr>\n",
       "      <th>38763</th>\n",
       "      <td>227</td>\n",
       "      <td>Barcelona</td>\n",
       "      <td>['Steakhouse', 'Contemporary', 'Vegetarian Fri...</td>\n",
       "      <td>228.0</td>\n",
       "      <td>$$ - $$$</td>\n",
       "      <td>525.0</td>\n",
       "      <td>[['A great dinner!', 'Excellent'], ['01/02/201...</td>\n",
       "      <td>d1495880</td>\n",
       "      <td>1</td>\n",
       "      <td>4.5</td>\n",
       "    </tr>\n",
       "    <tr>\n",
       "      <th>38846</th>\n",
       "      <td>227</td>\n",
       "      <td>Budapest</td>\n",
       "      <td>['American', 'Bar', 'European', 'Central Europ...</td>\n",
       "      <td>228.0</td>\n",
       "      <td>$$ - $$$</td>\n",
       "      <td>1241.0</td>\n",
       "      <td>[['Good Atmosphere', 'Really nice place'], ['1...</td>\n",
       "      <td>d3823279</td>\n",
       "      <td>1</td>\n",
       "      <td>4.0</td>\n",
       "    </tr>\n",
       "    <tr>\n",
       "      <th>41368</th>\n",
       "      <td>227</td>\n",
       "      <td>Milan</td>\n",
       "      <td>['Italian', 'Seafood', 'European', 'Gluten Fre...</td>\n",
       "      <td>228.0</td>\n",
       "      <td>$$ - $$$</td>\n",
       "      <td>654.0</td>\n",
       "      <td>[['Perfect for lunch', 'Nice restaurant and go...</td>\n",
       "      <td>d7285833</td>\n",
       "      <td>1</td>\n",
       "      <td>4.0</td>\n",
       "    </tr>\n",
       "    <tr>\n",
       "      <th>42016</th>\n",
       "      <td>227</td>\n",
       "      <td>Vienna</td>\n",
       "      <td>['German', 'Austrian', 'European', 'Central Eu...</td>\n",
       "      <td>228.0</td>\n",
       "      <td>$</td>\n",
       "      <td>128.0</td>\n",
       "      <td>[['A welcome port in a snow storm!', 'Local pl...</td>\n",
       "      <td>d3606645</td>\n",
       "      <td>1</td>\n",
       "      <td>4.5</td>\n",
       "    </tr>\n",
       "    <tr>\n",
       "      <th>48462</th>\n",
       "      <td>227</td>\n",
       "      <td>Geneva</td>\n",
       "      <td>['Japanese', 'Sushi', 'Asian', 'Fusion', 'Vege...</td>\n",
       "      <td>229.0</td>\n",
       "      <td>$$$$</td>\n",
       "      <td>92.0</td>\n",
       "      <td>[['Amazing', 'Good location with a great view'...</td>\n",
       "      <td>d6393335</td>\n",
       "      <td>1</td>\n",
       "      <td>4.5</td>\n",
       "    </tr>\n",
       "    <tr>\n",
       "      <th>49288</th>\n",
       "      <td>227</td>\n",
       "      <td>Zurich</td>\n",
       "      <td>['French', 'European', 'Central European', 'Ve...</td>\n",
       "      <td>229.0</td>\n",
       "      <td>$$ - $$$</td>\n",
       "      <td>198.0</td>\n",
       "      <td>[['Great French Bistro', 'Returning to an easy...</td>\n",
       "      <td>d1181607</td>\n",
       "      <td>1</td>\n",
       "      <td>4.5</td>\n",
       "    </tr>\n",
       "    <tr>\n",
       "      <th>49601</th>\n",
       "      <td>227</td>\n",
       "      <td>Oporto</td>\n",
       "      <td>['Mediterranean', 'European', 'Portuguese', 'V...</td>\n",
       "      <td>228.0</td>\n",
       "      <td>$$ - $$$</td>\n",
       "      <td>422.0</td>\n",
       "      <td>[['Very Delicious', 'Amazing food in a vintage...</td>\n",
       "      <td>d6840750</td>\n",
       "      <td>1</td>\n",
       "      <td>4.0</td>\n",
       "    </tr>\n",
       "  </tbody>\n",
       "</table>\n",
       "</div>"
      ],
      "text/plain": [
       "        id        city                                            cuisine  \\\n",
       "227    227      Madrid                                                NaN   \n",
       "11065  227  Luxembourg  ['Lebanese', 'Mediterranean', 'Middle Eastern'...   \n",
       "14727  227  Bratislava  ['Healthy', 'European', 'Mediterranean', 'Vege...   \n",
       "16237  227      Athens             ['European', 'Greek', 'Mediterranean']   \n",
       "17521  227      Warsaw  ['Polish', 'European', 'Central European', 'Ea...   \n",
       "19299  227   Amsterdam  ['Dutch', 'Bar', 'European', 'Gastropub', 'Caf...   \n",
       "22537  227      Madrid  ['Bar', 'Mediterranean', 'Spanish', 'Vegetaria...   \n",
       "23876  227        Rome  ['Italian', 'Pizza', 'Mediterranean', 'Vegetar...   \n",
       "24990  227      Dublin  ['Italian', 'Pizza', 'Mediterranean', 'Europea...   \n",
       "27610  227   Ljubljana                 ['Pizza', 'European', 'Slovenian']   \n",
       "30591  227    Helsinki  ['Asian', 'Vietnamese', 'Vegetarian Friendly',...   \n",
       "32548  227        Oslo  ['Pizza', 'Italian', 'European', 'Gluten Free ...   \n",
       "38763  227   Barcelona  ['Steakhouse', 'Contemporary', 'Vegetarian Fri...   \n",
       "38846  227    Budapest  ['American', 'Bar', 'European', 'Central Europ...   \n",
       "41368  227       Milan  ['Italian', 'Seafood', 'European', 'Gluten Fre...   \n",
       "42016  227      Vienna  ['German', 'Austrian', 'European', 'Central Eu...   \n",
       "48462  227      Geneva  ['Japanese', 'Sushi', 'Asian', 'Fusion', 'Vege...   \n",
       "49288  227      Zurich  ['French', 'European', 'Central European', 'Ve...   \n",
       "49601  227      Oporto  ['Mediterranean', 'European', 'Portuguese', 'V...   \n",
       "\n",
       "       ranking    prices  number_of_reviews  \\\n",
       "227     3208.0       NaN               23.0   \n",
       "11065    228.0  $$ - $$$               21.0   \n",
       "14727    228.0  $$ - $$$              122.0   \n",
       "16237    228.0  $$ - $$$              220.0   \n",
       "17521    228.0  $$ - $$$               95.0   \n",
       "19299    228.0  $$ - $$$              201.0   \n",
       "22537    228.0  $$ - $$$             1011.0   \n",
       "23876    228.0  $$ - $$$             1066.0   \n",
       "24990    228.0  $$ - $$$              119.0   \n",
       "27610    228.0  $$ - $$$               78.0   \n",
       "30591    228.0         $               42.0   \n",
       "32548    228.0  $$ - $$$              111.0   \n",
       "38763    228.0  $$ - $$$              525.0   \n",
       "38846    228.0  $$ - $$$             1241.0   \n",
       "41368    228.0  $$ - $$$              654.0   \n",
       "42016    228.0         $              128.0   \n",
       "48462    229.0      $$$$               92.0   \n",
       "49288    229.0  $$ - $$$              198.0   \n",
       "49601    228.0  $$ - $$$              422.0   \n",
       "\n",
       "                                                 reviews website_id  sample  \\\n",
       "227    [['40th', 'The Center of Spain'], ['07/23/2017...  d10040653       0   \n",
       "11065  [['Nice little Lebanese restaurant', 'Great fo...  d10275783       1   \n",
       "14727  [['Great fish (African sharptooth catfish)', '...   d4009959       1   \n",
       "16237  [['Spectacular view and food', 'Great view'], ...   d1898490       1   \n",
       "17521  [['Great place', 'A lovely warm place and good...   d2410632       1   \n",
       "19299  [['Historic jewel of a bar in Amsterdam', 'Gre...    d753101       1   \n",
       "22537  [['Dinner', 'Old traditional Spanish restauran...    d697471       1   \n",
       "23876  [['Great start to Italian food journey', 'My F...   d1516161       1   \n",
       "24990  [['Fantastic with young people', 'Italian Scho...  d10516461       1   \n",
       "27610  [['Good beer', 'OK if you choose correctly'], ...   d3292800       1   \n",
       "30591  [['Amazing and cheap Vietnamese veggie food', ...   d7130658       1   \n",
       "32548  [['Great bakery during the day, fantastic piz....   d2007517       1   \n",
       "38763  [['A great dinner!', 'Excellent'], ['01/02/201...   d1495880       1   \n",
       "38846  [['Good Atmosphere', 'Really nice place'], ['1...   d3823279       1   \n",
       "41368  [['Perfect for lunch', 'Nice restaurant and go...   d7285833       1   \n",
       "42016  [['A welcome port in a snow storm!', 'Local pl...   d3606645       1   \n",
       "48462  [['Amazing', 'Good location with a great view'...   d6393335       1   \n",
       "49288  [['Great French Bistro', 'Returning to an easy...   d1181607       1   \n",
       "49601  [['Very Delicious', 'Amazing food in a vintage...   d6840750       1   \n",
       "\n",
       "       rating  \n",
       "227       0.0  \n",
       "11065     4.0  \n",
       "14727     4.0  \n",
       "16237     4.5  \n",
       "17521     4.0  \n",
       "19299     4.5  \n",
       "22537     4.0  \n",
       "23876     4.5  \n",
       "24990     4.5  \n",
       "27610     3.5  \n",
       "30591     4.5  \n",
       "32548     4.5  \n",
       "38763     4.5  \n",
       "38846     4.0  \n",
       "41368     4.0  \n",
       "42016     4.5  \n",
       "48462     4.5  \n",
       "49288     4.5  \n",
       "49601     4.0  "
      ]
     },
     "execution_count": 10,
     "metadata": {},
     "output_type": "execute_result"
    }
   ],
   "source": [
    "# displaying the restaurants that share id\n",
    "df.loc[df.id == df.id.value_counts().index[0]]"
   ]
  },
  {
   "cell_type": "markdown",
   "metadata": {},
   "source": [
    "It appears that the line are not duplicated, so the restaurants sharing id are just chain restaurants."
   ]
  },
  {
   "cell_type": "code",
   "execution_count": 11,
   "metadata": {},
   "outputs": [],
   "source": [
    "# Marking such restaurants should we need it in the future\n",
    "chain_restaurant = df.id.value_counts()[df.id.value_counts()>1].index.tolist()\n",
    "df['chain_restaurant'] = df[df.id.isin(chain_restaurant)].id.apply(lambda x: 1)\n",
    "df.chain_restaurant = df['chain_restaurant'].fillna(0)"
   ]
  },
  {
   "cell_type": "markdown",
   "metadata": {},
   "source": [
    "# 1.2 Cities"
   ]
  },
  {
   "cell_type": "code",
   "execution_count": 12,
   "metadata": {},
   "outputs": [
    {
     "data": {
      "text/plain": [
       "London        7193\n",
       "Paris         6108\n",
       "Madrid        3813\n",
       "Barcelona     3395\n",
       "Berlin        2705\n",
       "Milan         2694\n",
       "Rome          2589\n",
       "Prague        1816\n",
       "Lisbon        1647\n",
       "Vienna        1443\n",
       "Amsterdam     1372\n",
       "Brussels      1314\n",
       "Hamburg       1186\n",
       "Munich        1145\n",
       "Lyon          1126\n",
       "Stockholm     1033\n",
       "Budapest      1021\n",
       "Warsaw         925\n",
       "Dublin         836\n",
       "Copenhagen     819\n",
       "Athens         776\n",
       "Edinburgh      745\n",
       "Zurich         685\n",
       "Oporto         642\n",
       "Geneva         590\n",
       "Krakow         554\n",
       "Oslo           488\n",
       "Helsinki       475\n",
       "Bratislava     380\n",
       "Luxembourg     263\n",
       "Ljubljana      222\n",
       "Name: city, dtype: int64"
      ]
     },
     "execution_count": 12,
     "metadata": {},
     "output_type": "execute_result"
    }
   ],
   "source": [
    "# check if there are any repetitions/alternative notations for city names\n",
    "df.city.value_counts()"
   ]
  },
  {
   "cell_type": "code",
   "execution_count": 13,
   "metadata": {},
   "outputs": [
    {
     "data": {
      "image/png": "[encoded data removed]",
      "text/plain": [
       "<Figure size 1080x360 with 1 Axes>"
      ]
     },
     "metadata": {
      "needs_background": "light"
     },
     "output_type": "display_data"
    }
   ],
   "source": [
    "plt.figure(figsize=(15, 5))\n",
    "sns.countplot(df['city'], order=df['city'].value_counts().index)\n",
    "plt.title('Cities Distribution\\n', fontsize=15)\n",
    "plt.xticks(rotation=90)\n",
    "plt.ylabel('Frequency')\n",
    "plt.xlabel('City')\n",
    "\n",
    "cities = df.city.unique()  # creating list with all the cities"
   ]
  },
  {
   "cell_type": "markdown",
   "metadata": {},
   "source": [
    "# 1.3 Cuisine"
   ]
  },
  {
   "cell_type": "code",
   "execution_count": 14,
   "metadata": {},
   "outputs": [
    {
     "data": {
      "text/plain": [
       "(\"['Bar', 'Pub']\", str)"
      ]
     },
     "execution_count": 14,
     "metadata": {},
     "output_type": "execute_result"
    }
   ],
   "source": [
    "df.cuisine[0], type(df.cuisine[0])"
   ]
  },
  {
   "cell_type": "markdown",
   "metadata": {},
   "source": [
    "It appears that data in this column is a string, arrenged to look like a list."
   ]
  },
  {
   "cell_type": "code",
   "execution_count": 15,
   "metadata": {},
   "outputs": [],
   "source": [
    "def separation(data):\n",
    "    '''Function for separation of certain data in the dataset.\n",
    "       Function takes in a string and returns a\n",
    "       list of elements of the string'''\n",
    "    data = data.replace('[', '')\n",
    "    data = data.replace(']', '')\n",
    "    data = data.replace('\\'', '')\n",
    "    data = data.lower()\n",
    "    data = data.split(',')\n",
    "    data = [element.strip() for element in data]\n",
    "    return data"
   ]
  },
  {
   "cell_type": "code",
   "execution_count": 16,
   "metadata": {},
   "outputs": [],
   "source": [
    "# marking the lines that had their values filled in\n",
    "df['filled_cuisine'] = df[df.cuisine.isna()].cuisine.apply(lambda x: 1)\n",
    "df['filled_cuisine'] = df['filled_cuisine'].fillna(0)"
   ]
  },
  {
   "cell_type": "code",
   "execution_count": 17,
   "metadata": {},
   "outputs": [
    {
     "data": {
      "text/html": [
       "<div>\n",
       "<style scoped>\n",
       "    .dataframe tbody tr th:only-of-type {\n",
       "        vertical-align: middle;\n",
       "    }\n",
       "\n",
       "    .dataframe tbody tr th {\n",
       "        vertical-align: top;\n",
       "    }\n",
       "\n",
       "    .dataframe thead th {\n",
       "        text-align: right;\n",
       "    }\n",
       "</style>\n",
       "<table border=\"1\" class=\"dataframe\">\n",
       "  <thead>\n",
       "    <tr style=\"text-align: right;\">\n",
       "      <th></th>\n",
       "      <th>cuisine</th>\n",
       "    </tr>\n",
       "  </thead>\n",
       "  <tbody>\n",
       "    <tr>\n",
       "      <th>vegetarian friendly</th>\n",
       "      <td>14021</td>\n",
       "    </tr>\n",
       "    <tr>\n",
       "      <th>european</th>\n",
       "      <td>12561</td>\n",
       "    </tr>\n",
       "    <tr>\n",
       "      <th>other_cuisine</th>\n",
       "      <td>11590</td>\n",
       "    </tr>\n",
       "    <tr>\n",
       "      <th>mediterranean</th>\n",
       "      <td>7820</td>\n",
       "    </tr>\n",
       "    <tr>\n",
       "      <th>italian</th>\n",
       "      <td>7433</td>\n",
       "    </tr>\n",
       "    <tr>\n",
       "      <th>...</th>\n",
       "      <td>...</td>\n",
       "    </tr>\n",
       "    <tr>\n",
       "      <th>fujian</th>\n",
       "      <td>2</td>\n",
       "    </tr>\n",
       "    <tr>\n",
       "      <th>burmese</th>\n",
       "      <td>1</td>\n",
       "    </tr>\n",
       "    <tr>\n",
       "      <th>xinjiang</th>\n",
       "      <td>1</td>\n",
       "    </tr>\n",
       "    <tr>\n",
       "      <th>latvian</th>\n",
       "      <td>1</td>\n",
       "    </tr>\n",
       "    <tr>\n",
       "      <th>salvadoran</th>\n",
       "      <td>1</td>\n",
       "    </tr>\n",
       "  </tbody>\n",
       "</table>\n",
       "<p>126 rows × 1 columns</p>\n",
       "</div>"
      ],
      "text/plain": [
       "                     cuisine\n",
       "vegetarian friendly    14021\n",
       "european               12561\n",
       "other_cuisine          11590\n",
       "mediterranean           7820\n",
       "italian                 7433\n",
       "...                      ...\n",
       "fujian                     2\n",
       "burmese                    1\n",
       "xinjiang                   1\n",
       "latvian                    1\n",
       "salvadoran                 1\n",
       "\n",
       "[126 rows x 1 columns]"
      ]
     },
     "execution_count": 17,
     "metadata": {},
     "output_type": "execute_result"
    }
   ],
   "source": [
    "# Fill in the empty lines and separates the strings,\n",
    "# making lists of tags of cuisines\n",
    "df.cuisine = df.cuisine.fillna('other_cuisine').apply(separation)\n",
    "cuisine_exploded = df.explode('cuisine')\n",
    "# counting down how often each cousine is seen\n",
    "pd.DataFrame(cuisine_exploded.cuisine.value_counts())"
   ]
  },
  {
   "cell_type": "code",
   "execution_count": 18,
   "metadata": {},
   "outputs": [
    {
     "data": {
      "text/plain": [
       "{'Paris': 'french',\n",
       " 'Helsinki': 'european',\n",
       " 'Edinburgh': 'vegetarian friendly',\n",
       " 'London': 'vegetarian friendly',\n",
       " 'Bratislava': 'other_cuisine',\n",
       " 'Lisbon': 'european',\n",
       " 'Budapest': 'european',\n",
       " 'Stockholm': 'european',\n",
       " 'Rome': 'italian',\n",
       " 'Milan': 'italian',\n",
       " 'Munich': 'vegetarian friendly',\n",
       " 'Hamburg': 'other_cuisine',\n",
       " 'Prague': 'european',\n",
       " 'Vienna': 'european',\n",
       " 'Dublin': 'vegetarian friendly',\n",
       " 'Barcelona': 'spanish',\n",
       " 'Brussels': 'european',\n",
       " 'Madrid': 'spanish',\n",
       " 'Oslo': 'european',\n",
       " 'Amsterdam': 'european',\n",
       " 'Berlin': 'other_cuisine',\n",
       " 'Lyon': 'french',\n",
       " 'Athens': 'greek',\n",
       " 'Warsaw': 'european',\n",
       " 'Oporto': 'portuguese',\n",
       " 'Krakow': 'european',\n",
       " 'Copenhagen': 'european',\n",
       " 'Luxembourg': 'european',\n",
       " 'Zurich': 'european',\n",
       " 'Geneva': 'european',\n",
       " 'Ljubljana': 'european'}"
      ]
     },
     "execution_count": 18,
     "metadata": {},
     "output_type": "execute_result"
    }
   ],
   "source": [
    "# creating a dictionary with most common cuisine in each city\n",
    "popular_cuisine_dict = {}\n",
    "for city in cities:\n",
    "    most_popular_cuisine = cuisine_exploded[\n",
    "        cuisine_exploded['city'] == city\n",
    "    ].cuisine.value_counts().index[0]\n",
    "    popular_cuisine_dict[city] = most_popular_cuisine\n",
    "popular_cuisine_dict"
   ]
  },
  {
   "cell_type": "code",
   "execution_count": 19,
   "metadata": {},
   "outputs": [],
   "source": [
    "# maps dictionary with common cuisine on the dataframe\n",
    "df['most_popular_cuisine'] = df.city.map(popular_cuisine_dict)"
   ]
  },
  {
   "cell_type": "code",
   "execution_count": 20,
   "metadata": {},
   "outputs": [],
   "source": [
    "# looks how many cuisine styles a restaurant offers.\n",
    "# Since initially the tags weren't included for some restaurants,\n",
    "# their values of number of tags are set to 0\n",
    "df['cuisine_count'] = df.cuisine.apply(lambda x: len(x))\n",
    "df['cuisine_count'].loc[df.filled_cuisine == 1] = 0"
   ]
  },
  {
   "cell_type": "markdown",
   "metadata": {},
   "source": [
    "# 1.4 Ranking"
   ]
  },
  {
   "cell_type": "code",
   "execution_count": 21,
   "metadata": {},
   "outputs": [
    {
     "data": {
      "text/plain": [
       "Text(0.5, 0, 'Ranking')"
      ]
     },
     "execution_count": 21,
     "metadata": {},
     "output_type": "execute_result"
    },
    {
     "data": {
      "image/png": "[encoded data removed]",
      "text/plain": [
       "<Figure size 1080x360 with 1 Axes>"
      ]
     },
     "metadata": {
      "needs_background": "light"
     },
     "output_type": "display_data"
    }
   ],
   "source": [
    "# boxplot that shows the distribution of values of ranking\n",
    "plt.figure(figsize=(15, 5))\n",
    "sns.boxplot(df.ranking.values)\n",
    "plt.title('Ranking boxplot\\n', fontsize=15)\n",
    "plt.xlabel('Ranking')"
   ]
  },
  {
   "cell_type": "code",
   "execution_count": 22,
   "metadata": {},
   "outputs": [
    {
     "data": {
      "text/plain": [
       "Text(0, 0.5, 'Frequency')"
      ]
     },
     "execution_count": 22,
     "metadata": {},
     "output_type": "execute_result"
    },
    {
     "data": {
      "image/png": "[encoded data removed]",
      "text/plain": [
       "<Figure size 1080x360 with 1 Axes>"
      ]
     },
     "metadata": {
      "needs_background": "light"
     },
     "output_type": "display_data"
    }
   ],
   "source": [
    "plt.figure(figsize=(15, 5))\n",
    "sns.distplot(df.ranking.values, bins=25)  # How frequent the ranks are\n",
    "plt.title('Ranking distribution\\n', fontsize=15)\n",
    "plt.xlabel('Ranking')\n",
    "plt.ylabel('Frequency')"
   ]
  },
  {
   "cell_type": "code",
   "execution_count": 23,
   "metadata": {},
   "outputs": [
    {
     "data": {
      "text/plain": [
       "count    50000.000000\n",
       "mean      3664.427520\n",
       "std       3700.092452\n",
       "min          1.000000\n",
       "25%        972.000000\n",
       "50%       2278.000000\n",
       "75%       5241.000000\n",
       "max      16444.000000\n",
       "Name: ranking, dtype: float64"
      ]
     },
     "execution_count": 23,
     "metadata": {},
     "output_type": "execute_result"
    }
   ],
   "source": [
    "df['ranking'].describe()"
   ]
  },
  {
   "cell_type": "markdown",
   "metadata": {},
   "source": [
    "From the graph, it is seen that distribution "
   ]
  },
  {
   "cell_type": "code",
   "execution_count": 24,
   "metadata": {},
   "outputs": [
    {
     "data": {
      "text/plain": [
       "Text(0, 0.5, 'Quantity (frequency)')"
      ]
     },
     "execution_count": 24,
     "metadata": {},
     "output_type": "execute_result"
    },
    {
     "data": {
      "image/png": "[encoded data removed]",
      "text/plain": [
       "<Figure size 1080x360 with 1 Axes>"
      ]
     },
     "metadata": {
      "needs_background": "light"
     },
     "output_type": "display_data"
    }
   ],
   "source": [
    "# displaying the distribution of ranking for each city\n",
    "plt.figure(figsize=(15, 5))\n",
    "for city in (df['city'].value_counts())[0:10].index:\n",
    "    sns.distplot(df['ranking'][df['city'] == city], kde=False, label=city)\n",
    "\n",
    "\n",
    "plt.legend(prop={'size': 10})\n",
    "plt.title('Ranking Distribution among cities\\n', fontsize=15)\n",
    "plt.xlabel('Ranking')\n",
    "plt.ylabel('Quantity (frequency)')"
   ]
  },
  {
   "cell_type": "markdown",
   "metadata": {},
   "source": [
    "From the graph above it is clear that all the cities use the same distribution, so ranking can be normalised"
   ]
  },
  {
   "cell_type": "code",
   "execution_count": 25,
   "metadata": {},
   "outputs": [],
   "source": [
    "df['ranking_norm'] = df['ranking']/df.city.map(dict(df['city'].value_counts()))"
   ]
  },
  {
   "cell_type": "code",
   "execution_count": 26,
   "metadata": {},
   "outputs": [
    {
     "data": {
      "text/plain": [
       "Text(0, 0.5, 'Quantity (frequency)')"
      ]
     },
     "execution_count": 26,
     "metadata": {},
     "output_type": "execute_result"
    },
    {
     "data": {
      "image/png": "[encoded data removed]",
      "text/plain": [
       "<Figure size 1080x360 with 1 Axes>"
      ]
     },
     "metadata": {
      "needs_background": "light"
     },
     "output_type": "display_data"
    }
   ],
   "source": [
    "# quick look at the distribution of normalised ranking\n",
    "plt.figure(figsize=(15, 5))\n",
    "sns.distplot(df.ranking_norm.values, bins=25)\n",
    "plt.title('Ranking Distribution\\n', fontsize=15)\n",
    "plt.xlabel('Ranking')\n",
    "plt.ylabel('Quantity (frequency)')"
   ]
  },
  {
   "cell_type": "code",
   "execution_count": 27,
   "metadata": {},
   "outputs": [
    {
     "data": {
      "text/plain": [
       "count    50000.000000\n",
       "mean         1.155723\n",
       "std          0.667952\n",
       "min          0.000139\n",
       "25%          0.577355\n",
       "50%          1.151105\n",
       "75%          1.732897\n",
       "max          2.413100\n",
       "Name: ranking_norm, dtype: float64"
      ]
     },
     "execution_count": 27,
     "metadata": {},
     "output_type": "execute_result"
    }
   ],
   "source": [
    "df['ranking_norm'].describe()"
   ]
  },
  {
   "cell_type": "code",
   "execution_count": 28,
   "metadata": {},
   "outputs": [
    {
     "data": {
      "text/plain": [
       "<matplotlib.axes._subplots.AxesSubplot at 0xebc5640>"
      ]
     },
     "execution_count": 28,
     "metadata": {},
     "output_type": "execute_result"
    },
    {
     "data": {
      "image/png": "[encoded data removed]",
      "text/plain": [
       "<Figure size 432x288 with 1 Axes>"
      ]
     },
     "metadata": {
      "needs_background": "light"
     },
     "output_type": "display_data"
    }
   ],
   "source": [
    "sns.boxplot(df.ranking_norm.values)"
   ]
  },
  {
   "cell_type": "markdown",
   "metadata": {},
   "source": [
    "# 1.5 Reviews and number of reviews"
   ]
  },
  {
   "cell_type": "code",
   "execution_count": 29,
   "metadata": {},
   "outputs": [
    {
     "data": {
      "text/plain": [
       "count    46800.000000\n",
       "mean       124.471197\n",
       "std        294.114345\n",
       "min          2.000000\n",
       "25%          9.000000\n",
       "50%         33.000000\n",
       "75%        115.000000\n",
       "max       9660.000000\n",
       "Name: number_of_reviews, dtype: float64"
      ]
     },
     "execution_count": 29,
     "metadata": {},
     "output_type": "execute_result"
    },
    {
     "data": {
      "image/png": "[encoded data removed]",
      "text/plain": [
       "<Figure size 1080x360 with 1 Axes>"
      ]
     },
     "metadata": {
      "needs_background": "light"
     },
     "output_type": "display_data"
    }
   ],
   "source": [
    "plt.figure(figsize=(15, 5))\n",
    "sns.boxplot(df.number_of_reviews.values)\n",
    "df.number_of_reviews.describe()"
   ]
  },
  {
   "cell_type": "code",
   "execution_count": 30,
   "metadata": {},
   "outputs": [
    {
     "data": {
      "text/plain": [
       "('[[], []]', str)"
      ]
     },
     "execution_count": 30,
     "metadata": {},
     "output_type": "execute_result"
    }
   ],
   "source": [
    "df.reviews[0], type(df.reviews[0])"
   ]
  },
  {
   "cell_type": "markdown",
   "metadata": {},
   "source": [
    "As with cuisine, the reviews column appears to be a string mimicing a list. \n",
    "Also, the date of the reviews is attached."
   ]
  },
  {
   "cell_type": "markdown",
   "metadata": {},
   "source": [
    "## 1.5a Separation"
   ]
  },
  {
   "cell_type": "code",
   "execution_count": 31,
   "metadata": {},
   "outputs": [],
   "source": [
    "# create a template for search\n",
    "lrx = re.compile('\\[\\[.*\\]\\]')\n",
    "nan = None"
   ]
  },
  {
   "cell_type": "code",
   "execution_count": 32,
   "metadata": {},
   "outputs": [],
   "source": [
    "def date_extraction(row):\n",
    "    '''Function is called for extracting data from column\n",
    "    reviews and splitting it out into a separate columns\n",
    "    INPUT: Whole dataset\n",
    "    OUTPUT: Dataset with additional columns'''\n",
    "\n",
    "    cell = row['reviews']\n",
    "    aux_list = [[], []]  # create an auxilliary list for saving temp.data\n",
    "    if type(cell) == str and lrx.fullmatch(cell):  # comparing to search pattern\n",
    "        aux_list = eval(cell)  # transform into a list\n",
    "\n",
    "    row['first_review'] = aux_list[0][1] if len(aux_list[0]) > 1 else nan\n",
    "    row['last_review'] = aux_list[0][0] if len(aux_list[0]) > 0 else nan\n",
    "\n",
    "    row['first_date'] = pd.to_datetime(\n",
    "        aux_list[1][1] if len(aux_list[1]) > 1 else nan)\n",
    "    row['last_date'] = pd.to_datetime(aux_list[1][0] if len(\n",
    "        aux_list[1]) > 0 else nan, format='%m/%d/%Y', errors='coerce')\n",
    "\n",
    "    row['first_date'] = pd.to_datetime(row['first_date'])\n",
    "    row['last_date'] = pd.to_datetime(row['last_date'])\n",
    "\n",
    "    return row\n",
    "\n",
    "\n",
    "df = df.apply(date_extraction, axis=1)"
   ]
  },
  {
   "cell_type": "markdown",
   "metadata": {},
   "source": [
    "## 1.5b Reviews\n",
    "To increase accuracy of the model, a simple analysis of the reviews is added. Unfortunately, due to time limit, the method is very inefficient, long, is not effective for two word sentiments(e.g. \"not good\") and takes a long way around to analyse both review columns. Should a chance present itself, the model will be improved."
   ]
  },
  {
   "cell_type": "code",
   "execution_count": 33,
   "metadata": {},
   "outputs": [],
   "source": [
    "positive_words = ['good', 'nice', 'fine', 'quality', 'great',\n",
    "                  'marvelous', 'positive', 'super', 'superb',\n",
    "                  'pleasing', 'agreeable', 'neat', 'splendid',\n",
    "                  'acceptable', 'excellent', 'exceptional',\n",
    "                  'better', 'best', 'delicious', 'authentic',\n",
    "                  'exquisite', 'wonderful', 'not bad', 'cheap',\n",
    "                  'unique', 'exclusive']\n",
    "negative_words = ['bad', 'expensive', 'terrible', 'disgusting',\n",
    "                 'awful', 'horrific', 'not worth the money',\n",
    "                 'generic']\n",
    "mixed_positive = ['not bad']\n",
    "mixed_negative = ['not good']"
   ]
  },
  {
   "cell_type": "code",
   "execution_count": 34,
   "metadata": {},
   "outputs": [],
   "source": [
    "df['positive_review'] = 0\n",
    "df['negative_review'] = 0\n",
    "df['neutral_review'] = 0"
   ]
  },
  {
   "cell_type": "code",
   "execution_count": 35,
   "metadata": {},
   "outputs": [],
   "source": [
    "def reviews(review):\n",
    "    if any(word in review.lower() for word in mixed_positive):\n",
    "        return 'positive'\n",
    "    elif any(word in review.lower() for word in mixed_negative):\n",
    "        return 'positive'\n",
    "    elif any(word in review.lower() for word in positive_words):\n",
    "        return 'positive'\n",
    "    elif any(word in review.lower() for word in negative_words):\n",
    "        return 'negative'\n",
    "    elif review == 'No Review':\n",
    "        return 'No Reviews'\n",
    "    else:\n",
    "        return 'neutral'"
   ]
  },
  {
   "cell_type": "code",
   "execution_count": 36,
   "metadata": {},
   "outputs": [],
   "source": [
    "df['first_review'] = df.first_review.fillna('No Review')\n",
    "df['last_review'] = df.last_review.fillna('No Review')\n",
    "\n",
    "df['first_positive_review'] = df.first_review.apply(\n",
    "    lambda x: 1 if (reviews(x) == 'positive') else 0\n",
    "    )\n",
    "df['last_positive_review'] = df.last_review.apply(\n",
    "    lambda x: 1 if (reviews(x) == 'positive') else 0\n",
    "    )"
   ]
  },
  {
   "cell_type": "code",
   "execution_count": 37,
   "metadata": {},
   "outputs": [],
   "source": [
    "df['first_negative_review'] = df.first_review.apply(\n",
    "    lambda x: 1 if (reviews(x) == 'negative') else 0\n",
    "    )\n",
    "df['last_negative_review'] = df.last_review.apply(\n",
    "    lambda x: 1 if (reviews(x) == 'negative') else 0\n",
    "    )"
   ]
  },
  {
   "cell_type": "code",
   "execution_count": 38,
   "metadata": {},
   "outputs": [],
   "source": [
    "df['first_neutral_review'] = df.first_review.apply(\n",
    "    lambda x: 1 if (reviews(x) == 'neutral') else 0\n",
    "    )\n",
    "df['last_neutral_review'] = df.last_review.apply(\n",
    "    lambda x: 1 if (reviews(x) == 'neutral') else 0\n",
    "    )"
   ]
  },
  {
   "cell_type": "code",
   "execution_count": 39,
   "metadata": {},
   "outputs": [],
   "source": [
    "df['positive_review'] = df.apply(\n",
    "    lambda row: 1 if(row['first_positive_review'] == 1 or\n",
    "                     row['last_positive_review'] == 1)\n",
    "    else 0, axis=1\n",
    ")\n",
    "df.drop(['first_positive_review', 'last_positive_review'],\n",
    "        inplace=True,\n",
    "        axis=1)"
   ]
  },
  {
   "cell_type": "code",
   "execution_count": 40,
   "metadata": {},
   "outputs": [],
   "source": [
    "df['negative_review'] = df.apply(\n",
    "    lambda row: 1 if(row['first_negative_review'] == 1 or\n",
    "                     row['last_negative_review'] == 1)\n",
    "    else 0, axis=1\n",
    ")\n",
    "df.drop(['first_negative_review', 'last_negative_review'],\n",
    "        inplace=True,\n",
    "        axis=1)"
   ]
  },
  {
   "cell_type": "code",
   "execution_count": 41,
   "metadata": {},
   "outputs": [],
   "source": [
    "df['neutral_review'] = df.apply(\n",
    "    lambda row: 1 if(row['first_neutral_review'] == 1 or\n",
    "                     row['last_neutral_review'] == 1)\n",
    "    else 0, axis=1\n",
    ")\n",
    "df.drop(['first_neutral_review', 'last_neutral_review'], inplace=True, axis=1)"
   ]
  },
  {
   "cell_type": "code",
   "execution_count": 42,
   "metadata": {},
   "outputs": [
    {
     "data": {
      "text/html": [
       "<div>\n",
       "<style scoped>\n",
       "    .dataframe tbody tr th:only-of-type {\n",
       "        vertical-align: middle;\n",
       "    }\n",
       "\n",
       "    .dataframe tbody tr th {\n",
       "        vertical-align: top;\n",
       "    }\n",
       "\n",
       "    .dataframe thead th {\n",
       "        text-align: right;\n",
       "    }\n",
       "</style>\n",
       "<table border=\"1\" class=\"dataframe\">\n",
       "  <thead>\n",
       "    <tr style=\"text-align: right;\">\n",
       "      <th></th>\n",
       "      <th>id</th>\n",
       "      <th>city</th>\n",
       "      <th>cuisine</th>\n",
       "      <th>ranking</th>\n",
       "      <th>prices</th>\n",
       "      <th>number_of_reviews</th>\n",
       "      <th>reviews</th>\n",
       "      <th>website_id</th>\n",
       "      <th>sample</th>\n",
       "      <th>rating</th>\n",
       "      <th>chain_restaurant</th>\n",
       "      <th>filled_cuisine</th>\n",
       "      <th>most_popular_cuisine</th>\n",
       "      <th>cuisine_count</th>\n",
       "      <th>ranking_norm</th>\n",
       "      <th>first_review</th>\n",
       "      <th>last_review</th>\n",
       "      <th>first_date</th>\n",
       "      <th>last_date</th>\n",
       "      <th>positive_review</th>\n",
       "      <th>negative_review</th>\n",
       "      <th>neutral_review</th>\n",
       "    </tr>\n",
       "  </thead>\n",
       "  <tbody>\n",
       "    <tr>\n",
       "      <th>0</th>\n",
       "      <td>0</td>\n",
       "      <td>Paris</td>\n",
       "      <td>[bar, pub]</td>\n",
       "      <td>12963.0</td>\n",
       "      <td>$$ - $$$</td>\n",
       "      <td>4.0</td>\n",
       "      <td>[[], []]</td>\n",
       "      <td>d10746918</td>\n",
       "      <td>0</td>\n",
       "      <td>0.0</td>\n",
       "      <td>1.0</td>\n",
       "      <td>0.0</td>\n",
       "      <td>french</td>\n",
       "      <td>2</td>\n",
       "      <td>2.122299</td>\n",
       "      <td>No Review</td>\n",
       "      <td>No Review</td>\n",
       "      <td>NaT</td>\n",
       "      <td>NaT</td>\n",
       "      <td>0</td>\n",
       "      <td>0</td>\n",
       "      <td>0</td>\n",
       "    </tr>\n",
       "    <tr>\n",
       "      <th>1</th>\n",
       "      <td>1</td>\n",
       "      <td>Helsinki</td>\n",
       "      <td>[european, scandinavian, gluten free options, ...</td>\n",
       "      <td>106.0</td>\n",
       "      <td>$$ - $$$</td>\n",
       "      <td>97.0</td>\n",
       "      <td>[['Very good reviews!', 'Fine dining in Hakani...</td>\n",
       "      <td>d6674944</td>\n",
       "      <td>0</td>\n",
       "      <td>0.0</td>\n",
       "      <td>1.0</td>\n",
       "      <td>0.0</td>\n",
       "      <td>european</td>\n",
       "      <td>5</td>\n",
       "      <td>0.223158</td>\n",
       "      <td>Fine dining in Hakaniemi</td>\n",
       "      <td>Very good reviews!</td>\n",
       "      <td>2017-10-29</td>\n",
       "      <td>2017-12-05</td>\n",
       "      <td>1</td>\n",
       "      <td>0</td>\n",
       "      <td>0</td>\n",
       "    </tr>\n",
       "    <tr>\n",
       "      <th>2</th>\n",
       "      <td>2</td>\n",
       "      <td>Edinburgh</td>\n",
       "      <td>[vegetarian friendly]</td>\n",
       "      <td>810.0</td>\n",
       "      <td>$$ - $$$</td>\n",
       "      <td>28.0</td>\n",
       "      <td>[['Better than the Links', 'Ivy Black'], ['12/...</td>\n",
       "      <td>d13129638</td>\n",
       "      <td>0</td>\n",
       "      <td>0.0</td>\n",
       "      <td>1.0</td>\n",
       "      <td>0.0</td>\n",
       "      <td>vegetarian friendly</td>\n",
       "      <td>1</td>\n",
       "      <td>1.087248</td>\n",
       "      <td>Ivy Black</td>\n",
       "      <td>Better than the Links</td>\n",
       "      <td>2017-12-06</td>\n",
       "      <td>2017-12-28</td>\n",
       "      <td>1</td>\n",
       "      <td>0</td>\n",
       "      <td>1</td>\n",
       "    </tr>\n",
       "    <tr>\n",
       "      <th>3</th>\n",
       "      <td>3</td>\n",
       "      <td>London</td>\n",
       "      <td>[italian, mediterranean, european, vegetarian ...</td>\n",
       "      <td>1669.0</td>\n",
       "      <td>$$$$</td>\n",
       "      <td>202.0</td>\n",
       "      <td>[['Most exquisite', 'Delicious and authentic']...</td>\n",
       "      <td>d680417</td>\n",
       "      <td>0</td>\n",
       "      <td>0.0</td>\n",
       "      <td>1.0</td>\n",
       "      <td>0.0</td>\n",
       "      <td>vegetarian friendly</td>\n",
       "      <td>5</td>\n",
       "      <td>0.232031</td>\n",
       "      <td>Delicious and authentic</td>\n",
       "      <td>Most exquisite</td>\n",
       "      <td>2017-11-22</td>\n",
       "      <td>2017-12-06</td>\n",
       "      <td>1</td>\n",
       "      <td>0</td>\n",
       "      <td>0</td>\n",
       "    </tr>\n",
       "    <tr>\n",
       "      <th>4</th>\n",
       "      <td>4</td>\n",
       "      <td>Bratislava</td>\n",
       "      <td>[italian, mediterranean, european, seafood, ve...</td>\n",
       "      <td>37.0</td>\n",
       "      <td>$$$$</td>\n",
       "      <td>162.0</td>\n",
       "      <td>[['Always the best in bratislava', 'Very good ...</td>\n",
       "      <td>d1112354</td>\n",
       "      <td>0</td>\n",
       "      <td>0.0</td>\n",
       "      <td>1.0</td>\n",
       "      <td>0.0</td>\n",
       "      <td>other_cuisine</td>\n",
       "      <td>6</td>\n",
       "      <td>0.097368</td>\n",
       "      <td>Very good but pricey</td>\n",
       "      <td>Always the best in bratislava</td>\n",
       "      <td>2018-01-24</td>\n",
       "      <td>2018-02-08</td>\n",
       "      <td>1</td>\n",
       "      <td>0</td>\n",
       "      <td>0</td>\n",
       "    </tr>\n",
       "  </tbody>\n",
       "</table>\n",
       "</div>"
      ],
      "text/plain": [
       "  id        city                                            cuisine  ranking  \\\n",
       "0  0       Paris                                         [bar, pub]  12963.0   \n",
       "1  1    Helsinki  [european, scandinavian, gluten free options, ...    106.0   \n",
       "2  2   Edinburgh                              [vegetarian friendly]    810.0   \n",
       "3  3      London  [italian, mediterranean, european, vegetarian ...   1669.0   \n",
       "4  4  Bratislava  [italian, mediterranean, european, seafood, ve...     37.0   \n",
       "\n",
       "     prices  number_of_reviews  \\\n",
       "0  $$ - $$$                4.0   \n",
       "1  $$ - $$$               97.0   \n",
       "2  $$ - $$$               28.0   \n",
       "3      $$$$              202.0   \n",
       "4      $$$$              162.0   \n",
       "\n",
       "                                             reviews website_id  sample  \\\n",
       "0                                           [[], []]  d10746918       0   \n",
       "1  [['Very good reviews!', 'Fine dining in Hakani...   d6674944       0   \n",
       "2  [['Better than the Links', 'Ivy Black'], ['12/...  d13129638       0   \n",
       "3  [['Most exquisite', 'Delicious and authentic']...    d680417       0   \n",
       "4  [['Always the best in bratislava', 'Very good ...   d1112354       0   \n",
       "\n",
       "   rating  chain_restaurant  filled_cuisine most_popular_cuisine  \\\n",
       "0     0.0               1.0             0.0               french   \n",
       "1     0.0               1.0             0.0             european   \n",
       "2     0.0               1.0             0.0  vegetarian friendly   \n",
       "3     0.0               1.0             0.0  vegetarian friendly   \n",
       "4     0.0               1.0             0.0        other_cuisine   \n",
       "\n",
       "   cuisine_count  ranking_norm              first_review  \\\n",
       "0              2      2.122299                 No Review   \n",
       "1              5      0.223158  Fine dining in Hakaniemi   \n",
       "2              1      1.087248                 Ivy Black   \n",
       "3              5      0.232031   Delicious and authentic   \n",
       "4              6      0.097368      Very good but pricey   \n",
       "\n",
       "                     last_review first_date  last_date  positive_review  \\\n",
       "0                      No Review        NaT        NaT                0   \n",
       "1             Very good reviews! 2017-10-29 2017-12-05                1   \n",
       "2          Better than the Links 2017-12-06 2017-12-28                1   \n",
       "3                 Most exquisite 2017-11-22 2017-12-06                1   \n",
       "4  Always the best in bratislava 2018-01-24 2018-02-08                1   \n",
       "\n",
       "   negative_review  neutral_review  \n",
       "0                0               0  \n",
       "1                0               0  \n",
       "2                0               1  \n",
       "3                0               0  \n",
       "4                0               0  "
      ]
     },
     "execution_count": 42,
     "metadata": {},
     "output_type": "execute_result"
    }
   ],
   "source": [
    "df.head()"
   ]
  },
  {
   "cell_type": "code",
   "execution_count": 43,
   "metadata": {},
   "outputs": [
    {
     "data": {
      "text/html": [
       "<div>\n",
       "<style scoped>\n",
       "    .dataframe tbody tr th:only-of-type {\n",
       "        vertical-align: middle;\n",
       "    }\n",
       "\n",
       "    .dataframe tbody tr th {\n",
       "        vertical-align: top;\n",
       "    }\n",
       "\n",
       "    .dataframe thead th {\n",
       "        text-align: right;\n",
       "    }\n",
       "</style>\n",
       "<table border=\"1\" class=\"dataframe\">\n",
       "  <thead>\n",
       "    <tr style=\"text-align: right;\">\n",
       "      <th></th>\n",
       "      <th>positive_review</th>\n",
       "      <th>neutral_review</th>\n",
       "      <th>negative_review</th>\n",
       "    </tr>\n",
       "  </thead>\n",
       "  <tbody>\n",
       "    <tr>\n",
       "      <th>0</th>\n",
       "      <td>0</td>\n",
       "      <td>0</td>\n",
       "      <td>0</td>\n",
       "    </tr>\n",
       "    <tr>\n",
       "      <th>1</th>\n",
       "      <td>1</td>\n",
       "      <td>0</td>\n",
       "      <td>0</td>\n",
       "    </tr>\n",
       "    <tr>\n",
       "      <th>2</th>\n",
       "      <td>1</td>\n",
       "      <td>1</td>\n",
       "      <td>0</td>\n",
       "    </tr>\n",
       "    <tr>\n",
       "      <th>3</th>\n",
       "      <td>1</td>\n",
       "      <td>0</td>\n",
       "      <td>0</td>\n",
       "    </tr>\n",
       "    <tr>\n",
       "      <th>4</th>\n",
       "      <td>1</td>\n",
       "      <td>0</td>\n",
       "      <td>0</td>\n",
       "    </tr>\n",
       "    <tr>\n",
       "      <th>...</th>\n",
       "      <td>...</td>\n",
       "      <td>...</td>\n",
       "      <td>...</td>\n",
       "    </tr>\n",
       "    <tr>\n",
       "      <th>49995</th>\n",
       "      <td>1</td>\n",
       "      <td>1</td>\n",
       "      <td>0</td>\n",
       "    </tr>\n",
       "    <tr>\n",
       "      <th>49996</th>\n",
       "      <td>1</td>\n",
       "      <td>1</td>\n",
       "      <td>0</td>\n",
       "    </tr>\n",
       "    <tr>\n",
       "      <th>49997</th>\n",
       "      <td>1</td>\n",
       "      <td>1</td>\n",
       "      <td>0</td>\n",
       "    </tr>\n",
       "    <tr>\n",
       "      <th>49998</th>\n",
       "      <td>0</td>\n",
       "      <td>1</td>\n",
       "      <td>0</td>\n",
       "    </tr>\n",
       "    <tr>\n",
       "      <th>49999</th>\n",
       "      <td>1</td>\n",
       "      <td>1</td>\n",
       "      <td>0</td>\n",
       "    </tr>\n",
       "  </tbody>\n",
       "</table>\n",
       "<p>50000 rows × 3 columns</p>\n",
       "</div>"
      ],
      "text/plain": [
       "       positive_review  neutral_review  negative_review\n",
       "0                    0               0                0\n",
       "1                    1               0                0\n",
       "2                    1               1                0\n",
       "3                    1               0                0\n",
       "4                    1               0                0\n",
       "...                ...             ...              ...\n",
       "49995                1               1                0\n",
       "49996                1               1                0\n",
       "49997                1               1                0\n",
       "49998                0               1                0\n",
       "49999                1               1                0\n",
       "\n",
       "[50000 rows x 3 columns]"
      ]
     },
     "execution_count": 43,
     "metadata": {},
     "output_type": "execute_result"
    }
   ],
   "source": [
    "df[['positive_review', 'neutral_review', 'negative_review']]"
   ]
  },
  {
   "cell_type": "markdown",
   "metadata": {},
   "source": [
    "## 1.5c Review Time"
   ]
  },
  {
   "cell_type": "code",
   "execution_count": 44,
   "metadata": {},
   "outputs": [],
   "source": [
    "# find a diffderence between date of the first review and the last one\n",
    "# add this information into a new column\n",
    "\n",
    "df['time_difference'] = df['last_date'] - df['first_date']\n",
    "\n",
    "# call the function and get difference in days\n",
    "df['time_difference'] = df['time_difference'].apply(\n",
    "    lambda x: abs(x.days)\n",
    ")"
   ]
  },
  {
   "cell_type": "code",
   "execution_count": 45,
   "metadata": {},
   "outputs": [
    {
     "data": {
      "text/plain": [
       "count    36206.000000\n",
       "mean       142.548832\n",
       "std        222.554361\n",
       "min          0.000000\n",
       "25%         20.000000\n",
       "50%         67.000000\n",
       "75%        173.000000\n",
       "max       3296.000000\n",
       "Name: time_difference, dtype: float64"
      ]
     },
     "metadata": {},
     "output_type": "display_data"
    },
    {
     "data": {
      "text/plain": [
       "<matplotlib.axes._subplots.AxesSubplot at 0xebc1bb0>"
      ]
     },
     "execution_count": 45,
     "metadata": {},
     "output_type": "execute_result"
    },
    {
     "data": {
      "image/png": "[encoded data removed]",
      "text/plain": [
       "<Figure size 432x288 with 1 Axes>"
      ]
     },
     "metadata": {
      "needs_background": "light"
     },
     "output_type": "display_data"
    }
   ],
   "source": [
    "display(df['time_difference'].describe())\n",
    "sns.boxplot(df['time_difference'].values)"
   ]
  },
  {
   "cell_type": "markdown",
   "metadata": {},
   "source": [
    "It seems that most reviews have been left over the span of the last 4 months or so."
   ]
  },
  {
   "cell_type": "code",
   "execution_count": 46,
   "metadata": {},
   "outputs": [],
   "source": [
    "df['days_since_last_review'] = current_date - df['last_date']\n",
    "df['days_since_last_review'] = df['days_since_last_review'].apply(\n",
    "    lambda x: x.days\n",
    ")"
   ]
  },
  {
   "cell_type": "code",
   "execution_count": 47,
   "metadata": {},
   "outputs": [
    {
     "data": {
      "text/plain": [
       "count    41886.000000\n",
       "mean      1410.746264\n",
       "std        361.495337\n",
       "min       1113.000000\n",
       "25%       1195.000000\n",
       "50%       1281.000000\n",
       "75%       1468.000000\n",
       "max       6172.000000\n",
       "Name: days_since_last_review, dtype: float64"
      ]
     },
     "metadata": {},
     "output_type": "display_data"
    },
    {
     "data": {
      "text/plain": [
       "<matplotlib.axes._subplots.AxesSubplot at 0xd6871c0>"
      ]
     },
     "execution_count": 47,
     "metadata": {},
     "output_type": "execute_result"
    },
    {
     "data": {
      "image/png": "[encoded data removed]",
      "text/plain": [
       "<Figure size 432x288 with 1 Axes>"
      ]
     },
     "metadata": {
      "needs_background": "light"
     },
     "output_type": "display_data"
    }
   ],
   "source": [
    "display(df['days_since_last_review'].describe())\n",
    "sns.boxplot(df['days_since_last_review'].values)"
   ]
  },
  {
   "cell_type": "code",
   "execution_count": 48,
   "metadata": {},
   "outputs": [],
   "source": [
    "# marking the lines that had their values filled in\n",
    "df['last_date_filled'] = df[\n",
    "    df.last_date.isna()\n",
    "    ].last_date.apply(lambda x: 1)\n",
    "df['last_date_filled'] = df['last_date_filled'].fillna(0)\n",
    "df['first_date_filled'] = df[\n",
    "    df.first_date.isna()\n",
    "    ].first_date.apply(lambda x: 1)\n",
    "df['first_date_filled'] = df['first_date_filled'].fillna(0)\n",
    "\n",
    "df['last_date'] = df['last_date'].fillna(0)\n",
    "df['first_date'] = df['first_date'].fillna(0)"
   ]
  },
  {
   "cell_type": "code",
   "execution_count": 49,
   "metadata": {},
   "outputs": [],
   "source": [
    "df['number_of_reviews'] = df.apply(\n",
    "    lambda row: 1 if np.isnan(row['number_of_reviews']) and\n",
    "    (row['last_date'] == 0 or row['first_date'] == 0)\n",
    "    else row['number_of_reviews'], axis=1\n",
    ")"
   ]
  },
  {
   "cell_type": "code",
   "execution_count": 50,
   "metadata": {},
   "outputs": [
    {
     "data": {
      "text/plain": [
       "False    50000\n",
       "Name: number_of_reviews, dtype: int64"
      ]
     },
     "execution_count": 50,
     "metadata": {},
     "output_type": "execute_result"
    }
   ],
   "source": [
    "df['number_of_reviews'].isna().value_counts()"
   ]
  },
  {
   "cell_type": "code",
   "execution_count": 51,
   "metadata": {},
   "outputs": [],
   "source": [
    "df['days_since_last_review'] = df['days_since_last_review'].fillna(0)\n",
    "df['time_difference'] = df['time_difference'].fillna(0)"
   ]
  },
  {
   "cell_type": "markdown",
   "metadata": {},
   "source": [
    "# 1.6 Price Range"
   ]
  },
  {
   "cell_type": "code",
   "execution_count": 52,
   "metadata": {},
   "outputs": [
    {
     "data": {
      "text/plain": [
       "$$ - $$$    23041\n",
       "NaN         17361\n",
       "$            7816\n",
       "$$$$         1782\n",
       "Name: prices, dtype: int64"
      ]
     },
     "execution_count": 52,
     "metadata": {},
     "output_type": "execute_result"
    }
   ],
   "source": [
    "df['prices'].value_counts(dropna=False)"
   ]
  },
  {
   "cell_type": "code",
   "execution_count": 53,
   "metadata": {},
   "outputs": [],
   "source": [
    "def price_range_sort(price):\n",
    "    # price range is hard to read using the original notation, so\n",
    "    # it is converted into categorical data\n",
    "    '''The function takes in a string and replaces it with another string'''\n",
    "    if price == '$$ - $$$':\n",
    "        price = 'medium'\n",
    "    elif price == '$':\n",
    "        price = 'budget'\n",
    "    elif price == '$$$$':\n",
    "        price = 'expensive'\n",
    "    return price\n",
    "\n",
    "\n",
    "df['filled_budget'] = df[\n",
    "    df.prices.isna()\n",
    "    ].prices.apply(lambda x: 1)  # marking the filled values\n",
    "df['filled_budget'] = df['filled_budget'].fillna(0)\n",
    "df.prices = df.prices.fillna('unspecified_budget').apply(price_range_sort)"
   ]
  },
  {
   "cell_type": "code",
   "execution_count": 54,
   "metadata": {},
   "outputs": [
    {
     "data": {
      "text/plain": [
       "<matplotlib.axes._subplots.AxesSubplot at 0x1aac1160>"
      ]
     },
     "execution_count": 54,
     "metadata": {},
     "output_type": "execute_result"
    },
    {
     "data": {
      "image/png": "[encoded data removed]",
      "text/plain": [
       "<Figure size 1080x720 with 1 Axes>"
      ]
     },
     "metadata": {
      "needs_background": "light"
     },
     "output_type": "display_data"
    }
   ],
   "source": [
    "plt.figure(figsize=(15, 10))\n",
    "sns.boxplot(x='prices', y='rating', data=df)"
   ]
  },
  {
   "cell_type": "code",
   "execution_count": 55,
   "metadata": {},
   "outputs": [
    {
     "data": {
      "text/plain": [
       "<matplotlib.axes._subplots.AxesSubplot at 0x14c025b0>"
      ]
     },
     "execution_count": 55,
     "metadata": {},
     "output_type": "execute_result"
    },
    {
     "data": {
      "image/png": "[encoded data removed]",
      "text/plain": [
       "<Figure size 1080x720 with 1 Axes>"
      ]
     },
     "metadata": {
      "needs_background": "light"
     },
     "output_type": "display_data"
    }
   ],
   "source": [
    "plt.figure(figsize=(15, 10))\n",
    "sns.boxplot(x='prices', y='number_of_reviews', data=df)"
   ]
  },
  {
   "cell_type": "markdown",
   "metadata": {},
   "source": [
    "# 1.7 Website ID"
   ]
  },
  {
   "cell_type": "code",
   "execution_count": 56,
   "metadata": {},
   "outputs": [],
   "source": [
    "# just a few restaurants have a shared website id\n",
    "shared_web = df.website_id.value_counts()[\n",
    "    df.website_id.value_counts() > 1\n",
    "    ].index.to_list()\n",
    "df['shared_web'] = df[\n",
    "    df.website_id.isin(shared_web)\n",
    "    ].website_id.apply(lambda x: 1)\n",
    "df['shared_web'] = df['shared_web'].fillna(0)"
   ]
  },
  {
   "cell_type": "markdown",
   "metadata": {},
   "source": [
    "# 1.8 Dependant Variable - Rating"
   ]
  },
  {
   "cell_type": "code",
   "execution_count": 57,
   "metadata": {},
   "outputs": [
    {
     "data": {
      "text/plain": [
       "count    40000.000000\n",
       "mean         3.993037\n",
       "std          0.668417\n",
       "min          1.000000\n",
       "25%          3.500000\n",
       "50%          4.000000\n",
       "75%          4.500000\n",
       "max          5.000000\n",
       "Name: rating, dtype: float64"
      ]
     },
     "execution_count": 57,
     "metadata": {},
     "output_type": "execute_result"
    }
   ],
   "source": [
    "df.loc[df['sample'] == 1].rating.describe()"
   ]
  },
  {
   "cell_type": "markdown",
   "metadata": {},
   "source": [
    "There are no empty values for the rating, create a graph to see the distribution:"
   ]
  },
  {
   "cell_type": "code",
   "execution_count": 58,
   "metadata": {},
   "outputs": [
    {
     "data": {
      "text/plain": [
       "Text(0, 0.5, 'Quantity (frequency)')"
      ]
     },
     "execution_count": 58,
     "metadata": {},
     "output_type": "execute_result"
    },
    {
     "data": {
      "image/png": "[encoded data removed]",
      "text/plain": [
       "<Figure size 1080x360 with 1 Axes>"
      ]
     },
     "metadata": {
      "needs_background": "light"
     },
     "output_type": "display_data"
    }
   ],
   "source": [
    "plt.figure(figsize=(15, 5))\n",
    "sns.distplot(df.loc[df['sample'] == 1].rating.values, bins=25)\n",
    "plt.title('Rating Distribution\\n', fontsize=15)\n",
    "plt.xlabel('Rating')\n",
    "plt.ylabel('Quantity (frequency)')"
   ]
  },
  {
   "cell_type": "code",
   "execution_count": 59,
   "metadata": {},
   "outputs": [
    {
     "data": {
      "text/plain": [
       "<matplotlib.axes._subplots.AxesSubplot at 0xef93640>"
      ]
     },
     "execution_count": 59,
     "metadata": {},
     "output_type": "execute_result"
    },
    {
     "data": {
      "image/png": "[encoded data removed]",
      "text/plain": [
       "<Figure size 432x288 with 1 Axes>"
      ]
     },
     "metadata": {
      "needs_background": "light"
     },
     "output_type": "display_data"
    }
   ],
   "source": [
    "sns.boxplot(df.loc[df['sample'] == 1].rating.values)"
   ]
  },
  {
   "cell_type": "markdown",
   "metadata": {},
   "source": [
    "The values of rating are mostly in range from 3.5 to 4.5, with anything below 2 being an outlier. It seems that most restaurants have a rating above 3, which should be an average."
   ]
  },
  {
   "cell_type": "markdown",
   "metadata": {},
   "source": [
    "It appears that the data in this column is not continuous. Let's check it by using unique():"
   ]
  },
  {
   "cell_type": "code",
   "execution_count": 60,
   "metadata": {},
   "outputs": [
    {
     "data": {
      "text/plain": [
       "array([0. , 3.5, 4. , 4.5, 5. , 3. , 2.5, 2. , 1. , 1.5])"
      ]
     },
     "execution_count": 60,
     "metadata": {},
     "output_type": "execute_result"
    }
   ],
   "source": [
    "df.rating.unique()"
   ]
  },
  {
   "cell_type": "markdown",
   "metadata": {},
   "source": [
    "Data is not continuous, and rating takes the values which are multiples of 0.5. This can be used to increase the accuracy of the model."
   ]
  },
  {
   "cell_type": "markdown",
   "metadata": {},
   "source": [
    "# 2 New Data\n",
    "To increase the accuracy of the model, more data added"
   ]
  },
  {
   "cell_type": "markdown",
   "metadata": {},
   "source": [
    "# 2.1 Population density"
   ]
  },
  {
   "cell_type": "code",
   "execution_count": 61,
   "metadata": {},
   "outputs": [
    {
     "data": {
      "text/plain": [
       "{'Paris': [2.2, 105],\n",
       " 'Helsinki': [1, 188],\n",
       " 'Edinburgh': [8.9, 1706],\n",
       " 'London': [3.6, 891],\n",
       " 'Bratislava': [1.5, 310],\n",
       " 'Lisbon': [0.3, 41.4],\n",
       " 'Budapest': [1.4, 181],\n",
       " 'Stockholm': [0.4, 368],\n",
       " 'Rome': [1.9, 414],\n",
       " 'Milan': [2.9, 1287],\n",
       " 'Munich': [1.7, 101],\n",
       " 'Hamburg': [3.3, 607],\n",
       " 'Prague': [1.2, 117],\n",
       " 'Vienna': [0.2, 32.6],\n",
       " 'Dublin': [0.4, 88],\n",
       " 'Barcelona': [1.8, 517],\n",
       " 'Brussels': [1.8, 525],\n",
       " 'Madrid': [0.8, 86.4],\n",
       " 'Oslo': [0.9, 219],\n",
       " 'Amsterdam': [0.5, 48],\n",
       " 'Berlin': [1.9, 755],\n",
       " 'Lyon': [0.5, 100],\n",
       " 'Athens': [1.3, 496],\n",
       " 'Warsaw': [0.7, 454],\n",
       " 'Oporto': [0.7, 213],\n",
       " 'Krakow': [0.5, 120],\n",
       " 'Copenhagen': [0.2, 16],\n",
       " 'Luxembourg': [0.3, 163],\n",
       " 'Zurich': [0.7, 39],\n",
       " 'Geneva': [0.125, 51.5],\n",
       " 'Ljubljana': [0.8, 327]}"
      ]
     },
     "execution_count": 61,
     "metadata": {},
     "output_type": "execute_result"
    }
   ],
   "source": [
    "# Data adds the popultion(in millions of people) and area(km squared)\n",
    "data = [[2.2, 105], [1, 188], [8.9, 1706],\n",
    "         [3.6, 891], [1.5, 310], [0.3, 41.4],\n",
    "         [1.4, 181], [0.4, 368], [1.9, 414],\n",
    "         [2.9, 1287], [1.7, 101], [3.3, 607],\n",
    "         [1.2, 117], [0.2, 32.6], [0.4, 88],\n",
    "         [1.8, 517], [1.8, 525], [0.8, 86.4],\n",
    "         [0.9, 219], [0.5, 48], [1.9, 755],\n",
    "         [0.5,100], [1.3, 496], [0.7, 454],\n",
    "         [0.7,213], [0.5, 120], [0.2, 16],\n",
    "         [0.3, 163], [0.7, 39], [0.125, 51.5],\n",
    "         [0.8, 327]]\n",
    "city_dict = {}\n",
    "for i in range(len(cities)):\n",
    "    city_dict[cities[i]] = data[i]\n",
    "city_dict"
   ]
  },
  {
   "cell_type": "code",
   "execution_count": 62,
   "metadata": {},
   "outputs": [],
   "source": [
    "# adds the data to the data frame\n",
    "df['population_and_area'] = df.city.map(city_dict)"
   ]
  },
  {
   "cell_type": "markdown",
   "metadata": {},
   "source": [
    "Creating a new variable of population density. It appears that keping area and population have a positive impact on MAE, so they are kept."
   ]
  },
  {
   "cell_type": "code",
   "execution_count": 63,
   "metadata": {},
   "outputs": [],
   "source": [
    "# using the data from the list, calculates the populaion density\n",
    "df['population'] = df['population_and_area'].apply(lambda x: x[0])\n",
    "df['area'] = df['population_and_area'].apply(lambda x: x[1])\n",
    "df['population_density'] = df['population_and_area'].apply(lambda x: x[0]/x[1])\n",
    "df.drop(['population_and_area'], inplace=True, axis=1)"
   ]
  },
  {
   "cell_type": "markdown",
   "metadata": {},
   "source": [
    "# 2.2 Capitals\n",
    "It is possible that restaurants in the capital might have their rating inflated, or they might be better due to\n",
    "larger number of tourists. to check that, a new column will be created."
   ]
  },
  {
   "cell_type": "code",
   "execution_count": 64,
   "metadata": {},
   "outputs": [],
   "source": [
    "capital = [1, 1, 1, 0, 1, 0, 1,\n",
    "           1, 1, 1, 1, 1, 0, 0,\n",
    "           0, 1, 1, 1, 1, 1, 1,\n",
    "           1, 0, 0, 0, 0, 1,\n",
    "           1, 1, 1, 1]\n",
    "\n",
    "capital_dict = {}\n",
    "for i in range(len(cities)):\n",
    "    capital_dict[cities[i]] = capital[i]\n",
    "capital_dict\n",
    "df['in_capital'] = df.city.map(capital_dict)"
   ]
  },
  {
   "cell_type": "markdown",
   "metadata": {},
   "source": [
    "# 3 Preparing the dataset for the model"
   ]
  },
  {
   "cell_type": "markdown",
   "metadata": {},
   "source": [
    "# 3.1 Correlations\n",
    "Checking the correlations between the columns, to see if any of them need to be dropped."
   ]
  },
  {
   "cell_type": "code",
   "execution_count": 65,
   "metadata": {},
   "outputs": [
    {
     "data": {
      "text/plain": [
       "<matplotlib.axes._subplots.AxesSubplot at 0x16e2e3a0>"
      ]
     },
     "execution_count": 65,
     "metadata": {},
     "output_type": "execute_result"
    },
    {
     "data": {
      "image/png": "[encoded data removed]",
      "text/plain": [
       "<Figure size 720x720 with 2 Axes>"
      ]
     },
     "metadata": {
      "needs_background": "light"
     },
     "output_type": "display_data"
    }
   ],
   "source": [
    "correlations = df.corr()\n",
    "plt.figure(figsize=(10, 10))\n",
    "sns.set(font_scale=1)\n",
    "sns.heatmap(correlations)"
   ]
  },
  {
   "cell_type": "code",
   "execution_count": null,
   "metadata": {},
   "outputs": [],
   "source": []
  },
  {
   "cell_type": "markdown",
   "metadata": {},
   "source": [
    "A few values have very high or very low correlation. For this model, I have decided to treat the absolute value of the correlation of 0.7 or higher as high. Let's display the rows which have correlations that might be outside the boundary:"
   ]
  },
  {
   "cell_type": "code",
   "execution_count": 66,
   "metadata": {},
   "outputs": [
    {
     "data": {
      "text/plain": [
       "chain_restaurant         -0.502592\n",
       "cuisine_count            -0.315655\n",
       "number_of_reviews        -0.223138\n",
       "in_capital               -0.155482\n",
       "positive_review          -0.151363\n",
       "rating                   -0.109897\n",
       "neutral_review           -0.021736\n",
       "shared_web               -0.010659\n",
       "sample                    0.006271\n",
       "days_since_last_review    0.008939\n",
       "time_difference           0.069228\n",
       "negative_review           0.085195\n",
       "last_date_filled          0.107399\n",
       "first_date_filled         0.149682\n",
       "filled_cuisine            0.150058\n",
       "area                      0.193928\n",
       "population_density        0.203122\n",
       "filled_budget             0.233946\n",
       "population                0.350333\n",
       "ranking_norm              0.554950\n",
       "ranking                   1.000000\n",
       "Name: ranking, dtype: float64"
      ]
     },
     "execution_count": 66,
     "metadata": {},
     "output_type": "execute_result"
    }
   ],
   "source": [
    "correlations['ranking'].sort_values()"
   ]
  },
  {
   "cell_type": "code",
   "execution_count": 67,
   "metadata": {},
   "outputs": [
    {
     "data": {
      "text/plain": [
       "filled_budget            -0.653251\n",
       "filled_cuisine           -0.637124\n",
       "ranking_norm             -0.547264\n",
       "first_date_filled        -0.422012\n",
       "ranking                  -0.315655\n",
       "last_date_filled         -0.308960\n",
       "time_difference          -0.103720\n",
       "in_capital               -0.094190\n",
       "population_density       -0.069361\n",
       "negative_review          -0.025256\n",
       "sample                   -0.003096\n",
       "shared_web                0.012323\n",
       "rating                    0.032704\n",
       "area                      0.057519\n",
       "population                0.058280\n",
       "days_since_last_review    0.088091\n",
       "chain_restaurant          0.089495\n",
       "neutral_review            0.183853\n",
       "positive_review           0.238812\n",
       "number_of_reviews         0.402994\n",
       "cuisine_count             1.000000\n",
       "Name: cuisine_count, dtype: float64"
      ]
     },
     "execution_count": 67,
     "metadata": {},
     "output_type": "execute_result"
    }
   ],
   "source": [
    "correlations['cuisine_count'].sort_values()"
   ]
  },
  {
   "cell_type": "code",
   "execution_count": 68,
   "metadata": {},
   "outputs": [
    {
     "data": {
      "text/plain": [
       "first_date_filled        -0.318867\n",
       "last_date_filled         -0.227373\n",
       "cuisine_count            -0.103720\n",
       "number_of_reviews        -0.087440\n",
       "chain_restaurant         -0.040213\n",
       "rating                   -0.025971\n",
       "filled_cuisine           -0.014833\n",
       "area                     -0.012907\n",
       "population               -0.009598\n",
       "sample                   -0.005773\n",
       "filled_budget            -0.004209\n",
       "shared_web                0.004160\n",
       "population_density        0.022223\n",
       "in_capital                0.024219\n",
       "negative_review           0.051760\n",
       "ranking                   0.069228\n",
       "ranking_norm              0.109222\n",
       "positive_review           0.142267\n",
       "neutral_review            0.163494\n",
       "days_since_last_review    0.236064\n",
       "time_difference           1.000000\n",
       "Name: time_difference, dtype: float64"
      ]
     },
     "execution_count": 68,
     "metadata": {},
     "output_type": "execute_result"
    }
   ],
   "source": [
    "correlations['time_difference'].sort_values()"
   ]
  },
  {
   "cell_type": "code",
   "execution_count": 69,
   "metadata": {},
   "outputs": [
    {
     "data": {
      "text/plain": [
       "area                     -0.546522\n",
       "population               -0.074173\n",
       "chain_restaurant         -0.072634\n",
       "cuisine_count            -0.069361\n",
       "number_of_reviews        -0.018119\n",
       "neutral_review           -0.015801\n",
       "filled_budget            -0.013370\n",
       "filled_cuisine           -0.010179\n",
       "rating                   -0.007755\n",
       "ranking_norm             -0.006538\n",
       "negative_review          -0.004649\n",
       "positive_review          -0.004493\n",
       "sample                   -0.000364\n",
       "days_since_last_review    0.000710\n",
       "shared_web                0.008588\n",
       "last_date_filled          0.017432\n",
       "time_difference           0.022223\n",
       "first_date_filled         0.024843\n",
       "ranking                   0.203122\n",
       "in_capital                0.272145\n",
       "population_density        1.000000\n",
       "Name: population_density, dtype: float64"
      ]
     },
     "execution_count": 69,
     "metadata": {},
     "output_type": "execute_result"
    }
   ],
   "source": [
    "correlations['population_density'].sort_values()"
   ]
  },
  {
   "cell_type": "code",
   "execution_count": 70,
   "metadata": {},
   "outputs": [
    {
     "data": {
      "text/plain": [
       "ranking_norm             -0.168728\n",
       "ranking                  -0.109897\n",
       "negative_review          -0.049432\n",
       "time_difference          -0.025971\n",
       "filled_budget            -0.020519\n",
       "neutral_review           -0.012943\n",
       "filled_cuisine           -0.010781\n",
       "last_date_filled         -0.010309\n",
       "in_capital               -0.009398\n",
       "days_since_last_review   -0.008713\n",
       "population_density       -0.007755\n",
       "area                     -0.007404\n",
       "first_date_filled        -0.005352\n",
       "population               -0.004565\n",
       "shared_web                0.000034\n",
       "number_of_reviews         0.011006\n",
       "cuisine_count             0.032704\n",
       "positive_review           0.035520\n",
       "chain_restaurant          0.150831\n",
       "sample                    0.936543\n",
       "rating                    1.000000\n",
       "Name: rating, dtype: float64"
      ]
     },
     "execution_count": 70,
     "metadata": {},
     "output_type": "execute_result"
    }
   ],
   "source": [
    "correlations['rating'].sort_values()"
   ]
  },
  {
   "cell_type": "markdown",
   "metadata": {},
   "source": [
    "It appears that certain parameters have a fairly high correlation between them, but none of them were over the treshhold of 0.7."
   ]
  },
  {
   "cell_type": "markdown",
   "metadata": {},
   "source": [
    "# 3.2 Creating dummies\n",
    "Creating dummy variables so the model can use them for prediction:"
   ]
  },
  {
   "cell_type": "code",
   "execution_count": 71,
   "metadata": {},
   "outputs": [
    {
     "data": {
      "text/html": [
       "<div>\n",
       "<style scoped>\n",
       "    .dataframe tbody tr th:only-of-type {\n",
       "        vertical-align: middle;\n",
       "    }\n",
       "\n",
       "    .dataframe tbody tr th {\n",
       "        vertical-align: top;\n",
       "    }\n",
       "\n",
       "    .dataframe thead th {\n",
       "        text-align: right;\n",
       "    }\n",
       "</style>\n",
       "<table border=\"1\" class=\"dataframe\">\n",
       "  <thead>\n",
       "    <tr style=\"text-align: right;\">\n",
       "      <th></th>\n",
       "      <th>id</th>\n",
       "      <th>city</th>\n",
       "      <th>cuisine</th>\n",
       "      <th>ranking</th>\n",
       "      <th>prices</th>\n",
       "      <th>number_of_reviews</th>\n",
       "      <th>reviews</th>\n",
       "      <th>website_id</th>\n",
       "      <th>sample</th>\n",
       "      <th>rating</th>\n",
       "      <th>chain_restaurant</th>\n",
       "      <th>filled_cuisine</th>\n",
       "      <th>most_popular_cuisine</th>\n",
       "      <th>cuisine_count</th>\n",
       "      <th>ranking_norm</th>\n",
       "      <th>first_review</th>\n",
       "      <th>last_review</th>\n",
       "      <th>first_date</th>\n",
       "      <th>last_date</th>\n",
       "      <th>positive_review</th>\n",
       "      <th>negative_review</th>\n",
       "      <th>neutral_review</th>\n",
       "      <th>time_difference</th>\n",
       "      <th>days_since_last_review</th>\n",
       "      <th>last_date_filled</th>\n",
       "      <th>first_date_filled</th>\n",
       "      <th>filled_budget</th>\n",
       "      <th>shared_web</th>\n",
       "      <th>population</th>\n",
       "      <th>area</th>\n",
       "      <th>population_density</th>\n",
       "      <th>in_capital</th>\n",
       "    </tr>\n",
       "  </thead>\n",
       "  <tbody>\n",
       "    <tr>\n",
       "      <th>0</th>\n",
       "      <td>0</td>\n",
       "      <td>Paris</td>\n",
       "      <td>[bar, pub]</td>\n",
       "      <td>12963.0</td>\n",
       "      <td>medium</td>\n",
       "      <td>4.0</td>\n",
       "      <td>[[], []]</td>\n",
       "      <td>d10746918</td>\n",
       "      <td>0</td>\n",
       "      <td>0.0</td>\n",
       "      <td>1.0</td>\n",
       "      <td>0.0</td>\n",
       "      <td>french</td>\n",
       "      <td>2</td>\n",
       "      <td>2.122299</td>\n",
       "      <td>No Review</td>\n",
       "      <td>No Review</td>\n",
       "      <td>0</td>\n",
       "      <td>0</td>\n",
       "      <td>0</td>\n",
       "      <td>0</td>\n",
       "      <td>0</td>\n",
       "      <td>0.0</td>\n",
       "      <td>0.0</td>\n",
       "      <td>1.0</td>\n",
       "      <td>1.0</td>\n",
       "      <td>0.0</td>\n",
       "      <td>0.0</td>\n",
       "      <td>2.2</td>\n",
       "      <td>105.0</td>\n",
       "      <td>0.020952</td>\n",
       "      <td>1</td>\n",
       "    </tr>\n",
       "    <tr>\n",
       "      <th>1</th>\n",
       "      <td>1</td>\n",
       "      <td>Helsinki</td>\n",
       "      <td>[european, scandinavian, gluten free options, ...</td>\n",
       "      <td>106.0</td>\n",
       "      <td>medium</td>\n",
       "      <td>97.0</td>\n",
       "      <td>[['Very good reviews!', 'Fine dining in Hakani...</td>\n",
       "      <td>d6674944</td>\n",
       "      <td>0</td>\n",
       "      <td>0.0</td>\n",
       "      <td>1.0</td>\n",
       "      <td>0.0</td>\n",
       "      <td>european</td>\n",
       "      <td>5</td>\n",
       "      <td>0.223158</td>\n",
       "      <td>Fine dining in Hakaniemi</td>\n",
       "      <td>Very good reviews!</td>\n",
       "      <td>2017-10-29 00:00:00</td>\n",
       "      <td>2017-12-05 00:00:00</td>\n",
       "      <td>1</td>\n",
       "      <td>0</td>\n",
       "      <td>0</td>\n",
       "      <td>37.0</td>\n",
       "      <td>1196.0</td>\n",
       "      <td>0.0</td>\n",
       "      <td>0.0</td>\n",
       "      <td>0.0</td>\n",
       "      <td>0.0</td>\n",
       "      <td>1.0</td>\n",
       "      <td>188.0</td>\n",
       "      <td>0.005319</td>\n",
       "      <td>1</td>\n",
       "    </tr>\n",
       "  </tbody>\n",
       "</table>\n",
       "</div>"
      ],
      "text/plain": [
       "  id      city                                            cuisine  ranking  \\\n",
       "0  0     Paris                                         [bar, pub]  12963.0   \n",
       "1  1  Helsinki  [european, scandinavian, gluten free options, ...    106.0   \n",
       "\n",
       "   prices  number_of_reviews  \\\n",
       "0  medium                4.0   \n",
       "1  medium               97.0   \n",
       "\n",
       "                                             reviews website_id  sample  \\\n",
       "0                                           [[], []]  d10746918       0   \n",
       "1  [['Very good reviews!', 'Fine dining in Hakani...   d6674944       0   \n",
       "\n",
       "   rating  chain_restaurant  filled_cuisine most_popular_cuisine  \\\n",
       "0     0.0               1.0             0.0               french   \n",
       "1     0.0               1.0             0.0             european   \n",
       "\n",
       "   cuisine_count  ranking_norm              first_review         last_review  \\\n",
       "0              2      2.122299                 No Review           No Review   \n",
       "1              5      0.223158  Fine dining in Hakaniemi  Very good reviews!   \n",
       "\n",
       "            first_date            last_date  positive_review  negative_review  \\\n",
       "0                    0                    0                0                0   \n",
       "1  2017-10-29 00:00:00  2017-12-05 00:00:00                1                0   \n",
       "\n",
       "   neutral_review  time_difference  days_since_last_review  last_date_filled  \\\n",
       "0               0              0.0                     0.0               1.0   \n",
       "1               0             37.0                  1196.0               0.0   \n",
       "\n",
       "   first_date_filled  filled_budget  shared_web  population   area  \\\n",
       "0                1.0            0.0         0.0         2.2  105.0   \n",
       "1                0.0            0.0         0.0         1.0  188.0   \n",
       "\n",
       "   population_density  in_capital  \n",
       "0            0.020952           1  \n",
       "1            0.005319           1  "
      ]
     },
     "execution_count": 71,
     "metadata": {},
     "output_type": "execute_result"
    }
   ],
   "source": [
    "df.head(2)"
   ]
  },
  {
   "cell_type": "code",
   "execution_count": 72,
   "metadata": {},
   "outputs": [],
   "source": [
    "city_dummies = pd.get_dummies(df.city)\n",
    "cuisine_dummies = pd.get_dummies(\n",
    "    df.cuisine.apply(pd.Series).stack()).sum(level=0)\n",
    "prices_dummies = pd.get_dummies(df.prices)"
   ]
  },
  {
   "cell_type": "code",
   "execution_count": 73,
   "metadata": {},
   "outputs": [
    {
     "data": {
      "text/plain": [
       "(50000, 4)"
      ]
     },
     "execution_count": 73,
     "metadata": {},
     "output_type": "execute_result"
    }
   ],
   "source": [
    "np.shape(city_dummies)\n",
    "np.shape(cuisine_dummies)\n",
    "np.shape(prices_dummies)"
   ]
  },
  {
   "cell_type": "markdown",
   "metadata": {},
   "source": [
    "# 3.3 Removing columns from the model dataframe\n",
    "Certain columns can not be used by the model, so they are added to the list 'to_drop' and then dropped.\n",
    "Colums that had negative impact on MAE are added to 'negative_impact' list and then dropped."
   ]
  },
  {
   "cell_type": "code",
   "execution_count": 74,
   "metadata": {},
   "outputs": [],
   "source": [
    "df_model = df.loc[df['sample'] == 1]"
   ]
  },
  {
   "cell_type": "code",
   "execution_count": 75,
   "metadata": {},
   "outputs": [
    {
     "name": "stdout",
     "output_type": "stream",
     "text": [
      "<class 'pandas.core.frame.DataFrame'>\n",
      "Int64Index: 40000 entries, 10000 to 49999\n",
      "Data columns (total 32 columns):\n",
      " #   Column                  Non-Null Count  Dtype  \n",
      "---  ------                  --------------  -----  \n",
      " 0   id                      40000 non-null  object \n",
      " 1   city                    40000 non-null  object \n",
      " 2   cuisine                 40000 non-null  object \n",
      " 3   ranking                 40000 non-null  float64\n",
      " 4   prices                  40000 non-null  object \n",
      " 5   number_of_reviews       40000 non-null  float64\n",
      " 6   reviews                 40000 non-null  object \n",
      " 7   website_id              40000 non-null  object \n",
      " 8   sample                  40000 non-null  int64  \n",
      " 9   rating                  40000 non-null  float64\n",
      " 10  chain_restaurant        40000 non-null  float64\n",
      " 11  filled_cuisine          40000 non-null  float64\n",
      " 12  most_popular_cuisine    40000 non-null  object \n",
      " 13  cuisine_count           40000 non-null  int64  \n",
      " 14  ranking_norm            40000 non-null  float64\n",
      " 15  first_review            40000 non-null  object \n",
      " 16  last_review             40000 non-null  object \n",
      " 17  first_date              40000 non-null  object \n",
      " 18  last_date               40000 non-null  object \n",
      " 19  positive_review         40000 non-null  int64  \n",
      " 20  negative_review         40000 non-null  int64  \n",
      " 21  neutral_review          40000 non-null  int64  \n",
      " 22  time_difference         40000 non-null  float64\n",
      " 23  days_since_last_review  40000 non-null  float64\n",
      " 24  last_date_filled        40000 non-null  float64\n",
      " 25  first_date_filled       40000 non-null  float64\n",
      " 26  filled_budget           40000 non-null  float64\n",
      " 27  shared_web              40000 non-null  float64\n",
      " 28  population              40000 non-null  float64\n",
      " 29  area                    40000 non-null  float64\n",
      " 30  population_density      40000 non-null  float64\n",
      " 31  in_capital              40000 non-null  int64  \n",
      "dtypes: float64(15), int64(6), object(11)\n",
      "memory usage: 10.1+ MB\n"
     ]
    }
   ],
   "source": [
    "df_model.info()"
   ]
  },
  {
   "cell_type": "markdown",
   "metadata": {},
   "source": [
    "Dropping columns that the model can not use for prediction. Columns 'filled_cuisine', 'filled_budget', 'chain_restaurant', 'shared_web', 'last_date_filled', 'first_date_filled' appear to have a negative impact on MAE, therefore are dropped."
   ]
  },
  {
   "cell_type": "code",
   "execution_count": 76,
   "metadata": {},
   "outputs": [],
   "source": [
    "to_drop = ['id', 'city', 'cuisine', 'prices',\n",
    "           'reviews', 'website_id', 'most_popular_cuisine',\n",
    "           'first_date', 'last_date', 'sample', 'first_review',\n",
    "           'last_review']\n",
    "negative_impact = ['filled_cuisine', 'filled_budget',\n",
    "                   'chain_restaurant', 'shared_web',\n",
    "                   'last_date_filled', 'first_date_filled']"
   ]
  },
  {
   "cell_type": "markdown",
   "metadata": {},
   "source": [
    "The dropping lines are separated so the model can be tested with the columns that have negative impact on the model."
   ]
  },
  {
   "cell_type": "code",
   "execution_count": 77,
   "metadata": {},
   "outputs": [],
   "source": [
    "df_model = df_model.drop(to_drop, axis=1)\n",
    "df_model = df_model.drop(negative_impact, axis=1)"
   ]
  },
  {
   "cell_type": "code",
   "execution_count": 78,
   "metadata": {},
   "outputs": [
    {
     "data": {
      "text/plain": [
       "(40000, 14)"
      ]
     },
     "execution_count": 78,
     "metadata": {},
     "output_type": "execute_result"
    }
   ],
   "source": [
    "np.shape(df_model)"
   ]
  },
  {
   "cell_type": "code",
   "execution_count": 79,
   "metadata": {},
   "outputs": [],
   "source": [
    "# merging dummies with the dataframe made for the model training\n",
    "df_model = df_model.merge(city_dummies,\n",
    "                          left_index=True, right_index=True)\n",
    "df_model = df_model.merge(cuisine_dummies,\n",
    "                          left_index=True, right_index=True)\n",
    "df_model = df_model.merge(prices_dummies,\n",
    "                          left_index=True, right_index=True)"
   ]
  },
  {
   "cell_type": "code",
   "execution_count": 80,
   "metadata": {},
   "outputs": [
    {
     "data": {
      "text/plain": [
       "(40000, 175)"
      ]
     },
     "execution_count": 80,
     "metadata": {},
     "output_type": "execute_result"
    }
   ],
   "source": [
    "np.shape(df_model)"
   ]
  },
  {
   "cell_type": "code",
   "execution_count": 81,
   "metadata": {},
   "outputs": [
    {
     "data": {
      "text/html": [
       "<div>\n",
       "<style scoped>\n",
       "    .dataframe tbody tr th:only-of-type {\n",
       "        vertical-align: middle;\n",
       "    }\n",
       "\n",
       "    .dataframe tbody tr th {\n",
       "        vertical-align: top;\n",
       "    }\n",
       "\n",
       "    .dataframe thead th {\n",
       "        text-align: right;\n",
       "    }\n",
       "</style>\n",
       "<table border=\"1\" class=\"dataframe\">\n",
       "  <thead>\n",
       "    <tr style=\"text-align: right;\">\n",
       "      <th></th>\n",
       "      <th>ranking</th>\n",
       "      <th>number_of_reviews</th>\n",
       "      <th>rating</th>\n",
       "      <th>cuisine_count</th>\n",
       "      <th>ranking_norm</th>\n",
       "      <th>positive_review</th>\n",
       "      <th>negative_review</th>\n",
       "      <th>neutral_review</th>\n",
       "      <th>time_difference</th>\n",
       "      <th>days_since_last_review</th>\n",
       "      <th>population</th>\n",
       "      <th>area</th>\n",
       "      <th>population_density</th>\n",
       "      <th>in_capital</th>\n",
       "      <th>Amsterdam</th>\n",
       "      <th>Athens</th>\n",
       "      <th>Barcelona</th>\n",
       "      <th>Berlin</th>\n",
       "      <th>Bratislava</th>\n",
       "      <th>Brussels</th>\n",
       "      <th>Budapest</th>\n",
       "      <th>Copenhagen</th>\n",
       "      <th>Dublin</th>\n",
       "      <th>Edinburgh</th>\n",
       "      <th>Geneva</th>\n",
       "      <th>Hamburg</th>\n",
       "      <th>Helsinki</th>\n",
       "      <th>Krakow</th>\n",
       "      <th>Lisbon</th>\n",
       "      <th>Ljubljana</th>\n",
       "      <th>London</th>\n",
       "      <th>Luxembourg</th>\n",
       "      <th>Lyon</th>\n",
       "      <th>Madrid</th>\n",
       "      <th>Milan</th>\n",
       "      <th>Munich</th>\n",
       "      <th>Oporto</th>\n",
       "      <th>Oslo</th>\n",
       "      <th>Paris</th>\n",
       "      <th>Prague</th>\n",
       "      <th>Rome</th>\n",
       "      <th>Stockholm</th>\n",
       "      <th>Vienna</th>\n",
       "      <th>Warsaw</th>\n",
       "      <th>Zurich</th>\n",
       "      <th>afghani</th>\n",
       "      <th>african</th>\n",
       "      <th>albanian</th>\n",
       "      <th>american</th>\n",
       "      <th>arabic</th>\n",
       "      <th>argentinean</th>\n",
       "      <th>armenian</th>\n",
       "      <th>asian</th>\n",
       "      <th>australian</th>\n",
       "      <th>austrian</th>\n",
       "      <th>azerbaijani</th>\n",
       "      <th>balti</th>\n",
       "      <th>bangladeshi</th>\n",
       "      <th>bar</th>\n",
       "      <th>barbecue</th>\n",
       "      <th>belgian</th>\n",
       "      <th>brazilian</th>\n",
       "      <th>brew pub</th>\n",
       "      <th>british</th>\n",
       "      <th>burmese</th>\n",
       "      <th>cafe</th>\n",
       "      <th>cajun &amp; creole</th>\n",
       "      <th>cambodian</th>\n",
       "      <th>canadian</th>\n",
       "      <th>caribbean</th>\n",
       "      <th>caucasian</th>\n",
       "      <th>central american</th>\n",
       "      <th>central asian</th>\n",
       "      <th>central european</th>\n",
       "      <th>chilean</th>\n",
       "      <th>chinese</th>\n",
       "      <th>colombian</th>\n",
       "      <th>contemporary</th>\n",
       "      <th>croatian</th>\n",
       "      <th>cuban</th>\n",
       "      <th>czech</th>\n",
       "      <th>danish</th>\n",
       "      <th>delicatessen</th>\n",
       "      <th>diner</th>\n",
       "      <th>dutch</th>\n",
       "      <th>eastern european</th>\n",
       "      <th>ecuadorean</th>\n",
       "      <th>egyptian</th>\n",
       "      <th>ethiopian</th>\n",
       "      <th>european</th>\n",
       "      <th>fast food</th>\n",
       "      <th>filipino</th>\n",
       "      <th>french</th>\n",
       "      <th>fujian</th>\n",
       "      <th>fusion</th>\n",
       "      <th>gastropub</th>\n",
       "      <th>georgian</th>\n",
       "      <th>german</th>\n",
       "      <th>gluten free options</th>\n",
       "      <th>greek</th>\n",
       "      <th>grill</th>\n",
       "      <th>halal</th>\n",
       "      <th>hawaiian</th>\n",
       "      <th>healthy</th>\n",
       "      <th>hungarian</th>\n",
       "      <th>indian</th>\n",
       "      <th>indonesian</th>\n",
       "      <th>international</th>\n",
       "      <th>irish</th>\n",
       "      <th>israeli</th>\n",
       "      <th>italian</th>\n",
       "      <th>jamaican</th>\n",
       "      <th>japanese</th>\n",
       "      <th>korean</th>\n",
       "      <th>kosher</th>\n",
       "      <th>latin</th>\n",
       "      <th>latvian</th>\n",
       "      <th>lebanese</th>\n",
       "      <th>malaysian</th>\n",
       "      <th>mediterranean</th>\n",
       "      <th>mexican</th>\n",
       "      <th>middle eastern</th>\n",
       "      <th>minority chinese</th>\n",
       "      <th>mongolian</th>\n",
       "      <th>moroccan</th>\n",
       "      <th>native american</th>\n",
       "      <th>nepali</th>\n",
       "      <th>new zealand</th>\n",
       "      <th>norwegian</th>\n",
       "      <th>other_cuisine</th>\n",
       "      <th>pakistani</th>\n",
       "      <th>persian</th>\n",
       "      <th>peruvian</th>\n",
       "      <th>pizza</th>\n",
       "      <th>polish</th>\n",
       "      <th>polynesian</th>\n",
       "      <th>portuguese</th>\n",
       "      <th>pub</th>\n",
       "      <th>romanian</th>\n",
       "      <th>russian</th>\n",
       "      <th>salvadoran</th>\n",
       "      <th>scandinavian</th>\n",
       "      <th>scottish</th>\n",
       "      <th>seafood</th>\n",
       "      <th>singaporean</th>\n",
       "      <th>slovenian</th>\n",
       "      <th>soups</th>\n",
       "      <th>south american</th>\n",
       "      <th>southwestern</th>\n",
       "      <th>spanish</th>\n",
       "      <th>sri lankan</th>\n",
       "      <th>steakhouse</th>\n",
       "      <th>street food</th>\n",
       "      <th>sushi</th>\n",
       "      <th>swedish</th>\n",
       "      <th>swiss</th>\n",
       "      <th>taiwanese</th>\n",
       "      <th>thai</th>\n",
       "      <th>tibetan</th>\n",
       "      <th>tunisian</th>\n",
       "      <th>turkish</th>\n",
       "      <th>ukrainian</th>\n",
       "      <th>uzbek</th>\n",
       "      <th>vegan options</th>\n",
       "      <th>vegetarian friendly</th>\n",
       "      <th>venezuelan</th>\n",
       "      <th>vietnamese</th>\n",
       "      <th>welsh</th>\n",
       "      <th>wine bar</th>\n",
       "      <th>xinjiang</th>\n",
       "      <th>yunnan</th>\n",
       "      <th>budget</th>\n",
       "      <th>expensive</th>\n",
       "      <th>medium</th>\n",
       "      <th>unspecified_budget</th>\n",
       "    </tr>\n",
       "  </thead>\n",
       "  <tbody>\n",
       "    <tr>\n",
       "      <th>10000</th>\n",
       "      <td>5570.0</td>\n",
       "      <td>194.0</td>\n",
       "      <td>3.5</td>\n",
       "      <td>3</td>\n",
       "      <td>0.911919</td>\n",
       "      <td>1</td>\n",
       "      <td>0</td>\n",
       "      <td>0</td>\n",
       "      <td>41.0</td>\n",
       "      <td>1170.0</td>\n",
       "      <td>2.2</td>\n",
       "      <td>105.0</td>\n",
       "      <td>0.020952</td>\n",
       "      <td>1</td>\n",
       "      <td>0</td>\n",
       "      <td>0</td>\n",
       "      <td>0</td>\n",
       "      <td>0</td>\n",
       "      <td>0</td>\n",
       "      <td>0</td>\n",
       "      <td>0</td>\n",
       "      <td>0</td>\n",
       "      <td>0</td>\n",
       "      <td>0</td>\n",
       "      <td>0</td>\n",
       "      <td>0</td>\n",
       "      <td>0</td>\n",
       "      <td>0</td>\n",
       "      <td>0</td>\n",
       "      <td>0</td>\n",
       "      <td>0</td>\n",
       "      <td>0</td>\n",
       "      <td>0</td>\n",
       "      <td>0</td>\n",
       "      <td>0</td>\n",
       "      <td>0</td>\n",
       "      <td>0</td>\n",
       "      <td>0</td>\n",
       "      <td>1</td>\n",
       "      <td>0</td>\n",
       "      <td>0</td>\n",
       "      <td>0</td>\n",
       "      <td>0</td>\n",
       "      <td>0</td>\n",
       "      <td>0</td>\n",
       "      <td>0</td>\n",
       "      <td>0</td>\n",
       "      <td>0</td>\n",
       "      <td>0</td>\n",
       "      <td>0</td>\n",
       "      <td>0</td>\n",
       "      <td>0</td>\n",
       "      <td>0</td>\n",
       "      <td>0</td>\n",
       "      <td>0</td>\n",
       "      <td>0</td>\n",
       "      <td>0</td>\n",
       "      <td>0</td>\n",
       "      <td>0</td>\n",
       "      <td>0</td>\n",
       "      <td>0</td>\n",
       "      <td>0</td>\n",
       "      <td>0</td>\n",
       "      <td>0</td>\n",
       "      <td>0</td>\n",
       "      <td>0</td>\n",
       "      <td>0</td>\n",
       "      <td>0</td>\n",
       "      <td>0</td>\n",
       "      <td>0</td>\n",
       "      <td>0</td>\n",
       "      <td>0</td>\n",
       "      <td>0</td>\n",
       "      <td>0</td>\n",
       "      <td>0</td>\n",
       "      <td>0</td>\n",
       "      <td>0</td>\n",
       "      <td>0</td>\n",
       "      <td>0</td>\n",
       "      <td>0</td>\n",
       "      <td>0</td>\n",
       "      <td>0</td>\n",
       "      <td>0</td>\n",
       "      <td>0</td>\n",
       "      <td>0</td>\n",
       "      <td>0</td>\n",
       "      <td>0</td>\n",
       "      <td>0</td>\n",
       "      <td>0</td>\n",
       "      <td>1</td>\n",
       "      <td>0</td>\n",
       "      <td>0</td>\n",
       "      <td>1</td>\n",
       "      <td>0</td>\n",
       "      <td>0</td>\n",
       "      <td>0</td>\n",
       "      <td>0</td>\n",
       "      <td>0</td>\n",
       "      <td>0</td>\n",
       "      <td>0</td>\n",
       "      <td>0</td>\n",
       "      <td>0</td>\n",
       "      <td>0</td>\n",
       "      <td>0</td>\n",
       "      <td>0</td>\n",
       "      <td>0</td>\n",
       "      <td>0</td>\n",
       "      <td>1</td>\n",
       "      <td>0</td>\n",
       "      <td>0</td>\n",
       "      <td>0</td>\n",
       "      <td>0</td>\n",
       "      <td>0</td>\n",
       "      <td>0</td>\n",
       "      <td>0</td>\n",
       "      <td>0</td>\n",
       "      <td>0</td>\n",
       "      <td>0</td>\n",
       "      <td>0</td>\n",
       "      <td>0</td>\n",
       "      <td>0</td>\n",
       "      <td>0</td>\n",
       "      <td>0</td>\n",
       "      <td>0</td>\n",
       "      <td>0</td>\n",
       "      <td>0</td>\n",
       "      <td>0</td>\n",
       "      <td>0</td>\n",
       "      <td>0</td>\n",
       "      <td>0</td>\n",
       "      <td>0</td>\n",
       "      <td>0</td>\n",
       "      <td>0</td>\n",
       "      <td>0</td>\n",
       "      <td>0</td>\n",
       "      <td>0</td>\n",
       "      <td>0</td>\n",
       "      <td>0</td>\n",
       "      <td>0</td>\n",
       "      <td>0</td>\n",
       "      <td>0</td>\n",
       "      <td>0</td>\n",
       "      <td>0</td>\n",
       "      <td>0</td>\n",
       "      <td>0</td>\n",
       "      <td>0</td>\n",
       "      <td>0</td>\n",
       "      <td>0</td>\n",
       "      <td>0</td>\n",
       "      <td>0</td>\n",
       "      <td>0</td>\n",
       "      <td>0</td>\n",
       "      <td>0</td>\n",
       "      <td>0</td>\n",
       "      <td>0</td>\n",
       "      <td>0</td>\n",
       "      <td>0</td>\n",
       "      <td>0</td>\n",
       "      <td>0</td>\n",
       "      <td>0</td>\n",
       "      <td>0</td>\n",
       "      <td>0</td>\n",
       "      <td>0</td>\n",
       "      <td>0</td>\n",
       "      <td>0</td>\n",
       "      <td>0</td>\n",
       "      <td>0</td>\n",
       "      <td>0</td>\n",
       "      <td>0</td>\n",
       "      <td>0</td>\n",
       "      <td>0</td>\n",
       "      <td>0</td>\n",
       "      <td>0</td>\n",
       "      <td>1</td>\n",
       "      <td>0</td>\n",
       "    </tr>\n",
       "    <tr>\n",
       "      <th>10001</th>\n",
       "      <td>1537.0</td>\n",
       "      <td>10.0</td>\n",
       "      <td>4.0</td>\n",
       "      <td>0</td>\n",
       "      <td>1.487899</td>\n",
       "      <td>1</td>\n",
       "      <td>0</td>\n",
       "      <td>0</td>\n",
       "      <td>382.0</td>\n",
       "      <td>1348.0</td>\n",
       "      <td>0.4</td>\n",
       "      <td>368.0</td>\n",
       "      <td>0.001087</td>\n",
       "      <td>1</td>\n",
       "      <td>0</td>\n",
       "      <td>0</td>\n",
       "      <td>0</td>\n",
       "      <td>0</td>\n",
       "      <td>0</td>\n",
       "      <td>0</td>\n",
       "      <td>0</td>\n",
       "      <td>0</td>\n",
       "      <td>0</td>\n",
       "      <td>0</td>\n",
       "      <td>0</td>\n",
       "      <td>0</td>\n",
       "      <td>0</td>\n",
       "      <td>0</td>\n",
       "      <td>0</td>\n",
       "      <td>0</td>\n",
       "      <td>0</td>\n",
       "      <td>0</td>\n",
       "      <td>0</td>\n",
       "      <td>0</td>\n",
       "      <td>0</td>\n",
       "      <td>0</td>\n",
       "      <td>0</td>\n",
       "      <td>0</td>\n",
       "      <td>0</td>\n",
       "      <td>0</td>\n",
       "      <td>0</td>\n",
       "      <td>1</td>\n",
       "      <td>0</td>\n",
       "      <td>0</td>\n",
       "      <td>0</td>\n",
       "      <td>0</td>\n",
       "      <td>0</td>\n",
       "      <td>0</td>\n",
       "      <td>0</td>\n",
       "      <td>0</td>\n",
       "      <td>0</td>\n",
       "      <td>0</td>\n",
       "      <td>0</td>\n",
       "      <td>0</td>\n",
       "      <td>0</td>\n",
       "      <td>0</td>\n",
       "      <td>0</td>\n",
       "      <td>0</td>\n",
       "      <td>0</td>\n",
       "      <td>0</td>\n",
       "      <td>0</td>\n",
       "      <td>0</td>\n",
       "      <td>0</td>\n",
       "      <td>0</td>\n",
       "      <td>0</td>\n",
       "      <td>0</td>\n",
       "      <td>0</td>\n",
       "      <td>0</td>\n",
       "      <td>0</td>\n",
       "      <td>0</td>\n",
       "      <td>0</td>\n",
       "      <td>0</td>\n",
       "      <td>0</td>\n",
       "      <td>0</td>\n",
       "      <td>0</td>\n",
       "      <td>0</td>\n",
       "      <td>0</td>\n",
       "      <td>0</td>\n",
       "      <td>0</td>\n",
       "      <td>0</td>\n",
       "      <td>0</td>\n",
       "      <td>0</td>\n",
       "      <td>0</td>\n",
       "      <td>0</td>\n",
       "      <td>0</td>\n",
       "      <td>0</td>\n",
       "      <td>0</td>\n",
       "      <td>0</td>\n",
       "      <td>0</td>\n",
       "      <td>0</td>\n",
       "      <td>0</td>\n",
       "      <td>0</td>\n",
       "      <td>0</td>\n",
       "      <td>0</td>\n",
       "      <td>0</td>\n",
       "      <td>0</td>\n",
       "      <td>0</td>\n",
       "      <td>0</td>\n",
       "      <td>0</td>\n",
       "      <td>0</td>\n",
       "      <td>0</td>\n",
       "      <td>0</td>\n",
       "      <td>0</td>\n",
       "      <td>0</td>\n",
       "      <td>0</td>\n",
       "      <td>0</td>\n",
       "      <td>0</td>\n",
       "      <td>0</td>\n",
       "      <td>0</td>\n",
       "      <td>0</td>\n",
       "      <td>0</td>\n",
       "      <td>0</td>\n",
       "      <td>0</td>\n",
       "      <td>0</td>\n",
       "      <td>0</td>\n",
       "      <td>0</td>\n",
       "      <td>0</td>\n",
       "      <td>0</td>\n",
       "      <td>0</td>\n",
       "      <td>0</td>\n",
       "      <td>0</td>\n",
       "      <td>0</td>\n",
       "      <td>0</td>\n",
       "      <td>0</td>\n",
       "      <td>0</td>\n",
       "      <td>0</td>\n",
       "      <td>0</td>\n",
       "      <td>0</td>\n",
       "      <td>0</td>\n",
       "      <td>1</td>\n",
       "      <td>0</td>\n",
       "      <td>0</td>\n",
       "      <td>0</td>\n",
       "      <td>0</td>\n",
       "      <td>0</td>\n",
       "      <td>0</td>\n",
       "      <td>0</td>\n",
       "      <td>0</td>\n",
       "      <td>0</td>\n",
       "      <td>0</td>\n",
       "      <td>0</td>\n",
       "      <td>0</td>\n",
       "      <td>0</td>\n",
       "      <td>0</td>\n",
       "      <td>0</td>\n",
       "      <td>0</td>\n",
       "      <td>0</td>\n",
       "      <td>0</td>\n",
       "      <td>0</td>\n",
       "      <td>0</td>\n",
       "      <td>0</td>\n",
       "      <td>0</td>\n",
       "      <td>0</td>\n",
       "      <td>0</td>\n",
       "      <td>0</td>\n",
       "      <td>0</td>\n",
       "      <td>0</td>\n",
       "      <td>0</td>\n",
       "      <td>0</td>\n",
       "      <td>0</td>\n",
       "      <td>0</td>\n",
       "      <td>0</td>\n",
       "      <td>0</td>\n",
       "      <td>0</td>\n",
       "      <td>0</td>\n",
       "      <td>0</td>\n",
       "      <td>0</td>\n",
       "      <td>0</td>\n",
       "      <td>0</td>\n",
       "      <td>0</td>\n",
       "      <td>0</td>\n",
       "      <td>0</td>\n",
       "      <td>0</td>\n",
       "      <td>0</td>\n",
       "      <td>1</td>\n",
       "    </tr>\n",
       "    <tr>\n",
       "      <th>10002</th>\n",
       "      <td>353.0</td>\n",
       "      <td>688.0</td>\n",
       "      <td>4.5</td>\n",
       "      <td>7</td>\n",
       "      <td>0.049075</td>\n",
       "      <td>1</td>\n",
       "      <td>0</td>\n",
       "      <td>1</td>\n",
       "      <td>2.0</td>\n",
       "      <td>1162.0</td>\n",
       "      <td>3.6</td>\n",
       "      <td>891.0</td>\n",
       "      <td>0.004040</td>\n",
       "      <td>0</td>\n",
       "      <td>0</td>\n",
       "      <td>0</td>\n",
       "      <td>0</td>\n",
       "      <td>0</td>\n",
       "      <td>0</td>\n",
       "      <td>0</td>\n",
       "      <td>0</td>\n",
       "      <td>0</td>\n",
       "      <td>0</td>\n",
       "      <td>0</td>\n",
       "      <td>0</td>\n",
       "      <td>0</td>\n",
       "      <td>0</td>\n",
       "      <td>0</td>\n",
       "      <td>0</td>\n",
       "      <td>0</td>\n",
       "      <td>1</td>\n",
       "      <td>0</td>\n",
       "      <td>0</td>\n",
       "      <td>0</td>\n",
       "      <td>0</td>\n",
       "      <td>0</td>\n",
       "      <td>0</td>\n",
       "      <td>0</td>\n",
       "      <td>0</td>\n",
       "      <td>0</td>\n",
       "      <td>0</td>\n",
       "      <td>0</td>\n",
       "      <td>0</td>\n",
       "      <td>0</td>\n",
       "      <td>0</td>\n",
       "      <td>0</td>\n",
       "      <td>0</td>\n",
       "      <td>0</td>\n",
       "      <td>0</td>\n",
       "      <td>0</td>\n",
       "      <td>0</td>\n",
       "      <td>0</td>\n",
       "      <td>1</td>\n",
       "      <td>0</td>\n",
       "      <td>0</td>\n",
       "      <td>0</td>\n",
       "      <td>0</td>\n",
       "      <td>0</td>\n",
       "      <td>0</td>\n",
       "      <td>0</td>\n",
       "      <td>0</td>\n",
       "      <td>0</td>\n",
       "      <td>0</td>\n",
       "      <td>0</td>\n",
       "      <td>0</td>\n",
       "      <td>0</td>\n",
       "      <td>0</td>\n",
       "      <td>0</td>\n",
       "      <td>0</td>\n",
       "      <td>0</td>\n",
       "      <td>0</td>\n",
       "      <td>0</td>\n",
       "      <td>0</td>\n",
       "      <td>0</td>\n",
       "      <td>0</td>\n",
       "      <td>0</td>\n",
       "      <td>0</td>\n",
       "      <td>0</td>\n",
       "      <td>0</td>\n",
       "      <td>0</td>\n",
       "      <td>0</td>\n",
       "      <td>0</td>\n",
       "      <td>0</td>\n",
       "      <td>0</td>\n",
       "      <td>0</td>\n",
       "      <td>0</td>\n",
       "      <td>0</td>\n",
       "      <td>0</td>\n",
       "      <td>0</td>\n",
       "      <td>0</td>\n",
       "      <td>0</td>\n",
       "      <td>0</td>\n",
       "      <td>0</td>\n",
       "      <td>0</td>\n",
       "      <td>0</td>\n",
       "      <td>0</td>\n",
       "      <td>0</td>\n",
       "      <td>0</td>\n",
       "      <td>1</td>\n",
       "      <td>0</td>\n",
       "      <td>1</td>\n",
       "      <td>0</td>\n",
       "      <td>0</td>\n",
       "      <td>0</td>\n",
       "      <td>0</td>\n",
       "      <td>0</td>\n",
       "      <td>0</td>\n",
       "      <td>0</td>\n",
       "      <td>0</td>\n",
       "      <td>0</td>\n",
       "      <td>0</td>\n",
       "      <td>0</td>\n",
       "      <td>1</td>\n",
       "      <td>0</td>\n",
       "      <td>0</td>\n",
       "      <td>0</td>\n",
       "      <td>0</td>\n",
       "      <td>0</td>\n",
       "      <td>0</td>\n",
       "      <td>0</td>\n",
       "      <td>0</td>\n",
       "      <td>0</td>\n",
       "      <td>0</td>\n",
       "      <td>0</td>\n",
       "      <td>0</td>\n",
       "      <td>0</td>\n",
       "      <td>0</td>\n",
       "      <td>0</td>\n",
       "      <td>0</td>\n",
       "      <td>0</td>\n",
       "      <td>0</td>\n",
       "      <td>0</td>\n",
       "      <td>0</td>\n",
       "      <td>0</td>\n",
       "      <td>0</td>\n",
       "      <td>0</td>\n",
       "      <td>0</td>\n",
       "      <td>0</td>\n",
       "      <td>0</td>\n",
       "      <td>0</td>\n",
       "      <td>0</td>\n",
       "      <td>0</td>\n",
       "      <td>0</td>\n",
       "      <td>0</td>\n",
       "      <td>0</td>\n",
       "      <td>0</td>\n",
       "      <td>0</td>\n",
       "      <td>0</td>\n",
       "      <td>0</td>\n",
       "      <td>0</td>\n",
       "      <td>0</td>\n",
       "      <td>0</td>\n",
       "      <td>0</td>\n",
       "      <td>1</td>\n",
       "      <td>0</td>\n",
       "      <td>0</td>\n",
       "      <td>0</td>\n",
       "      <td>0</td>\n",
       "      <td>0</td>\n",
       "      <td>0</td>\n",
       "      <td>0</td>\n",
       "      <td>0</td>\n",
       "      <td>0</td>\n",
       "      <td>1</td>\n",
       "      <td>1</td>\n",
       "      <td>0</td>\n",
       "      <td>0</td>\n",
       "      <td>0</td>\n",
       "      <td>0</td>\n",
       "      <td>0</td>\n",
       "      <td>0</td>\n",
       "      <td>0</td>\n",
       "      <td>1</td>\n",
       "      <td>0</td>\n",
       "      <td>0</td>\n",
       "    </tr>\n",
       "    <tr>\n",
       "      <th>10003</th>\n",
       "      <td>3458.0</td>\n",
       "      <td>3.0</td>\n",
       "      <td>5.0</td>\n",
       "      <td>0</td>\n",
       "      <td>1.278373</td>\n",
       "      <td>0</td>\n",
       "      <td>0</td>\n",
       "      <td>0</td>\n",
       "      <td>0.0</td>\n",
       "      <td>0.0</td>\n",
       "      <td>1.9</td>\n",
       "      <td>755.0</td>\n",
       "      <td>0.002517</td>\n",
       "      <td>1</td>\n",
       "      <td>0</td>\n",
       "      <td>0</td>\n",
       "      <td>0</td>\n",
       "      <td>1</td>\n",
       "      <td>0</td>\n",
       "      <td>0</td>\n",
       "      <td>0</td>\n",
       "      <td>0</td>\n",
       "      <td>0</td>\n",
       "      <td>0</td>\n",
       "      <td>0</td>\n",
       "      <td>0</td>\n",
       "      <td>0</td>\n",
       "      <td>0</td>\n",
       "      <td>0</td>\n",
       "      <td>0</td>\n",
       "      <td>0</td>\n",
       "      <td>0</td>\n",
       "      <td>0</td>\n",
       "      <td>0</td>\n",
       "      <td>0</td>\n",
       "      <td>0</td>\n",
       "      <td>0</td>\n",
       "      <td>0</td>\n",
       "      <td>0</td>\n",
       "      <td>0</td>\n",
       "      <td>0</td>\n",
       "      <td>0</td>\n",
       "      <td>0</td>\n",
       "      <td>0</td>\n",
       "      <td>0</td>\n",
       "      <td>0</td>\n",
       "      <td>0</td>\n",
       "      <td>0</td>\n",
       "      <td>0</td>\n",
       "      <td>0</td>\n",
       "      <td>0</td>\n",
       "      <td>0</td>\n",
       "      <td>0</td>\n",
       "      <td>0</td>\n",
       "      <td>0</td>\n",
       "      <td>0</td>\n",
       "      <td>0</td>\n",
       "      <td>0</td>\n",
       "      <td>0</td>\n",
       "      <td>0</td>\n",
       "      <td>0</td>\n",
       "      <td>0</td>\n",
       "      <td>0</td>\n",
       "      <td>0</td>\n",
       "      <td>0</td>\n",
       "      <td>0</td>\n",
       "      <td>0</td>\n",
       "      <td>0</td>\n",
       "      <td>0</td>\n",
       "      <td>0</td>\n",
       "      <td>0</td>\n",
       "      <td>0</td>\n",
       "      <td>0</td>\n",
       "      <td>0</td>\n",
       "      <td>0</td>\n",
       "      <td>0</td>\n",
       "      <td>0</td>\n",
       "      <td>0</td>\n",
       "      <td>0</td>\n",
       "      <td>0</td>\n",
       "      <td>0</td>\n",
       "      <td>0</td>\n",
       "      <td>0</td>\n",
       "      <td>0</td>\n",
       "      <td>0</td>\n",
       "      <td>0</td>\n",
       "      <td>0</td>\n",
       "      <td>0</td>\n",
       "      <td>0</td>\n",
       "      <td>0</td>\n",
       "      <td>0</td>\n",
       "      <td>0</td>\n",
       "      <td>0</td>\n",
       "      <td>0</td>\n",
       "      <td>0</td>\n",
       "      <td>0</td>\n",
       "      <td>0</td>\n",
       "      <td>0</td>\n",
       "      <td>0</td>\n",
       "      <td>0</td>\n",
       "      <td>0</td>\n",
       "      <td>0</td>\n",
       "      <td>0</td>\n",
       "      <td>0</td>\n",
       "      <td>0</td>\n",
       "      <td>0</td>\n",
       "      <td>0</td>\n",
       "      <td>0</td>\n",
       "      <td>0</td>\n",
       "      <td>0</td>\n",
       "      <td>0</td>\n",
       "      <td>0</td>\n",
       "      <td>0</td>\n",
       "      <td>0</td>\n",
       "      <td>0</td>\n",
       "      <td>0</td>\n",
       "      <td>0</td>\n",
       "      <td>0</td>\n",
       "      <td>0</td>\n",
       "      <td>0</td>\n",
       "      <td>0</td>\n",
       "      <td>0</td>\n",
       "      <td>0</td>\n",
       "      <td>0</td>\n",
       "      <td>0</td>\n",
       "      <td>0</td>\n",
       "      <td>0</td>\n",
       "      <td>0</td>\n",
       "      <td>0</td>\n",
       "      <td>1</td>\n",
       "      <td>0</td>\n",
       "      <td>0</td>\n",
       "      <td>0</td>\n",
       "      <td>0</td>\n",
       "      <td>0</td>\n",
       "      <td>0</td>\n",
       "      <td>0</td>\n",
       "      <td>0</td>\n",
       "      <td>0</td>\n",
       "      <td>0</td>\n",
       "      <td>0</td>\n",
       "      <td>0</td>\n",
       "      <td>0</td>\n",
       "      <td>0</td>\n",
       "      <td>0</td>\n",
       "      <td>0</td>\n",
       "      <td>0</td>\n",
       "      <td>0</td>\n",
       "      <td>0</td>\n",
       "      <td>0</td>\n",
       "      <td>0</td>\n",
       "      <td>0</td>\n",
       "      <td>0</td>\n",
       "      <td>0</td>\n",
       "      <td>0</td>\n",
       "      <td>0</td>\n",
       "      <td>0</td>\n",
       "      <td>0</td>\n",
       "      <td>0</td>\n",
       "      <td>0</td>\n",
       "      <td>0</td>\n",
       "      <td>0</td>\n",
       "      <td>0</td>\n",
       "      <td>0</td>\n",
       "      <td>0</td>\n",
       "      <td>0</td>\n",
       "      <td>0</td>\n",
       "      <td>0</td>\n",
       "      <td>0</td>\n",
       "      <td>0</td>\n",
       "      <td>0</td>\n",
       "      <td>0</td>\n",
       "      <td>0</td>\n",
       "      <td>0</td>\n",
       "      <td>1</td>\n",
       "    </tr>\n",
       "    <tr>\n",
       "      <th>10004</th>\n",
       "      <td>621.0</td>\n",
       "      <td>84.0</td>\n",
       "      <td>4.0</td>\n",
       "      <td>3</td>\n",
       "      <td>0.542358</td>\n",
       "      <td>1</td>\n",
       "      <td>0</td>\n",
       "      <td>0</td>\n",
       "      <td>272.0</td>\n",
       "      <td>1213.0</td>\n",
       "      <td>1.7</td>\n",
       "      <td>101.0</td>\n",
       "      <td>0.016832</td>\n",
       "      <td>1</td>\n",
       "      <td>0</td>\n",
       "      <td>0</td>\n",
       "      <td>0</td>\n",
       "      <td>0</td>\n",
       "      <td>0</td>\n",
       "      <td>0</td>\n",
       "      <td>0</td>\n",
       "      <td>0</td>\n",
       "      <td>0</td>\n",
       "      <td>0</td>\n",
       "      <td>0</td>\n",
       "      <td>0</td>\n",
       "      <td>0</td>\n",
       "      <td>0</td>\n",
       "      <td>0</td>\n",
       "      <td>0</td>\n",
       "      <td>0</td>\n",
       "      <td>0</td>\n",
       "      <td>0</td>\n",
       "      <td>0</td>\n",
       "      <td>0</td>\n",
       "      <td>1</td>\n",
       "      <td>0</td>\n",
       "      <td>0</td>\n",
       "      <td>0</td>\n",
       "      <td>0</td>\n",
       "      <td>0</td>\n",
       "      <td>0</td>\n",
       "      <td>0</td>\n",
       "      <td>0</td>\n",
       "      <td>0</td>\n",
       "      <td>0</td>\n",
       "      <td>0</td>\n",
       "      <td>0</td>\n",
       "      <td>0</td>\n",
       "      <td>0</td>\n",
       "      <td>0</td>\n",
       "      <td>0</td>\n",
       "      <td>0</td>\n",
       "      <td>0</td>\n",
       "      <td>0</td>\n",
       "      <td>0</td>\n",
       "      <td>0</td>\n",
       "      <td>0</td>\n",
       "      <td>0</td>\n",
       "      <td>0</td>\n",
       "      <td>0</td>\n",
       "      <td>0</td>\n",
       "      <td>0</td>\n",
       "      <td>0</td>\n",
       "      <td>0</td>\n",
       "      <td>0</td>\n",
       "      <td>0</td>\n",
       "      <td>0</td>\n",
       "      <td>0</td>\n",
       "      <td>0</td>\n",
       "      <td>0</td>\n",
       "      <td>0</td>\n",
       "      <td>0</td>\n",
       "      <td>1</td>\n",
       "      <td>0</td>\n",
       "      <td>0</td>\n",
       "      <td>0</td>\n",
       "      <td>0</td>\n",
       "      <td>0</td>\n",
       "      <td>0</td>\n",
       "      <td>0</td>\n",
       "      <td>0</td>\n",
       "      <td>0</td>\n",
       "      <td>0</td>\n",
       "      <td>0</td>\n",
       "      <td>0</td>\n",
       "      <td>0</td>\n",
       "      <td>0</td>\n",
       "      <td>0</td>\n",
       "      <td>0</td>\n",
       "      <td>0</td>\n",
       "      <td>0</td>\n",
       "      <td>0</td>\n",
       "      <td>0</td>\n",
       "      <td>0</td>\n",
       "      <td>0</td>\n",
       "      <td>0</td>\n",
       "      <td>1</td>\n",
       "      <td>0</td>\n",
       "      <td>0</td>\n",
       "      <td>0</td>\n",
       "      <td>0</td>\n",
       "      <td>0</td>\n",
       "      <td>0</td>\n",
       "      <td>0</td>\n",
       "      <td>0</td>\n",
       "      <td>0</td>\n",
       "      <td>0</td>\n",
       "      <td>0</td>\n",
       "      <td>0</td>\n",
       "      <td>0</td>\n",
       "      <td>0</td>\n",
       "      <td>0</td>\n",
       "      <td>0</td>\n",
       "      <td>0</td>\n",
       "      <td>0</td>\n",
       "      <td>0</td>\n",
       "      <td>0</td>\n",
       "      <td>0</td>\n",
       "      <td>0</td>\n",
       "      <td>0</td>\n",
       "      <td>0</td>\n",
       "      <td>0</td>\n",
       "      <td>0</td>\n",
       "      <td>0</td>\n",
       "      <td>0</td>\n",
       "      <td>0</td>\n",
       "      <td>0</td>\n",
       "      <td>0</td>\n",
       "      <td>0</td>\n",
       "      <td>0</td>\n",
       "      <td>0</td>\n",
       "      <td>0</td>\n",
       "      <td>0</td>\n",
       "      <td>0</td>\n",
       "      <td>0</td>\n",
       "      <td>0</td>\n",
       "      <td>0</td>\n",
       "      <td>0</td>\n",
       "      <td>0</td>\n",
       "      <td>0</td>\n",
       "      <td>0</td>\n",
       "      <td>0</td>\n",
       "      <td>0</td>\n",
       "      <td>0</td>\n",
       "      <td>0</td>\n",
       "      <td>0</td>\n",
       "      <td>0</td>\n",
       "      <td>0</td>\n",
       "      <td>0</td>\n",
       "      <td>0</td>\n",
       "      <td>0</td>\n",
       "      <td>0</td>\n",
       "      <td>0</td>\n",
       "      <td>0</td>\n",
       "      <td>0</td>\n",
       "      <td>0</td>\n",
       "      <td>0</td>\n",
       "      <td>0</td>\n",
       "      <td>0</td>\n",
       "      <td>0</td>\n",
       "      <td>0</td>\n",
       "      <td>0</td>\n",
       "      <td>0</td>\n",
       "      <td>1</td>\n",
       "      <td>0</td>\n",
       "      <td>0</td>\n",
       "      <td>0</td>\n",
       "      <td>0</td>\n",
       "      <td>0</td>\n",
       "      <td>0</td>\n",
       "      <td>0</td>\n",
       "      <td>0</td>\n",
       "      <td>1</td>\n",
       "      <td>0</td>\n",
       "    </tr>\n",
       "  </tbody>\n",
       "</table>\n",
       "</div>"
      ],
      "text/plain": [
       "       ranking  number_of_reviews  rating  cuisine_count  ranking_norm  \\\n",
       "10000   5570.0              194.0     3.5              3      0.911919   \n",
       "10001   1537.0               10.0     4.0              0      1.487899   \n",
       "10002    353.0              688.0     4.5              7      0.049075   \n",
       "10003   3458.0                3.0     5.0              0      1.278373   \n",
       "10004    621.0               84.0     4.0              3      0.542358   \n",
       "\n",
       "       positive_review  negative_review  neutral_review  time_difference  \\\n",
       "10000                1                0               0             41.0   \n",
       "10001                1                0               0            382.0   \n",
       "10002                1                0               1              2.0   \n",
       "10003                0                0               0              0.0   \n",
       "10004                1                0               0            272.0   \n",
       "\n",
       "       days_since_last_review  population   area  population_density  \\\n",
       "10000                  1170.0         2.2  105.0            0.020952   \n",
       "10001                  1348.0         0.4  368.0            0.001087   \n",
       "10002                  1162.0         3.6  891.0            0.004040   \n",
       "10003                     0.0         1.9  755.0            0.002517   \n",
       "10004                  1213.0         1.7  101.0            0.016832   \n",
       "\n",
       "       in_capital  Amsterdam  Athens  Barcelona  Berlin  Bratislava  Brussels  \\\n",
       "10000           1          0       0          0       0           0         0   \n",
       "10001           1          0       0          0       0           0         0   \n",
       "10002           0          0       0          0       0           0         0   \n",
       "10003           1          0       0          0       1           0         0   \n",
       "10004           1          0       0          0       0           0         0   \n",
       "\n",
       "       Budapest  Copenhagen  Dublin  Edinburgh  Geneva  Hamburg  Helsinki  \\\n",
       "10000         0           0       0          0       0        0         0   \n",
       "10001         0           0       0          0       0        0         0   \n",
       "10002         0           0       0          0       0        0         0   \n",
       "10003         0           0       0          0       0        0         0   \n",
       "10004         0           0       0          0       0        0         0   \n",
       "\n",
       "       Krakow  Lisbon  Ljubljana  London  Luxembourg  Lyon  Madrid  Milan  \\\n",
       "10000       0       0          0       0           0     0       0      0   \n",
       "10001       0       0          0       0           0     0       0      0   \n",
       "10002       0       0          0       1           0     0       0      0   \n",
       "10003       0       0          0       0           0     0       0      0   \n",
       "10004       0       0          0       0           0     0       0      0   \n",
       "\n",
       "       Munich  Oporto  Oslo  Paris  Prague  Rome  Stockholm  Vienna  Warsaw  \\\n",
       "10000       0       0     0      1       0     0          0       0       0   \n",
       "10001       0       0     0      0       0     0          1       0       0   \n",
       "10002       0       0     0      0       0     0          0       0       0   \n",
       "10003       0       0     0      0       0     0          0       0       0   \n",
       "10004       1       0     0      0       0     0          0       0       0   \n",
       "\n",
       "       Zurich  afghani  african  albanian  american  arabic  argentinean  \\\n",
       "10000       0        0        0         0         0       0            0   \n",
       "10001       0        0        0         0         0       0            0   \n",
       "10002       0        0        0         0         0       0            0   \n",
       "10003       0        0        0         0         0       0            0   \n",
       "10004       0        0        0         0         0       0            0   \n",
       "\n",
       "       armenian  asian  australian  austrian  azerbaijani  balti  bangladeshi  \\\n",
       "10000         0      0           0         0            0      0            0   \n",
       "10001         0      0           0         0            0      0            0   \n",
       "10002         0      1           0         0            0      0            0   \n",
       "10003         0      0           0         0            0      0            0   \n",
       "10004         0      0           0         0            0      0            0   \n",
       "\n",
       "       bar  barbecue  belgian  brazilian  brew pub  british  burmese  cafe  \\\n",
       "10000    0         0        0          0         0        0        0     0   \n",
       "10001    0         0        0          0         0        0        0     0   \n",
       "10002    0         0        0          0         0        0        0     0   \n",
       "10003    0         0        0          0         0        0        0     0   \n",
       "10004    0         0        0          0         0        0        0     0   \n",
       "\n",
       "       cajun & creole  cambodian  canadian  caribbean  caucasian  \\\n",
       "10000               0          0         0          0          0   \n",
       "10001               0          0         0          0          0   \n",
       "10002               0          0         0          0          0   \n",
       "10003               0          0         0          0          0   \n",
       "10004               0          0         0          0          0   \n",
       "\n",
       "       central american  central asian  central european  chilean  chinese  \\\n",
       "10000                 0              0                 0        0        0   \n",
       "10001                 0              0                 0        0        0   \n",
       "10002                 0              0                 0        0        0   \n",
       "10003                 0              0                 0        0        0   \n",
       "10004                 0              0                 1        0        0   \n",
       "\n",
       "       colombian  contemporary  croatian  cuban  czech  danish  delicatessen  \\\n",
       "10000          0             0         0      0      0       0             0   \n",
       "10001          0             0         0      0      0       0             0   \n",
       "10002          0             0         0      0      0       0             0   \n",
       "10003          0             0         0      0      0       0             0   \n",
       "10004          0             0         0      0      0       0             0   \n",
       "\n",
       "       diner  dutch  eastern european  ecuadorean  egyptian  ethiopian  \\\n",
       "10000      0      0                 0           0         0          0   \n",
       "10001      0      0                 0           0         0          0   \n",
       "10002      0      0                 0           0         0          0   \n",
       "10003      0      0                 0           0         0          0   \n",
       "10004      0      0                 0           0         0          0   \n",
       "\n",
       "       european  fast food  filipino  french  fujian  fusion  gastropub  \\\n",
       "10000         1          0         0       1       0       0          0   \n",
       "10001         0          0         0       0       0       0          0   \n",
       "10002         0          0         0       0       0       0          0   \n",
       "10003         0          0         0       0       0       0          0   \n",
       "10004         0          0         0       0       0       0          0   \n",
       "\n",
       "       georgian  german  gluten free options  greek  grill  halal  hawaiian  \\\n",
       "10000         0       0                    0      0      0      0         0   \n",
       "10001         0       0                    0      0      0      0         0   \n",
       "10002         0       0                    1      0      1      0         0   \n",
       "10003         0       0                    0      0      0      0         0   \n",
       "10004         0       1                    0      0      0      0         0   \n",
       "\n",
       "       healthy  hungarian  indian  indonesian  international  irish  israeli  \\\n",
       "10000        0          0       0           0              1      0        0   \n",
       "10001        0          0       0           0              0      0        0   \n",
       "10002        0          0       0           0              0      0        0   \n",
       "10003        0          0       0           0              0      0        0   \n",
       "10004        0          0       0           0              0      0        0   \n",
       "\n",
       "       italian  jamaican  japanese  korean  kosher  latin  latvian  lebanese  \\\n",
       "10000        0         0         0       0       0      0        0         0   \n",
       "10001        0         0         0       0       0      0        0         0   \n",
       "10002        0         0         1       0       0      0        0         0   \n",
       "10003        0         0         0       0       0      0        0         0   \n",
       "10004        0         0         0       0       0      0        0         0   \n",
       "\n",
       "       malaysian  mediterranean  mexican  middle eastern  minority chinese  \\\n",
       "10000          0              0        0               0                 0   \n",
       "10001          0              0        0               0                 0   \n",
       "10002          0              0        0               0                 0   \n",
       "10003          0              0        0               0                 0   \n",
       "10004          0              0        0               0                 0   \n",
       "\n",
       "       mongolian  moroccan  native american  nepali  new zealand  norwegian  \\\n",
       "10000          0         0                0       0            0          0   \n",
       "10001          0         0                0       0            0          0   \n",
       "10002          0         0                0       0            0          0   \n",
       "10003          0         0                0       0            0          0   \n",
       "10004          0         0                0       0            0          0   \n",
       "\n",
       "       other_cuisine  pakistani  persian  peruvian  pizza  polish  polynesian  \\\n",
       "10000              0          0        0         0      0       0           0   \n",
       "10001              1          0        0         0      0       0           0   \n",
       "10002              0          0        0         0      0       0           0   \n",
       "10003              1          0        0         0      0       0           0   \n",
       "10004              0          0        0         0      0       0           0   \n",
       "\n",
       "       portuguese  pub  romanian  russian  salvadoran  scandinavian  scottish  \\\n",
       "10000           0    0         0        0           0             0         0   \n",
       "10001           0    0         0        0           0             0         0   \n",
       "10002           0    0         0        0           0             0         0   \n",
       "10003           0    0         0        0           0             0         0   \n",
       "10004           0    0         0        0           0             0         0   \n",
       "\n",
       "       seafood  singaporean  slovenian  soups  south american  southwestern  \\\n",
       "10000        0            0          0      0               0             0   \n",
       "10001        0            0          0      0               0             0   \n",
       "10002        0            0          0      0               0             0   \n",
       "10003        0            0          0      0               0             0   \n",
       "10004        0            0          0      0               0             0   \n",
       "\n",
       "       spanish  sri lankan  steakhouse  street food  sushi  swedish  swiss  \\\n",
       "10000        0           0           0            0      0        0      0   \n",
       "10001        0           0           0            0      0        0      0   \n",
       "10002        0           0           0            0      1        0      0   \n",
       "10003        0           0           0            0      0        0      0   \n",
       "10004        0           0           0            0      0        0      0   \n",
       "\n",
       "       taiwanese  thai  tibetan  tunisian  turkish  ukrainian  uzbek  \\\n",
       "10000          0     0        0         0        0          0      0   \n",
       "10001          0     0        0         0        0          0      0   \n",
       "10002          0     0        0         0        0          0      0   \n",
       "10003          0     0        0         0        0          0      0   \n",
       "10004          0     0        0         0        0          0      0   \n",
       "\n",
       "       vegan options  vegetarian friendly  venezuelan  vietnamese  welsh  \\\n",
       "10000              0                    0           0           0      0   \n",
       "10001              0                    0           0           0      0   \n",
       "10002              1                    1           0           0      0   \n",
       "10003              0                    0           0           0      0   \n",
       "10004              0                    1           0           0      0   \n",
       "\n",
       "       wine bar  xinjiang  yunnan  budget  expensive  medium  \\\n",
       "10000         0         0       0       0          0       1   \n",
       "10001         0         0       0       0          0       0   \n",
       "10002         0         0       0       0          1       0   \n",
       "10003         0         0       0       0          0       0   \n",
       "10004         0         0       0       0          0       1   \n",
       "\n",
       "       unspecified_budget  \n",
       "10000                   0  \n",
       "10001                   1  \n",
       "10002                   0  \n",
       "10003                   1  \n",
       "10004                   0  "
      ]
     },
     "execution_count": 81,
     "metadata": {},
     "output_type": "execute_result"
    }
   ],
   "source": [
    "df_model.head()"
   ]
  },
  {
   "cell_type": "markdown",
   "metadata": {},
   "source": [
    "# 4. Model\n",
    "X - independent variable, data set with the information about the restaurants;\n",
    "y - dependant variable, rating of a restaurant, which the model is trying to predict"
   ]
  },
  {
   "cell_type": "code",
   "execution_count": 82,
   "metadata": {},
   "outputs": [],
   "source": [
    "X = df_model.drop(['rating'], axis=1)\n",
    "y = df_model['rating']"
   ]
  },
  {
   "cell_type": "code",
   "execution_count": 83,
   "metadata": {},
   "outputs": [],
   "source": [
    "# X and y train are used for training the model\n",
    "# X and y test are used for validation of the model\n",
    "from sklearn.model_selection import train_test_split\n",
    "X_train, X_test, y_train, y_test = train_test_split(X, y,\n",
    "                                                    test_size=0.25,\n",
    "                                                    random_state=RANDOM_SEED)"
   ]
  },
  {
   "cell_type": "code",
   "execution_count": 84,
   "metadata": {},
   "outputs": [],
   "source": [
    "# Importing:\n",
    "from sklearn.ensemble import RandomForestRegressor  # for creating and training a model\n",
    "from sklearn import metrics  # for assessing model accuracy"
   ]
  },
  {
   "cell_type": "code",
   "execution_count": 85,
   "metadata": {},
   "outputs": [],
   "source": [
    "# Creating the model\n",
    "regr = RandomForestRegressor(n_estimators=100)\n",
    "\n",
    "# Training the model\n",
    "regr.fit(X_train, y_train)\n",
    "\n",
    "# Validating the model by predicting rating for X_test\n",
    "# Saving the values into y_pred\n",
    "y_pred = regr.predict(X_test)"
   ]
  },
  {
   "cell_type": "markdown",
   "metadata": {},
   "source": [
    "In 1.8 it is shown that rating is not continues, so to increase the accuracy the values are rounded to the multipes of 0.5. It appears it has a very positive impact on MAE, reducing it by 0.02 or so:"
   ]
  },
  {
   "cell_type": "code",
   "execution_count": 86,
   "metadata": {},
   "outputs": [],
   "source": [
    "def round_rating_pred(rating_pred):\n",
    "    '''INPUT: a value of the rating\n",
    "    OUTPUT: a value \\'rounded\\' to a multiple of 0.5'''\n",
    "    if rating_pred <= 0.5:\n",
    "        return 0.0\n",
    "    if rating_pred <= 1.5:\n",
    "        return 1.0\n",
    "    if rating_pred <= 1.75:\n",
    "        return 1.5\n",
    "    if rating_pred <= 2.25:\n",
    "        return 2.0\n",
    "    if rating_pred <= 2.75:\n",
    "        return 2.5\n",
    "    if rating_pred <= 3.25:\n",
    "        return 3.0\n",
    "    if rating_pred <= 3.75:\n",
    "        return 3.5\n",
    "    if rating_pred <= 4.25:\n",
    "        return 4.0\n",
    "    if rating_pred <= 4.75:\n",
    "        return 4.5\n",
    "    return 5.0\n",
    "\n",
    "for i in range(len(y_pred)):\n",
    "    y_pred[i] = round_rating_pred(y_pred[i])"
   ]
  },
  {
   "cell_type": "code",
   "execution_count": 87,
   "metadata": {},
   "outputs": [
    {
     "name": "stdout",
     "output_type": "stream",
     "text": [
      "MAE: 0.17475\n"
     ]
    }
   ],
   "source": [
    "# Compares the y_pred and y_test, showing the mean absolute error\n",
    "# between the two values\n",
    "print('MAE:', metrics.mean_absolute_error(y_test, y_pred))"
   ]
  },
  {
   "cell_type": "code",
   "execution_count": 88,
   "metadata": {},
   "outputs": [
    {
     "data": {
      "text/plain": [
       "<matplotlib.axes._subplots.AxesSubplot at 0x13ddf490>"
      ]
     },
     "execution_count": 88,
     "metadata": {},
     "output_type": "execute_result"
    },
    {
     "data": {
      "image/png": "[encoded data removed]",
      "text/plain": [
       "<Figure size 720x720 with 1 Axes>"
      ]
     },
     "metadata": {},
     "output_type": "display_data"
    }
   ],
   "source": [
    "# Shows which values have the most impact on the prediction\n",
    "plt.rcParams['figure.figsize'] = (10, 10)\n",
    "feat_importances = pd.Series(regr.feature_importances_, index=X.columns)\n",
    "feat_importances.nlargest(15).plot(kind='barh')"
   ]
  },
  {
   "cell_type": "markdown",
   "metadata": {},
   "source": [
    "# 5. Applying the model and submitting the result\n",
    "Repeating the process done with the training DF and submitting the result#\n"
   ]
  },
  {
   "cell_type": "code",
   "execution_count": 89,
   "metadata": {},
   "outputs": [
    {
     "data": {
      "text/html": [
       "<div>\n",
       "<style scoped>\n",
       "    .dataframe tbody tr th:only-of-type {\n",
       "        vertical-align: middle;\n",
       "    }\n",
       "\n",
       "    .dataframe tbody tr th {\n",
       "        vertical-align: top;\n",
       "    }\n",
       "\n",
       "    .dataframe thead th {\n",
       "        text-align: right;\n",
       "    }\n",
       "</style>\n",
       "<table border=\"1\" class=\"dataframe\">\n",
       "  <thead>\n",
       "    <tr style=\"text-align: right;\">\n",
       "      <th></th>\n",
       "      <th>Restaurant_id</th>\n",
       "      <th>Rating</th>\n",
       "    </tr>\n",
       "  </thead>\n",
       "  <tbody>\n",
       "    <tr>\n",
       "      <th>0</th>\n",
       "      <td>id_0</td>\n",
       "      <td>2.0</td>\n",
       "    </tr>\n",
       "    <tr>\n",
       "      <th>1</th>\n",
       "      <td>id_1</td>\n",
       "      <td>2.5</td>\n",
       "    </tr>\n",
       "    <tr>\n",
       "      <th>2</th>\n",
       "      <td>id_2</td>\n",
       "      <td>4.0</td>\n",
       "    </tr>\n",
       "    <tr>\n",
       "      <th>3</th>\n",
       "      <td>id_3</td>\n",
       "      <td>1.0</td>\n",
       "    </tr>\n",
       "    <tr>\n",
       "      <th>4</th>\n",
       "      <td>id_4</td>\n",
       "      <td>4.0</td>\n",
       "    </tr>\n",
       "    <tr>\n",
       "      <th>...</th>\n",
       "      <td>...</td>\n",
       "      <td>...</td>\n",
       "    </tr>\n",
       "    <tr>\n",
       "      <th>9995</th>\n",
       "      <td>id_9995</td>\n",
       "      <td>3.0</td>\n",
       "    </tr>\n",
       "    <tr>\n",
       "      <th>9996</th>\n",
       "      <td>id_9996</td>\n",
       "      <td>1.5</td>\n",
       "    </tr>\n",
       "    <tr>\n",
       "      <th>9997</th>\n",
       "      <td>id_9997</td>\n",
       "      <td>4.5</td>\n",
       "    </tr>\n",
       "    <tr>\n",
       "      <th>9998</th>\n",
       "      <td>id_9998</td>\n",
       "      <td>1.0</td>\n",
       "    </tr>\n",
       "    <tr>\n",
       "      <th>9999</th>\n",
       "      <td>id_9999</td>\n",
       "      <td>2.5</td>\n",
       "    </tr>\n",
       "  </tbody>\n",
       "</table>\n",
       "<p>10000 rows × 2 columns</p>\n",
       "</div>"
      ],
      "text/plain": [
       "     Restaurant_id  Rating\n",
       "0             id_0     2.0\n",
       "1             id_1     2.5\n",
       "2             id_2     4.0\n",
       "3             id_3     1.0\n",
       "4             id_4     4.0\n",
       "...            ...     ...\n",
       "9995       id_9995     3.0\n",
       "9996       id_9996     1.5\n",
       "9997       id_9997     4.5\n",
       "9998       id_9998     1.0\n",
       "9999       id_9999     2.5\n",
       "\n",
       "[10000 rows x 2 columns]"
      ]
     },
     "execution_count": 89,
     "metadata": {},
     "output_type": "execute_result"
    }
   ],
   "source": [
    "sample_submission"
   ]
  },
  {
   "cell_type": "code",
   "execution_count": 90,
   "metadata": {},
   "outputs": [],
   "source": [
    "final_df = df.loc[df['sample'] == 0]"
   ]
  },
  {
   "cell_type": "code",
   "execution_count": 91,
   "metadata": {},
   "outputs": [],
   "source": [
    "final_df = final_df.drop('rating', axis=1)"
   ]
  },
  {
   "cell_type": "code",
   "execution_count": 92,
   "metadata": {},
   "outputs": [],
   "source": [
    "final_df = final_df.drop(to_drop, axis=1)\n",
    "final_df = final_df.drop(negative_impact, axis=1)"
   ]
  },
  {
   "cell_type": "code",
   "execution_count": 93,
   "metadata": {},
   "outputs": [
    {
     "data": {
      "text/plain": [
       "(10000, 13)"
      ]
     },
     "execution_count": 93,
     "metadata": {},
     "output_type": "execute_result"
    }
   ],
   "source": [
    "np.shape(final_df)"
   ]
  },
  {
   "cell_type": "code",
   "execution_count": 94,
   "metadata": {},
   "outputs": [],
   "source": [
    "final_df = final_df.merge(city_dummies, left_index=True, right_index=True)\n",
    "final_df = final_df.merge(cuisine_dummies, left_index=True, right_index=True)\n",
    "final_df = final_df.merge(prices_dummies, left_index=True, right_index=True)"
   ]
  },
  {
   "cell_type": "code",
   "execution_count": 95,
   "metadata": {},
   "outputs": [
    {
     "data": {
      "text/plain": [
       "(10000, 174)"
      ]
     },
     "execution_count": 95,
     "metadata": {},
     "output_type": "execute_result"
    }
   ],
   "source": [
    "np.shape(final_df)"
   ]
  },
  {
   "cell_type": "code",
   "execution_count": 96,
   "metadata": {},
   "outputs": [],
   "source": [
    "predict_submission = regr.predict(final_df)\n",
    "for i in range(len(predict_submission)):\n",
    "    predict_submission[i] = round_rating_pred(predict_submission[i])"
   ]
  },
  {
   "cell_type": "code",
   "execution_count": 97,
   "metadata": {},
   "outputs": [
    {
     "data": {
      "text/plain": [
       "array([3. , 4.5, 4.5, ..., 3. , 4.5, 4.5])"
      ]
     },
     "execution_count": 97,
     "metadata": {},
     "output_type": "execute_result"
    }
   ],
   "source": [
    "predict_submission"
   ]
  },
  {
   "cell_type": "code",
   "execution_count": 98,
   "metadata": {},
   "outputs": [],
   "source": [
    "sample_submission['Rating'] = predict_submission"
   ]
  },
  {
   "cell_type": "code",
   "execution_count": 99,
   "metadata": {},
   "outputs": [
    {
     "data": {
      "text/html": [
       "<div>\n",
       "<style scoped>\n",
       "    .dataframe tbody tr th:only-of-type {\n",
       "        vertical-align: middle;\n",
       "    }\n",
       "\n",
       "    .dataframe tbody tr th {\n",
       "        vertical-align: top;\n",
       "    }\n",
       "\n",
       "    .dataframe thead th {\n",
       "        text-align: right;\n",
       "    }\n",
       "</style>\n",
       "<table border=\"1\" class=\"dataframe\">\n",
       "  <thead>\n",
       "    <tr style=\"text-align: right;\">\n",
       "      <th></th>\n",
       "      <th>Restaurant_id</th>\n",
       "      <th>Rating</th>\n",
       "    </tr>\n",
       "  </thead>\n",
       "  <tbody>\n",
       "    <tr>\n",
       "      <th>0</th>\n",
       "      <td>id_0</td>\n",
       "      <td>3.0</td>\n",
       "    </tr>\n",
       "    <tr>\n",
       "      <th>1</th>\n",
       "      <td>id_1</td>\n",
       "      <td>4.5</td>\n",
       "    </tr>\n",
       "    <tr>\n",
       "      <th>2</th>\n",
       "      <td>id_2</td>\n",
       "      <td>4.5</td>\n",
       "    </tr>\n",
       "    <tr>\n",
       "      <th>3</th>\n",
       "      <td>id_3</td>\n",
       "      <td>4.5</td>\n",
       "    </tr>\n",
       "    <tr>\n",
       "      <th>4</th>\n",
       "      <td>id_4</td>\n",
       "      <td>4.5</td>\n",
       "    </tr>\n",
       "    <tr>\n",
       "      <th>...</th>\n",
       "      <td>...</td>\n",
       "      <td>...</td>\n",
       "    </tr>\n",
       "    <tr>\n",
       "      <th>9995</th>\n",
       "      <td>id_9995</td>\n",
       "      <td>4.5</td>\n",
       "    </tr>\n",
       "    <tr>\n",
       "      <th>9996</th>\n",
       "      <td>id_9996</td>\n",
       "      <td>4.0</td>\n",
       "    </tr>\n",
       "    <tr>\n",
       "      <th>9997</th>\n",
       "      <td>id_9997</td>\n",
       "      <td>3.0</td>\n",
       "    </tr>\n",
       "    <tr>\n",
       "      <th>9998</th>\n",
       "      <td>id_9998</td>\n",
       "      <td>4.5</td>\n",
       "    </tr>\n",
       "    <tr>\n",
       "      <th>9999</th>\n",
       "      <td>id_9999</td>\n",
       "      <td>4.5</td>\n",
       "    </tr>\n",
       "  </tbody>\n",
       "</table>\n",
       "<p>10000 rows × 2 columns</p>\n",
       "</div>"
      ],
      "text/plain": [
       "     Restaurant_id  Rating\n",
       "0             id_0     3.0\n",
       "1             id_1     4.5\n",
       "2             id_2     4.5\n",
       "3             id_3     4.5\n",
       "4             id_4     4.5\n",
       "...            ...     ...\n",
       "9995       id_9995     4.5\n",
       "9996       id_9996     4.0\n",
       "9997       id_9997     3.0\n",
       "9998       id_9998     4.5\n",
       "9999       id_9999     4.5\n",
       "\n",
       "[10000 rows x 2 columns]"
      ]
     },
     "execution_count": 99,
     "metadata": {},
     "output_type": "execute_result"
    }
   ],
   "source": [
    "sample_submission"
   ]
  },
  {
   "cell_type": "markdown",
   "metadata": {},
   "source": [
    "# Analysis of my work\n",
    "## General look\n",
    "There were plenty of expected and unexpected results. Feature Engineering provided to be the hardest aspect of this task, as well as I discovered some interesting methods to working with given data. Certain things came up from random mistakes(e.g. keeping both the ranking and normalised ranking columns).\n",
    "## Potential Improvements\n",
    "Over the course of the task, I didn't manage to use the entirety of the data given - I wish I could use the most popular cuisine per city, or improve the review analysis code, potentially adding machine learning to analyse the sentiment, yet I did not have enough time. I would also like to improve visual representation of the code, making it more structural, and potentially adding classes, but I was not confident enough in my own ability to work with them, so I decided to stick to the conventional code and convetional functions. The code could also be improved by adding a few extra functions, and possibly the acuracy of the model can be improved by dropping some columns that have little to no impact on the MAE. Decreacing the boundary for correlations might also increase the accuracy of the model.\n",
    "## Things I Liked About My Model\n",
    "My initial goal was to break the barrier of 0.2, which I managed to do, ending up with MAE of 0.1753. One of the most unpected things was the effect rounding had on MAE, changing it by 0.02, which was one of the biggest jumps in this value. I also did not expect the status of a capital to have any effect on MAE, but apparently it was more important than I initially expected. During one of the tests, I forgot to drop the ranking column, and I figured out that ranking and normalised ranking both helped the model to increase the accuracy."
   ]
  },
  {
   "cell_type": "code",
   "execution_count": 100,
   "metadata": {},
   "outputs": [],
   "source": [
    "sample_submission.to_csv('submission.csv', index=False)"
   ]
  }
 ],
 "metadata": {
  "kernelspec": {
   "display_name": "Python 3",
   "language": "python",
   "name": "python3"
  },
  "language_info": {
   "codemirror_mode": {
    "name": "ipython",
    "version": 3
   },
   "file_extension": ".py",
   "mimetype": "text/x-python",
   "name": "python",
   "nbconvert_exporter": "python",
   "pygments_lexer": "ipython3",
   "version": "3.8.3"
  }
 },
 "nbformat": 4,
 "nbformat_minor": 4
}
