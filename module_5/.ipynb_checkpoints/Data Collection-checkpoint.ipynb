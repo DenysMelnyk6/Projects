{
 "cells": [
  {
   "cell_type": "code",
   "execution_count": 1,
   "metadata": {},
   "outputs": [],
   "source": [
    "import requests\n",
    "import pandas as pd\n",
    "from bs4 import BeautifulSoup\n",
    "import time"
   ]
  },
  {
   "cell_type": "code",
   "execution_count": 2,
   "metadata": {},
   "outputs": [],
   "source": [
    "def get_cars(url, starting_page=1, page_lim=5):\n",
    "    global df_train\n",
    "    rows = []\n",
    "    for i in range(starting_page, page_lim+1):\n",
    "        param = {'page':i}\n",
    "        response = requests.get(url, param)\n",
    "        cars = BeautifulSoup(response.text, 'html.parser')\n",
    "        list_of_cars = cars.find_all('div',\n",
    "                                     class_='ListingItemSequential-module__container')\n",
    "        car_links = list(\n",
    "            map(\n",
    "                lambda x: x.find(\n",
    "                    'div',\n",
    "                    class_='ListingItemSequential-module__summaryLeft'\n",
    "                ).a.get('href'), list_of_cars\n",
    "            )\n",
    "        )\n",
    "    \n",
    "        for link in car_links:\n",
    "            time.sleep(0.2)\n",
    "            response = requests.get(link)\n",
    "            response.encoding = 'utf-8'\n",
    "            car = BeautifulSoup(response.text, 'html.parser')\n",
    "            table = car.find(class_='CardInfo')\n",
    "            try:\n",
    "                model_link = car.find('a', class_='CardCatalogLink').get('href')\n",
    "            except:\n",
    "                continue\n",
    "            try:\n",
    "                specific_car = {'production_date': [table.find('li', class_='CardInfoRow_year').a.text],\n",
    "                            'mileage': [table.find('li', class_='CardInfoRow_kmAge').text],\n",
    "                            'carconfig': [table.find('li', class_='CardInfoRow_bodytype').a.text],\n",
    "                            'colour': [table.find('li', class_='CardInfoRow_color').a.text],\n",
    "                            'transmission': [table.find('li', class_='CardInfoRow_transmission').text],\n",
    "                            'drive_unit': [table.find('li', class_='CardInfoRow_drive').text],\n",
    "                            'wheel': [table.find('li', class_='CardInfoRow_wheel').text],\n",
    "                            'condition': [table.find('li', class_='CardInfoRow_state').text],\n",
    "                            'licence': [table.find('li', class_='CardInfoRow_pts').text],\n",
    "                            'customs': [table.find('li', class_='CardInfoRow CardInfoRow_customs').text]}\n",
    "            except:\n",
    "                continue\n",
    "            model = requests.get(model_link)\n",
    "            model.encoding = 'utf-8'\n",
    "            model_info = BeautifulSoup(model.text, 'html.parser')\n",
    "            tables = model_info.find_all('dl', class_='list-values')\n",
    "            \n",
    "            specific_car['model_name'] = model_info.find('div', class_='search-form-v2-mmm__breadcrumbs'\n",
    "                                                        ).find_all('a')[1].text\n",
    "            specific_car['model_date'] = model_info.find('div', class_='search-form-v2-mmm__breadcrumbs'\n",
    "                                                        ).find_all('a')[2].text\n",
    "            for listed in tables:\n",
    "                time.sleep(0.1)\n",
    "                k = len(listed.find_all('dt'))\n",
    "                for i in range(0, k):\n",
    "                    name = listed.find_all('dt')[i].text\n",
    "                    value = listed.find_all('dd')[i].text\n",
    "                    specific_car[name] = value\n",
    "                \n",
    "            try:\n",
    "                specific_car['price'] = [car.find('span', class_='OfferPriceCaption__price').text]\n",
    "            except:\n",
    "                continue\n",
    "            try:\n",
    "                specific_car['brand'] = model_info.find('div', class_='search-form-v2-mmm__breadcrumbs'\n",
    "                                                       ).find_all('a')[0].text\n",
    "            except:\n",
    "                specific_car['brand'] = None\n",
    "            try:\n",
    "                specific_car['engine'] = table.find('li', class_='CardInfoRow_engine').find('div').text\n",
    "            except:\n",
    "                specific_car['engine'] = None\n",
    "            if str(type(table.find('li', class_='CardInfoRow_ownersCount'))) == \"<class 'bs4.element.Tag'>\":\n",
    "                specific_car['owners'] = table.find('li', class_='CardInfoRow_ownersCount').text\n",
    "            else:\n",
    "                specific_car['owners'] = None    \n",
    "            if str(type(table.find('li', class_='CardInfoRow_owningTime'))) == \"<class 'bs4.element.Tag'>\":\n",
    "                specific_car['age'] = table.find('li', class_='CardInfoRow_owningTime').text\n",
    "            else:\n",
    "                specific_car['age'] = None\n",
    "            df = pd.DataFrame.from_dict(specific_car)\n",
    "            rows.append(df)\n",
    "    df_train = pd.concat(rows)\n",
    "    return df_train"
   ]
  },
  {
   "cell_type": "code",
   "execution_count": 3,
   "metadata": {},
   "outputs": [],
   "source": [
    "df_1 = get_cars('https://auto.ru/cars/used/?year_to=2020&output_type=table',\n",
    "                1,\n",
    "                30)"
   ]
  },
  {
   "cell_type": "code",
   "execution_count": 4,
   "metadata": {},
   "outputs": [],
   "source": [
    "df_2 = get_cars('https://auto.ru/cars/used/?year_to=2020&output_type=table',\n",
    "                40,\n",
    "                50)"
   ]
  },
  {
   "cell_type": "code",
   "execution_count": 6,
   "metadata": {},
   "outputs": [],
   "source": [
    "df_3 = get_cars('https://auto.ru/cars/used/?year_to=2020&output_type=table',\n",
    "                50,\n",
    "                60)"
   ]
  },
  {
   "cell_type": "code",
   "execution_count": 7,
   "metadata": {},
   "outputs": [],
   "source": [
    "df_4 = get_cars('https://auto.ru/cars/used/?year_to=2020&output_type=table',\n",
    "                60,\n",
    "                70)"
   ]
  },
  {
   "cell_type": "code",
   "execution_count": 8,
   "metadata": {},
   "outputs": [],
   "source": [
    "df_5 = get_cars('https://auto.ru/cars/used/?year_to=2020&output_type=table',\n",
    "                70,\n",
    "                80)"
   ]
  },
  {
   "cell_type": "code",
   "execution_count": 9,
   "metadata": {},
   "outputs": [],
   "source": [
    "df_6 = get_cars('https://auto.ru/cars/used/?year_to=2020&output_type=table',\n",
    "                80,\n",
    "                90)"
   ]
  },
  {
   "cell_type": "code",
   "execution_count": null,
   "metadata": {},
   "outputs": [],
   "source": [
    "df_train = pd.concat([df_1, df_2, df_3, df_4, df_5, df_6])"
   ]
  },
  {
   "cell_type": "code",
   "execution_count": null,
   "metadata": {},
   "outputs": [],
   "source": [
    "df_train = df_train.loc[~df_train.engine.isna()]"
   ]
  },
  {
   "cell_type": "code",
   "execution_count": null,
   "metadata": {},
   "outputs": [],
   "source": [
    "df_train = df_train.reset_index().drop('index', axis = 1)"
   ]
  },
  {
   "cell_type": "code",
   "execution_count": null,
   "metadata": {},
   "outputs": [],
   "source": [
    "df_train['mileage'] = df_train.mileage.apply(lambda x: x.replace('Пробег', ''))\n",
    "df_train['mileage'] = df_train.mileage.apply(lambda x: x.replace('км', ''))\n",
    "df_train['mileage'] = df_train.mileage.apply(\n",
    "    lambda x: int(x.replace(u'\\xa0', ''))\n",
    ")"
   ]
  },
  {
   "cell_type": "code",
   "execution_count": null,
   "metadata": {},
   "outputs": [],
   "source": [
    "df_train['engine'] = df_train.engine.apply(lambda x: x.split('/'))\n",
    "df_train['engine_displacement'] = df_train.engine.apply(lambda x: (x[0]))\n",
    "df_train['engine_displacement'] = df_train.engine_displacement.apply(\n",
    "    lambda x: (x.replace('л', 'LTR')))\n",
    "\n",
    "df_train['engine_displacement'] = df_train.engine_displacement.apply(\n",
    "    lambda x: (x.replace('кВт', 'kW')))\n",
    "\n",
    "df_train['power'] = df_train.engine.apply(\n",
    "    lambda x: int(x[1].replace(u'\\xa0л.с.', '')))\n",
    "df_train['fuel_type'] = df_train.engine.apply(lambda x: x[2])\n",
    "df_train = df_train.drop('engine', axis=1)"
   ]
  },
  {
   "cell_type": "code",
   "execution_count": null,
   "metadata": {
    "scrolled": true
   },
   "outputs": [],
   "source": [
    "df_train.transmission = df_train.transmission.apply(\n",
    "    lambda x: x.replace('Коробка', ''))\n",
    "\n",
    "df_train.wheel = df_train.wheel.apply(\n",
    "    lambda x: x.replace('Руль', ''))\n",
    "\n",
    "df_train.condition = df_train.condition.apply(\n",
    "    lambda x: x.replace('Состояние', ''))\n",
    "\n",
    "df_train.loc[~(df_train.owners.isna()), \"owners\"] = df_train.loc[\n",
    "    ~(df_train.owners.isna()), \"owners\"].apply(\n",
    "    lambda x: x.replace('Владельцы', ''))\n",
    "\n",
    "df_train.licence = df_train.licence.apply(\n",
    "    lambda x: x.replace('ПТС', ''))\n",
    "\n",
    "df_train.customs = df_train.customs.apply(\n",
    "    lambda x: x.replace('Таможня', ''))\n",
    "\n",
    "df_train.drive_unit = df_train.drive_unit.apply(\n",
    "    lambda x: x.replace('Привод', ''))"
   ]
  },
  {
   "cell_type": "code",
   "execution_count": null,
   "metadata": {
    "scrolled": true
   },
   "outputs": [],
   "source": [
    "def clear_price(price):\n",
    "    if type(price) == int:\n",
    "        return price\n",
    "    else:\n",
    "        price = price.replace('₽', '')\n",
    "        price = int(price.replace(u'\\xa0', ''))\n",
    "        return price\n",
    "df_train.price = df_train.price.apply(clear_price)"
   ]
  },
  {
   "cell_type": "code",
   "execution_count": null,
   "metadata": {},
   "outputs": [],
   "source": [
    "not_empty = df_train.loc[(df_train.age.isna() == False)].index\n",
    "df_train.loc[not_empty, 'age'] = df_train.iloc[not_empty].age.apply(\n",
    "    (lambda x: x.replace('Владение', '')))"
   ]
  },
  {
   "cell_type": "code",
   "execution_count": null,
   "metadata": {},
   "outputs": [],
   "source": [
    "df_train['number_of_doors'] = df_train['Количество дверей']\n",
    "df_train = df_train.drop('Количество дверей', axis=1)"
   ]
  },
  {
   "cell_type": "code",
   "execution_count": null,
   "metadata": {
    "scrolled": false
   },
   "outputs": [],
   "source": [
    "df_train = df_train[\n",
    "    (df_train['condition'] == 'Не требует ремонта') &\n",
    "    (df_train['customs'] == 'Растаможен')\n",
    "]\n",
    "df_train = df_train.drop(['condition', 'customs'], axis=1)\n",
    "df_train.head()"
   ]
  },
  {
   "cell_type": "code",
   "execution_count": null,
   "metadata": {},
   "outputs": [],
   "source": [
    "columns_to_keep = ['production_date', 'mileage', 'model_date',\n",
    "                   'carconfig', 'colour', 'transmission',\n",
    "                   'drive_unit', 'wheel', 'owners',\n",
    "                   'licence', 'brand', 'model_name',\n",
    "                   'age', 'engine_displacement',\n",
    "                   'power', 'fuel_type', 'number_of_doors',\n",
    "                   'price']"
   ]
  },
  {
   "cell_type": "code",
   "execution_count": null,
   "metadata": {},
   "outputs": [],
   "source": [
    "df_train = df_train[columns_to_keep]\n",
    "df_train['test'] = 0"
   ]
  },
  {
   "cell_type": "code",
   "execution_count": null,
   "metadata": {
    "scrolled": false
   },
   "outputs": [],
   "source": [
    "df_train"
   ]
  },
  {
   "cell_type": "code",
   "execution_count": null,
   "metadata": {},
   "outputs": [],
   "source": [
    "df_train.to_csv('train.csv', index=True)"
   ]
  },
  {
   "cell_type": "code",
   "execution_count": null,
   "metadata": {},
   "outputs": [],
   "source": []
  },
  {
   "cell_type": "code",
   "execution_count": null,
   "metadata": {},
   "outputs": [],
   "source": []
  }
 ],
 "metadata": {
  "kernelspec": {
   "display_name": "Python 3",
   "language": "python",
   "name": "python3"
  },
  "language_info": {
   "codemirror_mode": {
    "name": "ipython",
    "version": 3
   },
   "file_extension": ".py",
   "mimetype": "text/x-python",
   "name": "python",
   "nbconvert_exporter": "python",
   "pygments_lexer": "ipython3",
   "version": "3.8.3"
  }
 },
 "nbformat": 4,
 "nbformat_minor": 4
}
